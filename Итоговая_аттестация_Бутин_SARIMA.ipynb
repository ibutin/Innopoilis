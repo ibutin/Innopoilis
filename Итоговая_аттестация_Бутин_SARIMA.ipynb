{
  "cells": [
    {
      "cell_type": "markdown",
      "metadata": {
        "id": "view-in-github",
        "colab_type": "text"
      },
      "source": [
        "<a href=\"https://colab.research.google.com/github/ibutin/Innopoilis/blob/main/%D0%98%D1%82%D0%BE%D0%B3%D0%BE%D0%B2%D0%B0%D1%8F_%D0%B0%D1%82%D1%82%D0%B5%D1%81%D1%82%D0%B0%D1%86%D0%B8%D1%8F_%D0%91%D1%83%D1%82%D0%B8%D0%BD_SARIMA.ipynb\" target=\"_parent\"><img src=\"https://colab.research.google.com/assets/colab-badge.svg\" alt=\"Open In Colab\"/></a>"
      ]
    },
    {
      "cell_type": "markdown",
      "metadata": {
        "id": "qJ4MyZrUF6SI"
      },
      "source": [
        "## Введение. Постановка целей и задач"
      ]
    },
    {
      "cell_type": "markdown",
      "source": [
        "Цель этой аттестационной работы - попытаться предсказать поведение акций компании Coca-Cola в следующие 12 мес для принятия решения о среднесрочном инвестировании свободных средств для получения дохода выше депозитного дохода."
      ],
      "metadata": {
        "id": "nLxQwx4F0ba4"
      }
    },
    {
      "cell_type": "markdown",
      "metadata": {
        "id": "fsEnvXWXUe2z"
      },
      "source": [
        "### Импорт Датафрейма, библиотек, написание функций."
      ]
    },
    {
      "cell_type": "markdown",
      "metadata": {
        "id": "otOFZm6dUexQ"
      },
      "source": [
        "В этом блоке мы импортируем все, что нам нужно для работы: библиотеки, отдельные функции, сам датасет."
      ]
    },
    {
      "cell_type": "code",
      "execution_count": null,
      "metadata": {
        "id": "LBFrQBHzHCtM",
        "outputId": "f103ba08-efcb-4879-b606-790527795aab",
        "colab": {
          "base_uri": "https://localhost:8080/"
        }
      },
      "outputs": [
        {
          "output_type": "stream",
          "name": "stdout",
          "text": [
            "Collecting pmdarima\n",
            "  Downloading pmdarima-1.8.5-cp37-cp37m-manylinux_2_17_x86_64.manylinux2014_x86_64.manylinux_2_24_x86_64.whl (1.4 MB)\n",
            "\u001b[K     |████████████████████████████████| 1.4 MB 5.3 MB/s \n",
            "\u001b[?25hRequirement already satisfied: joblib>=0.11 in /usr/local/lib/python3.7/dist-packages (from pmdarima) (1.1.0)\n",
            "Requirement already satisfied: scipy>=1.3.2 in /usr/local/lib/python3.7/dist-packages (from pmdarima) (1.4.1)\n",
            "Requirement already satisfied: setuptools!=50.0.0,>=38.6.0 in /usr/local/lib/python3.7/dist-packages (from pmdarima) (57.4.0)\n",
            "Collecting statsmodels!=0.12.0,>=0.11\n",
            "  Downloading statsmodels-0.13.2-cp37-cp37m-manylinux_2_17_x86_64.manylinux2014_x86_64.whl (9.8 MB)\n",
            "\u001b[K     |████████████████████████████████| 9.8 MB 10.5 MB/s \n",
            "\u001b[?25hRequirement already satisfied: Cython!=0.29.18,>=0.29 in /usr/local/lib/python3.7/dist-packages (from pmdarima) (0.29.28)\n",
            "Requirement already satisfied: numpy>=1.19.3 in /usr/local/lib/python3.7/dist-packages (from pmdarima) (1.21.5)\n",
            "Requirement already satisfied: scikit-learn>=0.22 in /usr/local/lib/python3.7/dist-packages (from pmdarima) (1.0.2)\n",
            "Requirement already satisfied: pandas>=0.19 in /usr/local/lib/python3.7/dist-packages (from pmdarima) (1.3.5)\n",
            "Requirement already satisfied: urllib3 in /usr/local/lib/python3.7/dist-packages (from pmdarima) (1.24.3)\n",
            "Requirement already satisfied: pytz>=2017.3 in /usr/local/lib/python3.7/dist-packages (from pandas>=0.19->pmdarima) (2018.9)\n",
            "Requirement already satisfied: python-dateutil>=2.7.3 in /usr/local/lib/python3.7/dist-packages (from pandas>=0.19->pmdarima) (2.8.2)\n",
            "Requirement already satisfied: six>=1.5 in /usr/local/lib/python3.7/dist-packages (from python-dateutil>=2.7.3->pandas>=0.19->pmdarima) (1.15.0)\n",
            "Requirement already satisfied: threadpoolctl>=2.0.0 in /usr/local/lib/python3.7/dist-packages (from scikit-learn>=0.22->pmdarima) (3.1.0)\n",
            "Requirement already satisfied: patsy>=0.5.2 in /usr/local/lib/python3.7/dist-packages (from statsmodels!=0.12.0,>=0.11->pmdarima) (0.5.2)\n",
            "Requirement already satisfied: packaging>=21.3 in /usr/local/lib/python3.7/dist-packages (from statsmodels!=0.12.0,>=0.11->pmdarima) (21.3)\n",
            "Requirement already satisfied: pyparsing!=3.0.5,>=2.0.2 in /usr/local/lib/python3.7/dist-packages (from packaging>=21.3->statsmodels!=0.12.0,>=0.11->pmdarima) (3.0.7)\n",
            "Installing collected packages: statsmodels, pmdarima\n",
            "  Attempting uninstall: statsmodels\n",
            "    Found existing installation: statsmodels 0.10.2\n",
            "    Uninstalling statsmodels-0.10.2:\n",
            "      Successfully uninstalled statsmodels-0.10.2\n",
            "Successfully installed pmdarima-1.8.5 statsmodels-0.13.2\n"
          ]
        }
      ],
      "source": [
        "!pip install pmdarima"
      ]
    },
    {
      "cell_type": "code",
      "source": [
        "## Здесь импортируем библиотеки и функции \n",
        "import pandas as pd\n",
        "import numpy as np\n",
        "%matplotlib inline\n",
        "\n",
        "# импорт SARIMAX \n",
        "from statsmodels.tsa.statespace.sarimax import SARIMAX\n",
        "\n",
        "from statsmodels.graphics.tsaplots import plot_acf,plot_pacf # для определения (p,q) \n",
        "from statsmodels.tsa.seasonal import seasonal_decompose      # для ETS графиков\n",
        "from pmdarima import auto_arima                              # для поиска ARIMA моделей\n",
        "\n",
        "# метрики\n",
        "from sklearn.metrics import mean_squared_error\n",
        "from statsmodels.tools.eval_measures import rmse\n",
        "\n",
        "# для игнорирования предупреждений (опционально)\n",
        "import warnings\n",
        "warnings.filterwarnings(\"ignore\")"
      ],
      "metadata": {
        "id": "25cSYRT6Hg1K"
      },
      "execution_count": null,
      "outputs": []
    },
    {
      "cell_type": "markdown",
      "source": [
        "Импортируем данные - из моего репозитория GitHub куда подгрузили датасет заранее"
      ],
      "metadata": {
        "id": "6BT7F-ciT5mB"
      }
    },
    {
      "cell_type": "code",
      "source": [
        "url = 'https://raw.githubusercontent.com/ibutin/Innopoilis/main/COCO%20COLA.csv'"
      ],
      "metadata": {
        "id": "xzsaZyh6T3Hg"
      },
      "execution_count": null,
      "outputs": []
    },
    {
      "cell_type": "code",
      "source": [
        "## Здесь импортируем данные.\n",
        "df = pd.read_csv(url)"
      ],
      "metadata": {
        "id": "axBvMsJuGdtr"
      },
      "execution_count": null,
      "outputs": []
    },
    {
      "cell_type": "markdown",
      "metadata": {
        "id": "plIXeY2aUeuv"
      },
      "source": [
        "### Знакомство с данными."
      ]
    },
    {
      "cell_type": "markdown",
      "metadata": {
        "id": "2CFkHRlGUerR"
      },
      "source": [
        "Этот блок посвящен первоначальному знакомству с данными\n",
        "\n",
        "Наша задача - посмотреть на данные методами .info(), а также изучить их визуально.\n"
      ]
    },
    {
      "cell_type": "code",
      "source": [
        "df.info()"
      ],
      "metadata": {
        "colab": {
          "base_uri": "https://localhost:8080/"
        },
        "id": "4xp0cp55KhPc",
        "outputId": "4bc34c14-983a-415b-e95b-844037488845"
      },
      "execution_count": null,
      "outputs": [
        {
          "output_type": "stream",
          "name": "stdout",
          "text": [
            "<class 'pandas.core.frame.DataFrame'>\n",
            "RangeIndex: 15096 entries, 0 to 15095\n",
            "Data columns (total 7 columns):\n",
            " #   Column     Non-Null Count  Dtype  \n",
            "---  ------     --------------  -----  \n",
            " 0   Date       15096 non-null  object \n",
            " 1   Open       15096 non-null  float64\n",
            " 2   High       15096 non-null  float64\n",
            " 3   Low        15096 non-null  float64\n",
            " 4   Close      15096 non-null  float64\n",
            " 5   Adj Close  15096 non-null  float64\n",
            " 6   Volume     15096 non-null  int64  \n",
            "dtypes: float64(5), int64(1), object(1)\n",
            "memory usage: 825.7+ KB\n"
          ]
        }
      ]
    },
    {
      "cell_type": "code",
      "execution_count": null,
      "metadata": {
        "colab": {
          "base_uri": "https://localhost:8080/",
          "height": 206
        },
        "id": "tVFBLHsHF6SK",
        "outputId": "2b016379-fc57-427b-fccd-2245eb98a10f"
      },
      "outputs": [
        {
          "output_type": "execute_result",
          "data": {
            "text/plain": [
              "         Date      Open      High       Low     Close  Adj Close   Volume\n",
              "0  1962-01-02  0.263021  0.270182  0.263021  0.263021   0.051133   806400\n",
              "1  1962-01-03  0.259115  0.259115  0.253255  0.257161   0.049994  1574400\n",
              "2  1962-01-04  0.257813  0.261068  0.257813  0.259115   0.050374   844800\n",
              "3  1962-01-05  0.259115  0.262370  0.252604  0.253255   0.049234  1420800\n",
              "4  1962-01-08  0.251302  0.251302  0.245768  0.250651   0.048728  2035200"
            ],
            "text/html": [
              "\n",
              "  <div id=\"df-97e7928d-a5b1-4e2b-a2b6-9d8c59482ddd\">\n",
              "    <div class=\"colab-df-container\">\n",
              "      <div>\n",
              "<style scoped>\n",
              "    .dataframe tbody tr th:only-of-type {\n",
              "        vertical-align: middle;\n",
              "    }\n",
              "\n",
              "    .dataframe tbody tr th {\n",
              "        vertical-align: top;\n",
              "    }\n",
              "\n",
              "    .dataframe thead th {\n",
              "        text-align: right;\n",
              "    }\n",
              "</style>\n",
              "<table border=\"1\" class=\"dataframe\">\n",
              "  <thead>\n",
              "    <tr style=\"text-align: right;\">\n",
              "      <th></th>\n",
              "      <th>Date</th>\n",
              "      <th>Open</th>\n",
              "      <th>High</th>\n",
              "      <th>Low</th>\n",
              "      <th>Close</th>\n",
              "      <th>Adj Close</th>\n",
              "      <th>Volume</th>\n",
              "    </tr>\n",
              "  </thead>\n",
              "  <tbody>\n",
              "    <tr>\n",
              "      <th>0</th>\n",
              "      <td>1962-01-02</td>\n",
              "      <td>0.263021</td>\n",
              "      <td>0.270182</td>\n",
              "      <td>0.263021</td>\n",
              "      <td>0.263021</td>\n",
              "      <td>0.051133</td>\n",
              "      <td>806400</td>\n",
              "    </tr>\n",
              "    <tr>\n",
              "      <th>1</th>\n",
              "      <td>1962-01-03</td>\n",
              "      <td>0.259115</td>\n",
              "      <td>0.259115</td>\n",
              "      <td>0.253255</td>\n",
              "      <td>0.257161</td>\n",
              "      <td>0.049994</td>\n",
              "      <td>1574400</td>\n",
              "    </tr>\n",
              "    <tr>\n",
              "      <th>2</th>\n",
              "      <td>1962-01-04</td>\n",
              "      <td>0.257813</td>\n",
              "      <td>0.261068</td>\n",
              "      <td>0.257813</td>\n",
              "      <td>0.259115</td>\n",
              "      <td>0.050374</td>\n",
              "      <td>844800</td>\n",
              "    </tr>\n",
              "    <tr>\n",
              "      <th>3</th>\n",
              "      <td>1962-01-05</td>\n",
              "      <td>0.259115</td>\n",
              "      <td>0.262370</td>\n",
              "      <td>0.252604</td>\n",
              "      <td>0.253255</td>\n",
              "      <td>0.049234</td>\n",
              "      <td>1420800</td>\n",
              "    </tr>\n",
              "    <tr>\n",
              "      <th>4</th>\n",
              "      <td>1962-01-08</td>\n",
              "      <td>0.251302</td>\n",
              "      <td>0.251302</td>\n",
              "      <td>0.245768</td>\n",
              "      <td>0.250651</td>\n",
              "      <td>0.048728</td>\n",
              "      <td>2035200</td>\n",
              "    </tr>\n",
              "  </tbody>\n",
              "</table>\n",
              "</div>\n",
              "      <button class=\"colab-df-convert\" onclick=\"convertToInteractive('df-97e7928d-a5b1-4e2b-a2b6-9d8c59482ddd')\"\n",
              "              title=\"Convert this dataframe to an interactive table.\"\n",
              "              style=\"display:none;\">\n",
              "        \n",
              "  <svg xmlns=\"http://www.w3.org/2000/svg\" height=\"24px\"viewBox=\"0 0 24 24\"\n",
              "       width=\"24px\">\n",
              "    <path d=\"M0 0h24v24H0V0z\" fill=\"none\"/>\n",
              "    <path d=\"M18.56 5.44l.94 2.06.94-2.06 2.06-.94-2.06-.94-.94-2.06-.94 2.06-2.06.94zm-11 1L8.5 8.5l.94-2.06 2.06-.94-2.06-.94L8.5 2.5l-.94 2.06-2.06.94zm10 10l.94 2.06.94-2.06 2.06-.94-2.06-.94-.94-2.06-.94 2.06-2.06.94z\"/><path d=\"M17.41 7.96l-1.37-1.37c-.4-.4-.92-.59-1.43-.59-.52 0-1.04.2-1.43.59L10.3 9.45l-7.72 7.72c-.78.78-.78 2.05 0 2.83L4 21.41c.39.39.9.59 1.41.59.51 0 1.02-.2 1.41-.59l7.78-7.78 2.81-2.81c.8-.78.8-2.07 0-2.86zM5.41 20L4 18.59l7.72-7.72 1.47 1.35L5.41 20z\"/>\n",
              "  </svg>\n",
              "      </button>\n",
              "      \n",
              "  <style>\n",
              "    .colab-df-container {\n",
              "      display:flex;\n",
              "      flex-wrap:wrap;\n",
              "      gap: 12px;\n",
              "    }\n",
              "\n",
              "    .colab-df-convert {\n",
              "      background-color: #E8F0FE;\n",
              "      border: none;\n",
              "      border-radius: 50%;\n",
              "      cursor: pointer;\n",
              "      display: none;\n",
              "      fill: #1967D2;\n",
              "      height: 32px;\n",
              "      padding: 0 0 0 0;\n",
              "      width: 32px;\n",
              "    }\n",
              "\n",
              "    .colab-df-convert:hover {\n",
              "      background-color: #E2EBFA;\n",
              "      box-shadow: 0px 1px 2px rgba(60, 64, 67, 0.3), 0px 1px 3px 1px rgba(60, 64, 67, 0.15);\n",
              "      fill: #174EA6;\n",
              "    }\n",
              "\n",
              "    [theme=dark] .colab-df-convert {\n",
              "      background-color: #3B4455;\n",
              "      fill: #D2E3FC;\n",
              "    }\n",
              "\n",
              "    [theme=dark] .colab-df-convert:hover {\n",
              "      background-color: #434B5C;\n",
              "      box-shadow: 0px 1px 3px 1px rgba(0, 0, 0, 0.15);\n",
              "      filter: drop-shadow(0px 1px 2px rgba(0, 0, 0, 0.3));\n",
              "      fill: #FFFFFF;\n",
              "    }\n",
              "  </style>\n",
              "\n",
              "      <script>\n",
              "        const buttonEl =\n",
              "          document.querySelector('#df-97e7928d-a5b1-4e2b-a2b6-9d8c59482ddd button.colab-df-convert');\n",
              "        buttonEl.style.display =\n",
              "          google.colab.kernel.accessAllowed ? 'block' : 'none';\n",
              "\n",
              "        async function convertToInteractive(key) {\n",
              "          const element = document.querySelector('#df-97e7928d-a5b1-4e2b-a2b6-9d8c59482ddd');\n",
              "          const dataTable =\n",
              "            await google.colab.kernel.invokeFunction('convertToInteractive',\n",
              "                                                     [key], {});\n",
              "          if (!dataTable) return;\n",
              "\n",
              "          const docLinkHtml = 'Like what you see? Visit the ' +\n",
              "            '<a target=\"_blank\" href=https://colab.research.google.com/notebooks/data_table.ipynb>data table notebook</a>'\n",
              "            + ' to learn more about interactive tables.';\n",
              "          element.innerHTML = '';\n",
              "          dataTable['output_type'] = 'display_data';\n",
              "          await google.colab.output.renderOutput(dataTable, element);\n",
              "          const docLink = document.createElement('div');\n",
              "          docLink.innerHTML = docLinkHtml;\n",
              "          element.appendChild(docLink);\n",
              "        }\n",
              "      </script>\n",
              "    </div>\n",
              "  </div>\n",
              "  "
            ]
          },
          "metadata": {},
          "execution_count": 7
        }
      ],
      "source": [
        "df.head()"
      ]
    },
    {
      "cell_type": "code",
      "source": [
        "df.describe()"
      ],
      "metadata": {
        "colab": {
          "base_uri": "https://localhost:8080/",
          "height": 300
        },
        "id": "mvyQh7wmI5fg",
        "outputId": "0b1fc764-2077-4211-d8ac-ff0100fcf94e"
      },
      "execution_count": null,
      "outputs": [
        {
          "output_type": "execute_result",
          "data": {
            "text/plain": [
              "               Open          High           Low         Close     Adj Close  \\\n",
              "count  15096.000000  15096.000000  15096.000000  15096.000000  15096.000000   \n",
              "mean      16.056202     16.188428     15.921876     16.060734     11.367487   \n",
              "std       16.939301     17.064336     16.811753     16.941712     14.253637   \n",
              "min        0.192708      0.193359      0.182292      0.192057      0.037855   \n",
              "25%        0.860677      0.869792      0.854167      0.860352      0.242312   \n",
              "50%        9.328125      9.398438      9.218750      9.351562      4.642848   \n",
              "75%       28.875000     29.167500     28.563125     28.901562     17.251080   \n",
              "max       59.810001     60.130001     59.619999     60.130001     58.650002   \n",
              "\n",
              "             Volume  \n",
              "count  1.509600e+04  \n",
              "mean   9.032904e+06  \n",
              "std    7.935744e+06  \n",
              "min    7.680000e+04  \n",
              "25%    2.812800e+06  \n",
              "50%    7.585200e+06  \n",
              "75%    1.291275e+07  \n",
              "max    1.241690e+08  "
            ],
            "text/html": [
              "\n",
              "  <div id=\"df-351893a7-4983-4ba6-bedd-1a67b3e286f8\">\n",
              "    <div class=\"colab-df-container\">\n",
              "      <div>\n",
              "<style scoped>\n",
              "    .dataframe tbody tr th:only-of-type {\n",
              "        vertical-align: middle;\n",
              "    }\n",
              "\n",
              "    .dataframe tbody tr th {\n",
              "        vertical-align: top;\n",
              "    }\n",
              "\n",
              "    .dataframe thead th {\n",
              "        text-align: right;\n",
              "    }\n",
              "</style>\n",
              "<table border=\"1\" class=\"dataframe\">\n",
              "  <thead>\n",
              "    <tr style=\"text-align: right;\">\n",
              "      <th></th>\n",
              "      <th>Open</th>\n",
              "      <th>High</th>\n",
              "      <th>Low</th>\n",
              "      <th>Close</th>\n",
              "      <th>Adj Close</th>\n",
              "      <th>Volume</th>\n",
              "    </tr>\n",
              "  </thead>\n",
              "  <tbody>\n",
              "    <tr>\n",
              "      <th>count</th>\n",
              "      <td>15096.000000</td>\n",
              "      <td>15096.000000</td>\n",
              "      <td>15096.000000</td>\n",
              "      <td>15096.000000</td>\n",
              "      <td>15096.000000</td>\n",
              "      <td>1.509600e+04</td>\n",
              "    </tr>\n",
              "    <tr>\n",
              "      <th>mean</th>\n",
              "      <td>16.056202</td>\n",
              "      <td>16.188428</td>\n",
              "      <td>15.921876</td>\n",
              "      <td>16.060734</td>\n",
              "      <td>11.367487</td>\n",
              "      <td>9.032904e+06</td>\n",
              "    </tr>\n",
              "    <tr>\n",
              "      <th>std</th>\n",
              "      <td>16.939301</td>\n",
              "      <td>17.064336</td>\n",
              "      <td>16.811753</td>\n",
              "      <td>16.941712</td>\n",
              "      <td>14.253637</td>\n",
              "      <td>7.935744e+06</td>\n",
              "    </tr>\n",
              "    <tr>\n",
              "      <th>min</th>\n",
              "      <td>0.192708</td>\n",
              "      <td>0.193359</td>\n",
              "      <td>0.182292</td>\n",
              "      <td>0.192057</td>\n",
              "      <td>0.037855</td>\n",
              "      <td>7.680000e+04</td>\n",
              "    </tr>\n",
              "    <tr>\n",
              "      <th>25%</th>\n",
              "      <td>0.860677</td>\n",
              "      <td>0.869792</td>\n",
              "      <td>0.854167</td>\n",
              "      <td>0.860352</td>\n",
              "      <td>0.242312</td>\n",
              "      <td>2.812800e+06</td>\n",
              "    </tr>\n",
              "    <tr>\n",
              "      <th>50%</th>\n",
              "      <td>9.328125</td>\n",
              "      <td>9.398438</td>\n",
              "      <td>9.218750</td>\n",
              "      <td>9.351562</td>\n",
              "      <td>4.642848</td>\n",
              "      <td>7.585200e+06</td>\n",
              "    </tr>\n",
              "    <tr>\n",
              "      <th>75%</th>\n",
              "      <td>28.875000</td>\n",
              "      <td>29.167500</td>\n",
              "      <td>28.563125</td>\n",
              "      <td>28.901562</td>\n",
              "      <td>17.251080</td>\n",
              "      <td>1.291275e+07</td>\n",
              "    </tr>\n",
              "    <tr>\n",
              "      <th>max</th>\n",
              "      <td>59.810001</td>\n",
              "      <td>60.130001</td>\n",
              "      <td>59.619999</td>\n",
              "      <td>60.130001</td>\n",
              "      <td>58.650002</td>\n",
              "      <td>1.241690e+08</td>\n",
              "    </tr>\n",
              "  </tbody>\n",
              "</table>\n",
              "</div>\n",
              "      <button class=\"colab-df-convert\" onclick=\"convertToInteractive('df-351893a7-4983-4ba6-bedd-1a67b3e286f8')\"\n",
              "              title=\"Convert this dataframe to an interactive table.\"\n",
              "              style=\"display:none;\">\n",
              "        \n",
              "  <svg xmlns=\"http://www.w3.org/2000/svg\" height=\"24px\"viewBox=\"0 0 24 24\"\n",
              "       width=\"24px\">\n",
              "    <path d=\"M0 0h24v24H0V0z\" fill=\"none\"/>\n",
              "    <path d=\"M18.56 5.44l.94 2.06.94-2.06 2.06-.94-2.06-.94-.94-2.06-.94 2.06-2.06.94zm-11 1L8.5 8.5l.94-2.06 2.06-.94-2.06-.94L8.5 2.5l-.94 2.06-2.06.94zm10 10l.94 2.06.94-2.06 2.06-.94-2.06-.94-.94-2.06-.94 2.06-2.06.94z\"/><path d=\"M17.41 7.96l-1.37-1.37c-.4-.4-.92-.59-1.43-.59-.52 0-1.04.2-1.43.59L10.3 9.45l-7.72 7.72c-.78.78-.78 2.05 0 2.83L4 21.41c.39.39.9.59 1.41.59.51 0 1.02-.2 1.41-.59l7.78-7.78 2.81-2.81c.8-.78.8-2.07 0-2.86zM5.41 20L4 18.59l7.72-7.72 1.47 1.35L5.41 20z\"/>\n",
              "  </svg>\n",
              "      </button>\n",
              "      \n",
              "  <style>\n",
              "    .colab-df-container {\n",
              "      display:flex;\n",
              "      flex-wrap:wrap;\n",
              "      gap: 12px;\n",
              "    }\n",
              "\n",
              "    .colab-df-convert {\n",
              "      background-color: #E8F0FE;\n",
              "      border: none;\n",
              "      border-radius: 50%;\n",
              "      cursor: pointer;\n",
              "      display: none;\n",
              "      fill: #1967D2;\n",
              "      height: 32px;\n",
              "      padding: 0 0 0 0;\n",
              "      width: 32px;\n",
              "    }\n",
              "\n",
              "    .colab-df-convert:hover {\n",
              "      background-color: #E2EBFA;\n",
              "      box-shadow: 0px 1px 2px rgba(60, 64, 67, 0.3), 0px 1px 3px 1px rgba(60, 64, 67, 0.15);\n",
              "      fill: #174EA6;\n",
              "    }\n",
              "\n",
              "    [theme=dark] .colab-df-convert {\n",
              "      background-color: #3B4455;\n",
              "      fill: #D2E3FC;\n",
              "    }\n",
              "\n",
              "    [theme=dark] .colab-df-convert:hover {\n",
              "      background-color: #434B5C;\n",
              "      box-shadow: 0px 1px 3px 1px rgba(0, 0, 0, 0.15);\n",
              "      filter: drop-shadow(0px 1px 2px rgba(0, 0, 0, 0.3));\n",
              "      fill: #FFFFFF;\n",
              "    }\n",
              "  </style>\n",
              "\n",
              "      <script>\n",
              "        const buttonEl =\n",
              "          document.querySelector('#df-351893a7-4983-4ba6-bedd-1a67b3e286f8 button.colab-df-convert');\n",
              "        buttonEl.style.display =\n",
              "          google.colab.kernel.accessAllowed ? 'block' : 'none';\n",
              "\n",
              "        async function convertToInteractive(key) {\n",
              "          const element = document.querySelector('#df-351893a7-4983-4ba6-bedd-1a67b3e286f8');\n",
              "          const dataTable =\n",
              "            await google.colab.kernel.invokeFunction('convertToInteractive',\n",
              "                                                     [key], {});\n",
              "          if (!dataTable) return;\n",
              "\n",
              "          const docLinkHtml = 'Like what you see? Visit the ' +\n",
              "            '<a target=\"_blank\" href=https://colab.research.google.com/notebooks/data_table.ipynb>data table notebook</a>'\n",
              "            + ' to learn more about interactive tables.';\n",
              "          element.innerHTML = '';\n",
              "          dataTable['output_type'] = 'display_data';\n",
              "          await google.colab.output.renderOutput(dataTable, element);\n",
              "          const docLink = document.createElement('div');\n",
              "          docLink.innerHTML = docLinkHtml;\n",
              "          element.appendChild(docLink);\n",
              "        }\n",
              "      </script>\n",
              "    </div>\n",
              "  </div>\n",
              "  "
            ]
          },
          "metadata": {},
          "execution_count": 8
        }
      ]
    },
    {
      "cell_type": "code",
      "source": [
        "df.dtypes"
      ],
      "metadata": {
        "colab": {
          "base_uri": "https://localhost:8080/"
        },
        "id": "7e2ywU23JRLe",
        "outputId": "7d6ca7a2-ddb1-4558-a767-09862bdcd5f5"
      },
      "execution_count": null,
      "outputs": [
        {
          "output_type": "execute_result",
          "data": {
            "text/plain": [
              "Date          object\n",
              "Open         float64\n",
              "High         float64\n",
              "Low          float64\n",
              "Close        float64\n",
              "Adj Close    float64\n",
              "Volume         int64\n",
              "dtype: object"
            ]
          },
          "metadata": {},
          "execution_count": 9
        }
      ]
    },
    {
      "cell_type": "markdown",
      "source": [
        "Выводы по данным: пропусков нет - в каждой колонке 15096 значений. 7 колонок: 6 показателей биржевой цены и 1 колонка объема торгов.\n",
        "Формат цены акций - с плавающей точкой, Объем торгов - целое (это ОК, достаточная точность), а вот формат даты Object потребуется преобразовать"
      ],
      "metadata": {
        "id": "CdOhENgb1fEN"
      }
    },
    {
      "cell_type": "code",
      "execution_count": null,
      "metadata": {
        "outputId": "054d71d6-959a-4779-921f-da9c40d7a642",
        "colab": {
          "base_uri": "https://localhost:8080/",
          "height": 206
        },
        "id": "WIYvtUnDLiwR"
      },
      "outputs": [
        {
          "output_type": "execute_result",
          "data": {
            "text/plain": [
              "         Date      Open      High       Low     Close  Adj Close   Volume  \\\n",
              "0  1962-01-02  0.263021  0.270182  0.263021  0.263021   0.051133   806400   \n",
              "1  1962-01-03  0.259115  0.259115  0.253255  0.257161   0.049994  1574400   \n",
              "2  1962-01-04  0.257813  0.261068  0.257813  0.259115   0.050374   844800   \n",
              "3  1962-01-05  0.259115  0.262370  0.252604  0.253255   0.049234  1420800   \n",
              "4  1962-01-08  0.251302  0.251302  0.245768  0.250651   0.048728  2035200   \n",
              "\n",
              "    Date_adj  \n",
              "0 1962-01-02  \n",
              "1 1962-01-03  \n",
              "2 1962-01-04  \n",
              "3 1962-01-05  \n",
              "4 1962-01-08  "
            ],
            "text/html": [
              "\n",
              "  <div id=\"df-aeb43c7f-4363-4741-bdf3-80c3cb652b9f\">\n",
              "    <div class=\"colab-df-container\">\n",
              "      <div>\n",
              "<style scoped>\n",
              "    .dataframe tbody tr th:only-of-type {\n",
              "        vertical-align: middle;\n",
              "    }\n",
              "\n",
              "    .dataframe tbody tr th {\n",
              "        vertical-align: top;\n",
              "    }\n",
              "\n",
              "    .dataframe thead th {\n",
              "        text-align: right;\n",
              "    }\n",
              "</style>\n",
              "<table border=\"1\" class=\"dataframe\">\n",
              "  <thead>\n",
              "    <tr style=\"text-align: right;\">\n",
              "      <th></th>\n",
              "      <th>Date</th>\n",
              "      <th>Open</th>\n",
              "      <th>High</th>\n",
              "      <th>Low</th>\n",
              "      <th>Close</th>\n",
              "      <th>Adj Close</th>\n",
              "      <th>Volume</th>\n",
              "      <th>Date_adj</th>\n",
              "    </tr>\n",
              "  </thead>\n",
              "  <tbody>\n",
              "    <tr>\n",
              "      <th>0</th>\n",
              "      <td>1962-01-02</td>\n",
              "      <td>0.263021</td>\n",
              "      <td>0.270182</td>\n",
              "      <td>0.263021</td>\n",
              "      <td>0.263021</td>\n",
              "      <td>0.051133</td>\n",
              "      <td>806400</td>\n",
              "      <td>1962-01-02</td>\n",
              "    </tr>\n",
              "    <tr>\n",
              "      <th>1</th>\n",
              "      <td>1962-01-03</td>\n",
              "      <td>0.259115</td>\n",
              "      <td>0.259115</td>\n",
              "      <td>0.253255</td>\n",
              "      <td>0.257161</td>\n",
              "      <td>0.049994</td>\n",
              "      <td>1574400</td>\n",
              "      <td>1962-01-03</td>\n",
              "    </tr>\n",
              "    <tr>\n",
              "      <th>2</th>\n",
              "      <td>1962-01-04</td>\n",
              "      <td>0.257813</td>\n",
              "      <td>0.261068</td>\n",
              "      <td>0.257813</td>\n",
              "      <td>0.259115</td>\n",
              "      <td>0.050374</td>\n",
              "      <td>844800</td>\n",
              "      <td>1962-01-04</td>\n",
              "    </tr>\n",
              "    <tr>\n",
              "      <th>3</th>\n",
              "      <td>1962-01-05</td>\n",
              "      <td>0.259115</td>\n",
              "      <td>0.262370</td>\n",
              "      <td>0.252604</td>\n",
              "      <td>0.253255</td>\n",
              "      <td>0.049234</td>\n",
              "      <td>1420800</td>\n",
              "      <td>1962-01-05</td>\n",
              "    </tr>\n",
              "    <tr>\n",
              "      <th>4</th>\n",
              "      <td>1962-01-08</td>\n",
              "      <td>0.251302</td>\n",
              "      <td>0.251302</td>\n",
              "      <td>0.245768</td>\n",
              "      <td>0.250651</td>\n",
              "      <td>0.048728</td>\n",
              "      <td>2035200</td>\n",
              "      <td>1962-01-08</td>\n",
              "    </tr>\n",
              "  </tbody>\n",
              "</table>\n",
              "</div>\n",
              "      <button class=\"colab-df-convert\" onclick=\"convertToInteractive('df-aeb43c7f-4363-4741-bdf3-80c3cb652b9f')\"\n",
              "              title=\"Convert this dataframe to an interactive table.\"\n",
              "              style=\"display:none;\">\n",
              "        \n",
              "  <svg xmlns=\"http://www.w3.org/2000/svg\" height=\"24px\"viewBox=\"0 0 24 24\"\n",
              "       width=\"24px\">\n",
              "    <path d=\"M0 0h24v24H0V0z\" fill=\"none\"/>\n",
              "    <path d=\"M18.56 5.44l.94 2.06.94-2.06 2.06-.94-2.06-.94-.94-2.06-.94 2.06-2.06.94zm-11 1L8.5 8.5l.94-2.06 2.06-.94-2.06-.94L8.5 2.5l-.94 2.06-2.06.94zm10 10l.94 2.06.94-2.06 2.06-.94-2.06-.94-.94-2.06-.94 2.06-2.06.94z\"/><path d=\"M17.41 7.96l-1.37-1.37c-.4-.4-.92-.59-1.43-.59-.52 0-1.04.2-1.43.59L10.3 9.45l-7.72 7.72c-.78.78-.78 2.05 0 2.83L4 21.41c.39.39.9.59 1.41.59.51 0 1.02-.2 1.41-.59l7.78-7.78 2.81-2.81c.8-.78.8-2.07 0-2.86zM5.41 20L4 18.59l7.72-7.72 1.47 1.35L5.41 20z\"/>\n",
              "  </svg>\n",
              "      </button>\n",
              "      \n",
              "  <style>\n",
              "    .colab-df-container {\n",
              "      display:flex;\n",
              "      flex-wrap:wrap;\n",
              "      gap: 12px;\n",
              "    }\n",
              "\n",
              "    .colab-df-convert {\n",
              "      background-color: #E8F0FE;\n",
              "      border: none;\n",
              "      border-radius: 50%;\n",
              "      cursor: pointer;\n",
              "      display: none;\n",
              "      fill: #1967D2;\n",
              "      height: 32px;\n",
              "      padding: 0 0 0 0;\n",
              "      width: 32px;\n",
              "    }\n",
              "\n",
              "    .colab-df-convert:hover {\n",
              "      background-color: #E2EBFA;\n",
              "      box-shadow: 0px 1px 2px rgba(60, 64, 67, 0.3), 0px 1px 3px 1px rgba(60, 64, 67, 0.15);\n",
              "      fill: #174EA6;\n",
              "    }\n",
              "\n",
              "    [theme=dark] .colab-df-convert {\n",
              "      background-color: #3B4455;\n",
              "      fill: #D2E3FC;\n",
              "    }\n",
              "\n",
              "    [theme=dark] .colab-df-convert:hover {\n",
              "      background-color: #434B5C;\n",
              "      box-shadow: 0px 1px 3px 1px rgba(0, 0, 0, 0.15);\n",
              "      filter: drop-shadow(0px 1px 2px rgba(0, 0, 0, 0.3));\n",
              "      fill: #FFFFFF;\n",
              "    }\n",
              "  </style>\n",
              "\n",
              "      <script>\n",
              "        const buttonEl =\n",
              "          document.querySelector('#df-aeb43c7f-4363-4741-bdf3-80c3cb652b9f button.colab-df-convert');\n",
              "        buttonEl.style.display =\n",
              "          google.colab.kernel.accessAllowed ? 'block' : 'none';\n",
              "\n",
              "        async function convertToInteractive(key) {\n",
              "          const element = document.querySelector('#df-aeb43c7f-4363-4741-bdf3-80c3cb652b9f');\n",
              "          const dataTable =\n",
              "            await google.colab.kernel.invokeFunction('convertToInteractive',\n",
              "                                                     [key], {});\n",
              "          if (!dataTable) return;\n",
              "\n",
              "          const docLinkHtml = 'Like what you see? Visit the ' +\n",
              "            '<a target=\"_blank\" href=https://colab.research.google.com/notebooks/data_table.ipynb>data table notebook</a>'\n",
              "            + ' to learn more about interactive tables.';\n",
              "          element.innerHTML = '';\n",
              "          dataTable['output_type'] = 'display_data';\n",
              "          await google.colab.output.renderOutput(dataTable, element);\n",
              "          const docLink = document.createElement('div');\n",
              "          docLink.innerHTML = docLinkHtml;\n",
              "          element.appendChild(docLink);\n",
              "        }\n",
              "      </script>\n",
              "    </div>\n",
              "  </div>\n",
              "  "
            ]
          },
          "metadata": {},
          "execution_count": 10
        }
      ],
      "source": [
        "## Добавим новую колонку Date_adj в формате  datetime\n",
        "df['Date_adj'] = pd.to_datetime(df.Date)\n",
        "df.head()"
      ]
    },
    {
      "cell_type": "code",
      "source": [
        "df.dtypes\n",
        "## Проверяем формат новой колонки - все ОК"
      ],
      "metadata": {
        "colab": {
          "base_uri": "https://localhost:8080/"
        },
        "id": "vtBPxlaBNGgx",
        "outputId": "0276fb00-f896-4830-8301-23100f9e1fe9"
      },
      "execution_count": null,
      "outputs": [
        {
          "output_type": "execute_result",
          "data": {
            "text/plain": [
              "Date                 object\n",
              "Open                float64\n",
              "High                float64\n",
              "Low                 float64\n",
              "Close               float64\n",
              "Adj Close           float64\n",
              "Volume                int64\n",
              "Date_adj     datetime64[ns]\n",
              "dtype: object"
            ]
          },
          "metadata": {},
          "execution_count": 11
        }
      ]
    },
    {
      "cell_type": "markdown",
      "source": [
        "Теперь проблема - для создания временного ряда требуется проиндексировать dataframe по дате - а это не получилось. т.к. есть пропуски дат (выходные, когда нет торгов, праздники и прочее). Кроме того, нам не требуется чуствительность на уровне дней! мы хотим принять решение о среднесрочном инвестировании в производителя напитков. Т.е. Нам достаточно будет уровня значений в каждом месяце"
      ],
      "metadata": {
        "id": "5lGX4x2m245n"
      }
    },
    {
      "cell_type": "code",
      "source": [
        "## Преобразуем Дату Date_adj в колонки Год-Мес-день, потом создадим новую колонку только Год-Мес\n",
        "df['day'] = df['Date_adj'].dt.day\n",
        "df['month'] = df['Date_adj'].dt.month\n",
        "df['year'] = df['Date_adj'].dt.year\n",
        "df['Mth_date']=pd.to_datetime(dict(year=df['year'], month=df['month'], day=1))\n",
        "df.head()\n",
        "## Проверим"
      ],
      "metadata": {
        "colab": {
          "base_uri": "https://localhost:8080/",
          "height": 206
        },
        "id": "HsBeJVZMYe4f",
        "outputId": "13f9e68a-a7a5-4f13-a7fb-dd50af8a6bdc"
      },
      "execution_count": null,
      "outputs": [
        {
          "output_type": "execute_result",
          "data": {
            "text/plain": [
              "         Date      Open      High       Low     Close  Adj Close   Volume  \\\n",
              "0  1962-01-02  0.263021  0.270182  0.263021  0.263021   0.051133   806400   \n",
              "1  1962-01-03  0.259115  0.259115  0.253255  0.257161   0.049994  1574400   \n",
              "2  1962-01-04  0.257813  0.261068  0.257813  0.259115   0.050374   844800   \n",
              "3  1962-01-05  0.259115  0.262370  0.252604  0.253255   0.049234  1420800   \n",
              "4  1962-01-08  0.251302  0.251302  0.245768  0.250651   0.048728  2035200   \n",
              "\n",
              "    Date_adj  day  month  year   Mth_date  \n",
              "0 1962-01-02    2      1  1962 1962-01-01  \n",
              "1 1962-01-03    3      1  1962 1962-01-01  \n",
              "2 1962-01-04    4      1  1962 1962-01-01  \n",
              "3 1962-01-05    5      1  1962 1962-01-01  \n",
              "4 1962-01-08    8      1  1962 1962-01-01  "
            ],
            "text/html": [
              "\n",
              "  <div id=\"df-d4bd9968-54c1-41b5-9759-99848ff2a1cf\">\n",
              "    <div class=\"colab-df-container\">\n",
              "      <div>\n",
              "<style scoped>\n",
              "    .dataframe tbody tr th:only-of-type {\n",
              "        vertical-align: middle;\n",
              "    }\n",
              "\n",
              "    .dataframe tbody tr th {\n",
              "        vertical-align: top;\n",
              "    }\n",
              "\n",
              "    .dataframe thead th {\n",
              "        text-align: right;\n",
              "    }\n",
              "</style>\n",
              "<table border=\"1\" class=\"dataframe\">\n",
              "  <thead>\n",
              "    <tr style=\"text-align: right;\">\n",
              "      <th></th>\n",
              "      <th>Date</th>\n",
              "      <th>Open</th>\n",
              "      <th>High</th>\n",
              "      <th>Low</th>\n",
              "      <th>Close</th>\n",
              "      <th>Adj Close</th>\n",
              "      <th>Volume</th>\n",
              "      <th>Date_adj</th>\n",
              "      <th>day</th>\n",
              "      <th>month</th>\n",
              "      <th>year</th>\n",
              "      <th>Mth_date</th>\n",
              "    </tr>\n",
              "  </thead>\n",
              "  <tbody>\n",
              "    <tr>\n",
              "      <th>0</th>\n",
              "      <td>1962-01-02</td>\n",
              "      <td>0.263021</td>\n",
              "      <td>0.270182</td>\n",
              "      <td>0.263021</td>\n",
              "      <td>0.263021</td>\n",
              "      <td>0.051133</td>\n",
              "      <td>806400</td>\n",
              "      <td>1962-01-02</td>\n",
              "      <td>2</td>\n",
              "      <td>1</td>\n",
              "      <td>1962</td>\n",
              "      <td>1962-01-01</td>\n",
              "    </tr>\n",
              "    <tr>\n",
              "      <th>1</th>\n",
              "      <td>1962-01-03</td>\n",
              "      <td>0.259115</td>\n",
              "      <td>0.259115</td>\n",
              "      <td>0.253255</td>\n",
              "      <td>0.257161</td>\n",
              "      <td>0.049994</td>\n",
              "      <td>1574400</td>\n",
              "      <td>1962-01-03</td>\n",
              "      <td>3</td>\n",
              "      <td>1</td>\n",
              "      <td>1962</td>\n",
              "      <td>1962-01-01</td>\n",
              "    </tr>\n",
              "    <tr>\n",
              "      <th>2</th>\n",
              "      <td>1962-01-04</td>\n",
              "      <td>0.257813</td>\n",
              "      <td>0.261068</td>\n",
              "      <td>0.257813</td>\n",
              "      <td>0.259115</td>\n",
              "      <td>0.050374</td>\n",
              "      <td>844800</td>\n",
              "      <td>1962-01-04</td>\n",
              "      <td>4</td>\n",
              "      <td>1</td>\n",
              "      <td>1962</td>\n",
              "      <td>1962-01-01</td>\n",
              "    </tr>\n",
              "    <tr>\n",
              "      <th>3</th>\n",
              "      <td>1962-01-05</td>\n",
              "      <td>0.259115</td>\n",
              "      <td>0.262370</td>\n",
              "      <td>0.252604</td>\n",
              "      <td>0.253255</td>\n",
              "      <td>0.049234</td>\n",
              "      <td>1420800</td>\n",
              "      <td>1962-01-05</td>\n",
              "      <td>5</td>\n",
              "      <td>1</td>\n",
              "      <td>1962</td>\n",
              "      <td>1962-01-01</td>\n",
              "    </tr>\n",
              "    <tr>\n",
              "      <th>4</th>\n",
              "      <td>1962-01-08</td>\n",
              "      <td>0.251302</td>\n",
              "      <td>0.251302</td>\n",
              "      <td>0.245768</td>\n",
              "      <td>0.250651</td>\n",
              "      <td>0.048728</td>\n",
              "      <td>2035200</td>\n",
              "      <td>1962-01-08</td>\n",
              "      <td>8</td>\n",
              "      <td>1</td>\n",
              "      <td>1962</td>\n",
              "      <td>1962-01-01</td>\n",
              "    </tr>\n",
              "  </tbody>\n",
              "</table>\n",
              "</div>\n",
              "      <button class=\"colab-df-convert\" onclick=\"convertToInteractive('df-d4bd9968-54c1-41b5-9759-99848ff2a1cf')\"\n",
              "              title=\"Convert this dataframe to an interactive table.\"\n",
              "              style=\"display:none;\">\n",
              "        \n",
              "  <svg xmlns=\"http://www.w3.org/2000/svg\" height=\"24px\"viewBox=\"0 0 24 24\"\n",
              "       width=\"24px\">\n",
              "    <path d=\"M0 0h24v24H0V0z\" fill=\"none\"/>\n",
              "    <path d=\"M18.56 5.44l.94 2.06.94-2.06 2.06-.94-2.06-.94-.94-2.06-.94 2.06-2.06.94zm-11 1L8.5 8.5l.94-2.06 2.06-.94-2.06-.94L8.5 2.5l-.94 2.06-2.06.94zm10 10l.94 2.06.94-2.06 2.06-.94-2.06-.94-.94-2.06-.94 2.06-2.06.94z\"/><path d=\"M17.41 7.96l-1.37-1.37c-.4-.4-.92-.59-1.43-.59-.52 0-1.04.2-1.43.59L10.3 9.45l-7.72 7.72c-.78.78-.78 2.05 0 2.83L4 21.41c.39.39.9.59 1.41.59.51 0 1.02-.2 1.41-.59l7.78-7.78 2.81-2.81c.8-.78.8-2.07 0-2.86zM5.41 20L4 18.59l7.72-7.72 1.47 1.35L5.41 20z\"/>\n",
              "  </svg>\n",
              "      </button>\n",
              "      \n",
              "  <style>\n",
              "    .colab-df-container {\n",
              "      display:flex;\n",
              "      flex-wrap:wrap;\n",
              "      gap: 12px;\n",
              "    }\n",
              "\n",
              "    .colab-df-convert {\n",
              "      background-color: #E8F0FE;\n",
              "      border: none;\n",
              "      border-radius: 50%;\n",
              "      cursor: pointer;\n",
              "      display: none;\n",
              "      fill: #1967D2;\n",
              "      height: 32px;\n",
              "      padding: 0 0 0 0;\n",
              "      width: 32px;\n",
              "    }\n",
              "\n",
              "    .colab-df-convert:hover {\n",
              "      background-color: #E2EBFA;\n",
              "      box-shadow: 0px 1px 2px rgba(60, 64, 67, 0.3), 0px 1px 3px 1px rgba(60, 64, 67, 0.15);\n",
              "      fill: #174EA6;\n",
              "    }\n",
              "\n",
              "    [theme=dark] .colab-df-convert {\n",
              "      background-color: #3B4455;\n",
              "      fill: #D2E3FC;\n",
              "    }\n",
              "\n",
              "    [theme=dark] .colab-df-convert:hover {\n",
              "      background-color: #434B5C;\n",
              "      box-shadow: 0px 1px 3px 1px rgba(0, 0, 0, 0.15);\n",
              "      filter: drop-shadow(0px 1px 2px rgba(0, 0, 0, 0.3));\n",
              "      fill: #FFFFFF;\n",
              "    }\n",
              "  </style>\n",
              "\n",
              "      <script>\n",
              "        const buttonEl =\n",
              "          document.querySelector('#df-d4bd9968-54c1-41b5-9759-99848ff2a1cf button.colab-df-convert');\n",
              "        buttonEl.style.display =\n",
              "          google.colab.kernel.accessAllowed ? 'block' : 'none';\n",
              "\n",
              "        async function convertToInteractive(key) {\n",
              "          const element = document.querySelector('#df-d4bd9968-54c1-41b5-9759-99848ff2a1cf');\n",
              "          const dataTable =\n",
              "            await google.colab.kernel.invokeFunction('convertToInteractive',\n",
              "                                                     [key], {});\n",
              "          if (!dataTable) return;\n",
              "\n",
              "          const docLinkHtml = 'Like what you see? Visit the ' +\n",
              "            '<a target=\"_blank\" href=https://colab.research.google.com/notebooks/data_table.ipynb>data table notebook</a>'\n",
              "            + ' to learn more about interactive tables.';\n",
              "          element.innerHTML = '';\n",
              "          dataTable['output_type'] = 'display_data';\n",
              "          await google.colab.output.renderOutput(dataTable, element);\n",
              "          const docLink = document.createElement('div');\n",
              "          docLink.innerHTML = docLinkHtml;\n",
              "          element.appendChild(docLink);\n",
              "        }\n",
              "      </script>\n",
              "    </div>\n",
              "  </div>\n",
              "  "
            ]
          },
          "metadata": {},
          "execution_count": 12
        }
      ]
    },
    {
      "cell_type": "markdown",
      "source": [
        "Теперь создадим промежуточный dataframe состоящий из агрегат значений по каждому месяцу. В качестве функции выберем Среднее"
      ],
      "metadata": {
        "id": "yBnLR4PL3qCG"
      }
    },
    {
      "cell_type": "code",
      "execution_count": null,
      "metadata": {
        "scrolled": true,
        "id": "1f04462b",
        "outputId": "961b3b85-06be-4680-cbaf-58c6d55b67ae",
        "colab": {
          "base_uri": "https://localhost:8080/",
          "height": 237
        }
      },
      "outputs": [
        {
          "output_type": "execute_result",
          "data": {
            "text/plain": [
              "                Open      High       Low     Close  Adj Close        Volume  \\\n",
              "Mth_date                                                                      \n",
              "1962-01-01  0.248432  0.250784  0.245221  0.247692   0.048153  1.337018e+06   \n",
              "1962-02-01  0.243695  0.245546  0.241982  0.243318   0.047303  6.952421e+05   \n",
              "1962-03-01  0.245531  0.247203  0.244126  0.245517   0.047930  1.939200e+06   \n",
              "1962-04-01  0.248340  0.250618  0.245866  0.248047   0.048535  1.023360e+06   \n",
              "1962-05-01  0.232762  0.234982  0.227939  0.231564   0.045310  2.234182e+06   \n",
              "\n",
              "                  day  month    year  \n",
              "Mth_date                              \n",
              "1962-01-01  16.318182    1.0  1962.0  \n",
              "1962-02-01  14.315789    2.0  1962.0  \n",
              "1962-03-01  16.045455    3.0  1962.0  \n",
              "1962-04-01  15.000000    4.0  1962.0  \n",
              "1962-05-01  15.363636    5.0  1962.0  "
            ],
            "text/html": [
              "\n",
              "  <div id=\"df-215bcd9d-84df-4403-b0a0-08c7f5bf5f25\">\n",
              "    <div class=\"colab-df-container\">\n",
              "      <div>\n",
              "<style scoped>\n",
              "    .dataframe tbody tr th:only-of-type {\n",
              "        vertical-align: middle;\n",
              "    }\n",
              "\n",
              "    .dataframe tbody tr th {\n",
              "        vertical-align: top;\n",
              "    }\n",
              "\n",
              "    .dataframe thead th {\n",
              "        text-align: right;\n",
              "    }\n",
              "</style>\n",
              "<table border=\"1\" class=\"dataframe\">\n",
              "  <thead>\n",
              "    <tr style=\"text-align: right;\">\n",
              "      <th></th>\n",
              "      <th>Open</th>\n",
              "      <th>High</th>\n",
              "      <th>Low</th>\n",
              "      <th>Close</th>\n",
              "      <th>Adj Close</th>\n",
              "      <th>Volume</th>\n",
              "      <th>day</th>\n",
              "      <th>month</th>\n",
              "      <th>year</th>\n",
              "    </tr>\n",
              "    <tr>\n",
              "      <th>Mth_date</th>\n",
              "      <th></th>\n",
              "      <th></th>\n",
              "      <th></th>\n",
              "      <th></th>\n",
              "      <th></th>\n",
              "      <th></th>\n",
              "      <th></th>\n",
              "      <th></th>\n",
              "      <th></th>\n",
              "    </tr>\n",
              "  </thead>\n",
              "  <tbody>\n",
              "    <tr>\n",
              "      <th>1962-01-01</th>\n",
              "      <td>0.248432</td>\n",
              "      <td>0.250784</td>\n",
              "      <td>0.245221</td>\n",
              "      <td>0.247692</td>\n",
              "      <td>0.048153</td>\n",
              "      <td>1.337018e+06</td>\n",
              "      <td>16.318182</td>\n",
              "      <td>1.0</td>\n",
              "      <td>1962.0</td>\n",
              "    </tr>\n",
              "    <tr>\n",
              "      <th>1962-02-01</th>\n",
              "      <td>0.243695</td>\n",
              "      <td>0.245546</td>\n",
              "      <td>0.241982</td>\n",
              "      <td>0.243318</td>\n",
              "      <td>0.047303</td>\n",
              "      <td>6.952421e+05</td>\n",
              "      <td>14.315789</td>\n",
              "      <td>2.0</td>\n",
              "      <td>1962.0</td>\n",
              "    </tr>\n",
              "    <tr>\n",
              "      <th>1962-03-01</th>\n",
              "      <td>0.245531</td>\n",
              "      <td>0.247203</td>\n",
              "      <td>0.244126</td>\n",
              "      <td>0.245517</td>\n",
              "      <td>0.047930</td>\n",
              "      <td>1.939200e+06</td>\n",
              "      <td>16.045455</td>\n",
              "      <td>3.0</td>\n",
              "      <td>1962.0</td>\n",
              "    </tr>\n",
              "    <tr>\n",
              "      <th>1962-04-01</th>\n",
              "      <td>0.248340</td>\n",
              "      <td>0.250618</td>\n",
              "      <td>0.245866</td>\n",
              "      <td>0.248047</td>\n",
              "      <td>0.048535</td>\n",
              "      <td>1.023360e+06</td>\n",
              "      <td>15.000000</td>\n",
              "      <td>4.0</td>\n",
              "      <td>1962.0</td>\n",
              "    </tr>\n",
              "    <tr>\n",
              "      <th>1962-05-01</th>\n",
              "      <td>0.232762</td>\n",
              "      <td>0.234982</td>\n",
              "      <td>0.227939</td>\n",
              "      <td>0.231564</td>\n",
              "      <td>0.045310</td>\n",
              "      <td>2.234182e+06</td>\n",
              "      <td>15.363636</td>\n",
              "      <td>5.0</td>\n",
              "      <td>1962.0</td>\n",
              "    </tr>\n",
              "  </tbody>\n",
              "</table>\n",
              "</div>\n",
              "      <button class=\"colab-df-convert\" onclick=\"convertToInteractive('df-215bcd9d-84df-4403-b0a0-08c7f5bf5f25')\"\n",
              "              title=\"Convert this dataframe to an interactive table.\"\n",
              "              style=\"display:none;\">\n",
              "        \n",
              "  <svg xmlns=\"http://www.w3.org/2000/svg\" height=\"24px\"viewBox=\"0 0 24 24\"\n",
              "       width=\"24px\">\n",
              "    <path d=\"M0 0h24v24H0V0z\" fill=\"none\"/>\n",
              "    <path d=\"M18.56 5.44l.94 2.06.94-2.06 2.06-.94-2.06-.94-.94-2.06-.94 2.06-2.06.94zm-11 1L8.5 8.5l.94-2.06 2.06-.94-2.06-.94L8.5 2.5l-.94 2.06-2.06.94zm10 10l.94 2.06.94-2.06 2.06-.94-2.06-.94-.94-2.06-.94 2.06-2.06.94z\"/><path d=\"M17.41 7.96l-1.37-1.37c-.4-.4-.92-.59-1.43-.59-.52 0-1.04.2-1.43.59L10.3 9.45l-7.72 7.72c-.78.78-.78 2.05 0 2.83L4 21.41c.39.39.9.59 1.41.59.51 0 1.02-.2 1.41-.59l7.78-7.78 2.81-2.81c.8-.78.8-2.07 0-2.86zM5.41 20L4 18.59l7.72-7.72 1.47 1.35L5.41 20z\"/>\n",
              "  </svg>\n",
              "      </button>\n",
              "      \n",
              "  <style>\n",
              "    .colab-df-container {\n",
              "      display:flex;\n",
              "      flex-wrap:wrap;\n",
              "      gap: 12px;\n",
              "    }\n",
              "\n",
              "    .colab-df-convert {\n",
              "      background-color: #E8F0FE;\n",
              "      border: none;\n",
              "      border-radius: 50%;\n",
              "      cursor: pointer;\n",
              "      display: none;\n",
              "      fill: #1967D2;\n",
              "      height: 32px;\n",
              "      padding: 0 0 0 0;\n",
              "      width: 32px;\n",
              "    }\n",
              "\n",
              "    .colab-df-convert:hover {\n",
              "      background-color: #E2EBFA;\n",
              "      box-shadow: 0px 1px 2px rgba(60, 64, 67, 0.3), 0px 1px 3px 1px rgba(60, 64, 67, 0.15);\n",
              "      fill: #174EA6;\n",
              "    }\n",
              "\n",
              "    [theme=dark] .colab-df-convert {\n",
              "      background-color: #3B4455;\n",
              "      fill: #D2E3FC;\n",
              "    }\n",
              "\n",
              "    [theme=dark] .colab-df-convert:hover {\n",
              "      background-color: #434B5C;\n",
              "      box-shadow: 0px 1px 3px 1px rgba(0, 0, 0, 0.15);\n",
              "      filter: drop-shadow(0px 1px 2px rgba(0, 0, 0, 0.3));\n",
              "      fill: #FFFFFF;\n",
              "    }\n",
              "  </style>\n",
              "\n",
              "      <script>\n",
              "        const buttonEl =\n",
              "          document.querySelector('#df-215bcd9d-84df-4403-b0a0-08c7f5bf5f25 button.colab-df-convert');\n",
              "        buttonEl.style.display =\n",
              "          google.colab.kernel.accessAllowed ? 'block' : 'none';\n",
              "\n",
              "        async function convertToInteractive(key) {\n",
              "          const element = document.querySelector('#df-215bcd9d-84df-4403-b0a0-08c7f5bf5f25');\n",
              "          const dataTable =\n",
              "            await google.colab.kernel.invokeFunction('convertToInteractive',\n",
              "                                                     [key], {});\n",
              "          if (!dataTable) return;\n",
              "\n",
              "          const docLinkHtml = 'Like what you see? Visit the ' +\n",
              "            '<a target=\"_blank\" href=https://colab.research.google.com/notebooks/data_table.ipynb>data table notebook</a>'\n",
              "            + ' to learn more about interactive tables.';\n",
              "          element.innerHTML = '';\n",
              "          dataTable['output_type'] = 'display_data';\n",
              "          await google.colab.output.renderOutput(dataTable, element);\n",
              "          const docLink = document.createElement('div');\n",
              "          docLink.innerHTML = docLinkHtml;\n",
              "          element.appendChild(docLink);\n",
              "        }\n",
              "      </script>\n",
              "    </div>\n",
              "  </div>\n",
              "  "
            ]
          },
          "metadata": {},
          "execution_count": 13
        }
      ],
      "source": [
        "df2=df.groupby(by=['Mth_date']).mean()\n",
        "df2.head()\n",
        "## Месяцы по которым агрегировали значения в формате datetime в новом dataframe df2 \n",
        "##стали индексной колонкой. Есть уверенность что пропусков месяцев нет, но проверим"
      ]
    },
    {
      "cell_type": "markdown",
      "source": [
        "Уберем лишнюю информацию - оставим только показатели стоимости акций - это будет еще одним промежуточным dataframe df3"
      ],
      "metadata": {
        "id": "RYVLAEQa4j2v"
      }
    },
    {
      "cell_type": "code",
      "source": [
        "df3 = df2.drop(['Adj Close','day','month','year'],1)\n",
        "df3.head()"
      ],
      "metadata": {
        "colab": {
          "base_uri": "https://localhost:8080/",
          "height": 237
        },
        "id": "kIxMsNYFc-TP",
        "outputId": "372132d9-4b61-4f34-9f28-cdb1eef36356"
      },
      "execution_count": null,
      "outputs": [
        {
          "output_type": "execute_result",
          "data": {
            "text/plain": [
              "                Open      High       Low     Close        Volume\n",
              "Mth_date                                                        \n",
              "1962-01-01  0.248432  0.250784  0.245221  0.247692  1.337018e+06\n",
              "1962-02-01  0.243695  0.245546  0.241982  0.243318  6.952421e+05\n",
              "1962-03-01  0.245531  0.247203  0.244126  0.245517  1.939200e+06\n",
              "1962-04-01  0.248340  0.250618  0.245866  0.248047  1.023360e+06\n",
              "1962-05-01  0.232762  0.234982  0.227939  0.231564  2.234182e+06"
            ],
            "text/html": [
              "\n",
              "  <div id=\"df-30ceceb7-609c-46e9-9995-4c35ff1bd11f\">\n",
              "    <div class=\"colab-df-container\">\n",
              "      <div>\n",
              "<style scoped>\n",
              "    .dataframe tbody tr th:only-of-type {\n",
              "        vertical-align: middle;\n",
              "    }\n",
              "\n",
              "    .dataframe tbody tr th {\n",
              "        vertical-align: top;\n",
              "    }\n",
              "\n",
              "    .dataframe thead th {\n",
              "        text-align: right;\n",
              "    }\n",
              "</style>\n",
              "<table border=\"1\" class=\"dataframe\">\n",
              "  <thead>\n",
              "    <tr style=\"text-align: right;\">\n",
              "      <th></th>\n",
              "      <th>Open</th>\n",
              "      <th>High</th>\n",
              "      <th>Low</th>\n",
              "      <th>Close</th>\n",
              "      <th>Volume</th>\n",
              "    </tr>\n",
              "    <tr>\n",
              "      <th>Mth_date</th>\n",
              "      <th></th>\n",
              "      <th></th>\n",
              "      <th></th>\n",
              "      <th></th>\n",
              "      <th></th>\n",
              "    </tr>\n",
              "  </thead>\n",
              "  <tbody>\n",
              "    <tr>\n",
              "      <th>1962-01-01</th>\n",
              "      <td>0.248432</td>\n",
              "      <td>0.250784</td>\n",
              "      <td>0.245221</td>\n",
              "      <td>0.247692</td>\n",
              "      <td>1.337018e+06</td>\n",
              "    </tr>\n",
              "    <tr>\n",
              "      <th>1962-02-01</th>\n",
              "      <td>0.243695</td>\n",
              "      <td>0.245546</td>\n",
              "      <td>0.241982</td>\n",
              "      <td>0.243318</td>\n",
              "      <td>6.952421e+05</td>\n",
              "    </tr>\n",
              "    <tr>\n",
              "      <th>1962-03-01</th>\n",
              "      <td>0.245531</td>\n",
              "      <td>0.247203</td>\n",
              "      <td>0.244126</td>\n",
              "      <td>0.245517</td>\n",
              "      <td>1.939200e+06</td>\n",
              "    </tr>\n",
              "    <tr>\n",
              "      <th>1962-04-01</th>\n",
              "      <td>0.248340</td>\n",
              "      <td>0.250618</td>\n",
              "      <td>0.245866</td>\n",
              "      <td>0.248047</td>\n",
              "      <td>1.023360e+06</td>\n",
              "    </tr>\n",
              "    <tr>\n",
              "      <th>1962-05-01</th>\n",
              "      <td>0.232762</td>\n",
              "      <td>0.234982</td>\n",
              "      <td>0.227939</td>\n",
              "      <td>0.231564</td>\n",
              "      <td>2.234182e+06</td>\n",
              "    </tr>\n",
              "  </tbody>\n",
              "</table>\n",
              "</div>\n",
              "      <button class=\"colab-df-convert\" onclick=\"convertToInteractive('df-30ceceb7-609c-46e9-9995-4c35ff1bd11f')\"\n",
              "              title=\"Convert this dataframe to an interactive table.\"\n",
              "              style=\"display:none;\">\n",
              "        \n",
              "  <svg xmlns=\"http://www.w3.org/2000/svg\" height=\"24px\"viewBox=\"0 0 24 24\"\n",
              "       width=\"24px\">\n",
              "    <path d=\"M0 0h24v24H0V0z\" fill=\"none\"/>\n",
              "    <path d=\"M18.56 5.44l.94 2.06.94-2.06 2.06-.94-2.06-.94-.94-2.06-.94 2.06-2.06.94zm-11 1L8.5 8.5l.94-2.06 2.06-.94-2.06-.94L8.5 2.5l-.94 2.06-2.06.94zm10 10l.94 2.06.94-2.06 2.06-.94-2.06-.94-.94-2.06-.94 2.06-2.06.94z\"/><path d=\"M17.41 7.96l-1.37-1.37c-.4-.4-.92-.59-1.43-.59-.52 0-1.04.2-1.43.59L10.3 9.45l-7.72 7.72c-.78.78-.78 2.05 0 2.83L4 21.41c.39.39.9.59 1.41.59.51 0 1.02-.2 1.41-.59l7.78-7.78 2.81-2.81c.8-.78.8-2.07 0-2.86zM5.41 20L4 18.59l7.72-7.72 1.47 1.35L5.41 20z\"/>\n",
              "  </svg>\n",
              "      </button>\n",
              "      \n",
              "  <style>\n",
              "    .colab-df-container {\n",
              "      display:flex;\n",
              "      flex-wrap:wrap;\n",
              "      gap: 12px;\n",
              "    }\n",
              "\n",
              "    .colab-df-convert {\n",
              "      background-color: #E8F0FE;\n",
              "      border: none;\n",
              "      border-radius: 50%;\n",
              "      cursor: pointer;\n",
              "      display: none;\n",
              "      fill: #1967D2;\n",
              "      height: 32px;\n",
              "      padding: 0 0 0 0;\n",
              "      width: 32px;\n",
              "    }\n",
              "\n",
              "    .colab-df-convert:hover {\n",
              "      background-color: #E2EBFA;\n",
              "      box-shadow: 0px 1px 2px rgba(60, 64, 67, 0.3), 0px 1px 3px 1px rgba(60, 64, 67, 0.15);\n",
              "      fill: #174EA6;\n",
              "    }\n",
              "\n",
              "    [theme=dark] .colab-df-convert {\n",
              "      background-color: #3B4455;\n",
              "      fill: #D2E3FC;\n",
              "    }\n",
              "\n",
              "    [theme=dark] .colab-df-convert:hover {\n",
              "      background-color: #434B5C;\n",
              "      box-shadow: 0px 1px 3px 1px rgba(0, 0, 0, 0.15);\n",
              "      filter: drop-shadow(0px 1px 2px rgba(0, 0, 0, 0.3));\n",
              "      fill: #FFFFFF;\n",
              "    }\n",
              "  </style>\n",
              "\n",
              "      <script>\n",
              "        const buttonEl =\n",
              "          document.querySelector('#df-30ceceb7-609c-46e9-9995-4c35ff1bd11f button.colab-df-convert');\n",
              "        buttonEl.style.display =\n",
              "          google.colab.kernel.accessAllowed ? 'block' : 'none';\n",
              "\n",
              "        async function convertToInteractive(key) {\n",
              "          const element = document.querySelector('#df-30ceceb7-609c-46e9-9995-4c35ff1bd11f');\n",
              "          const dataTable =\n",
              "            await google.colab.kernel.invokeFunction('convertToInteractive',\n",
              "                                                     [key], {});\n",
              "          if (!dataTable) return;\n",
              "\n",
              "          const docLinkHtml = 'Like what you see? Visit the ' +\n",
              "            '<a target=\"_blank\" href=https://colab.research.google.com/notebooks/data_table.ipynb>data table notebook</a>'\n",
              "            + ' to learn more about interactive tables.';\n",
              "          element.innerHTML = '';\n",
              "          dataTable['output_type'] = 'display_data';\n",
              "          await google.colab.output.renderOutput(dataTable, element);\n",
              "          const docLink = document.createElement('div');\n",
              "          docLink.innerHTML = docLinkHtml;\n",
              "          element.appendChild(docLink);\n",
              "        }\n",
              "      </script>\n",
              "    </div>\n",
              "  </div>\n",
              "  "
            ]
          },
          "metadata": {},
          "execution_count": 14
        }
      ]
    },
    {
      "cell_type": "code",
      "source": [
        "df3.info()"
      ],
      "metadata": {
        "colab": {
          "base_uri": "https://localhost:8080/"
        },
        "id": "5DhnYByAfCXm",
        "outputId": "a953ce76-170d-41cd-9c93-929ab82904df"
      },
      "execution_count": null,
      "outputs": [
        {
          "output_type": "stream",
          "name": "stdout",
          "text": [
            "<class 'pandas.core.frame.DataFrame'>\n",
            "DatetimeIndex: 720 entries, 1962-01-01 to 2021-12-01\n",
            "Data columns (total 5 columns):\n",
            " #   Column  Non-Null Count  Dtype  \n",
            "---  ------  --------------  -----  \n",
            " 0   Open    720 non-null    float64\n",
            " 1   High    720 non-null    float64\n",
            " 2   Low     720 non-null    float64\n",
            " 3   Close   720 non-null    float64\n",
            " 4   Volume  720 non-null    float64\n",
            "dtypes: float64(5)\n",
            "memory usage: 33.8 KB\n"
          ]
        }
      ]
    },
    {
      "cell_type": "markdown",
      "source": [
        "### Построим график dataframe df3"
      ],
      "metadata": {
        "id": "KoZDZDqWi6Bv"
      }
    },
    {
      "cell_type": "code",
      "source": [
        "title = 'Month_Avg_Close '\n",
        "ylabel='USD'\n",
        "xlabel='date' \n",
        "\n",
        "ax = df3['Close'].plot(figsize=(12,6),title=title)\n",
        "ax.autoscale(axis='x',tight=True)\n",
        "ax.set(xlabel=xlabel, ylabel=ylabel);"
      ],
      "metadata": {
        "colab": {
          "base_uri": "https://localhost:8080/",
          "height": 404
        },
        "id": "aJ1DstdQhd5W",
        "outputId": "718925d5-53a7-4e11-a31e-309c3224a378"
      },
      "execution_count": null,
      "outputs": [
        {
          "output_type": "display_data",
          "data": {
            "text/plain": [
              "<Figure size 864x432 with 1 Axes>"
            ],
            "image/png": "[encoded data removed]"
          },
          "metadata": {
            "needs_background": "light"
          }
        }
      ]
    },
    {
      "cell_type": "markdown",
      "source": [
        "Очевидно, что этот набор данных \"от царя гороха\" не требуется в таком объеме. для анализа тренда оставим только данные за последние 10 лет. Это и будет финальный dataframe для последующего прогнозирования"
      ],
      "metadata": {
        "id": "NCocL2L85arc"
      }
    },
    {
      "cell_type": "code",
      "source": [
        "df_final=df3.tail(120)\n",
        "df_final.head()"
      ],
      "metadata": {
        "colab": {
          "base_uri": "https://localhost:8080/",
          "height": 237
        },
        "id": "wRVxO3PKlzNl",
        "outputId": "49c88900-c0d1-4006-ee35-988f5e7dcb30"
      },
      "execution_count": null,
      "outputs": [
        {
          "output_type": "execute_result",
          "data": {
            "text/plain": [
              "                 Open       High        Low      Close        Volume\n",
              "Mth_date                                                            \n",
              "2012-01-01  34.203751  34.329000  33.961750  34.120249  1.501158e+07\n",
              "2012-02-01  34.278250  34.453500  34.115499  34.300500  1.438325e+07\n",
              "2012-03-01  35.204546  35.439318  35.107954  35.334546  1.864775e+07\n",
              "2012-04-01  36.841250  37.073250  36.697500  36.897750  1.461850e+07\n",
              "2012-05-01  38.037500  38.208409  37.834318  38.019092  1.524504e+07"
            ],
            "text/html": [
              "\n",
              "  <div id=\"df-fa633829-46ea-46e6-8549-8599c3b6a761\">\n",
              "    <div class=\"colab-df-container\">\n",
              "      <div>\n",
              "<style scoped>\n",
              "    .dataframe tbody tr th:only-of-type {\n",
              "        vertical-align: middle;\n",
              "    }\n",
              "\n",
              "    .dataframe tbody tr th {\n",
              "        vertical-align: top;\n",
              "    }\n",
              "\n",
              "    .dataframe thead th {\n",
              "        text-align: right;\n",
              "    }\n",
              "</style>\n",
              "<table border=\"1\" class=\"dataframe\">\n",
              "  <thead>\n",
              "    <tr style=\"text-align: right;\">\n",
              "      <th></th>\n",
              "      <th>Open</th>\n",
              "      <th>High</th>\n",
              "      <th>Low</th>\n",
              "      <th>Close</th>\n",
              "      <th>Volume</th>\n",
              "    </tr>\n",
              "    <tr>\n",
              "      <th>Mth_date</th>\n",
              "      <th></th>\n",
              "      <th></th>\n",
              "      <th></th>\n",
              "      <th></th>\n",
              "      <th></th>\n",
              "    </tr>\n",
              "  </thead>\n",
              "  <tbody>\n",
              "    <tr>\n",
              "      <th>2012-01-01</th>\n",
              "      <td>34.203751</td>\n",
              "      <td>34.329000</td>\n",
              "      <td>33.961750</td>\n",
              "      <td>34.120249</td>\n",
              "      <td>1.501158e+07</td>\n",
              "    </tr>\n",
              "    <tr>\n",
              "      <th>2012-02-01</th>\n",
              "      <td>34.278250</td>\n",
              "      <td>34.453500</td>\n",
              "      <td>34.115499</td>\n",
              "      <td>34.300500</td>\n",
              "      <td>1.438325e+07</td>\n",
              "    </tr>\n",
              "    <tr>\n",
              "      <th>2012-03-01</th>\n",
              "      <td>35.204546</td>\n",
              "      <td>35.439318</td>\n",
              "      <td>35.107954</td>\n",
              "      <td>35.334546</td>\n",
              "      <td>1.864775e+07</td>\n",
              "    </tr>\n",
              "    <tr>\n",
              "      <th>2012-04-01</th>\n",
              "      <td>36.841250</td>\n",
              "      <td>37.073250</td>\n",
              "      <td>36.697500</td>\n",
              "      <td>36.897750</td>\n",
              "      <td>1.461850e+07</td>\n",
              "    </tr>\n",
              "    <tr>\n",
              "      <th>2012-05-01</th>\n",
              "      <td>38.037500</td>\n",
              "      <td>38.208409</td>\n",
              "      <td>37.834318</td>\n",
              "      <td>38.019092</td>\n",
              "      <td>1.524504e+07</td>\n",
              "    </tr>\n",
              "  </tbody>\n",
              "</table>\n",
              "</div>\n",
              "      <button class=\"colab-df-convert\" onclick=\"convertToInteractive('df-fa633829-46ea-46e6-8549-8599c3b6a761')\"\n",
              "              title=\"Convert this dataframe to an interactive table.\"\n",
              "              style=\"display:none;\">\n",
              "        \n",
              "  <svg xmlns=\"http://www.w3.org/2000/svg\" height=\"24px\"viewBox=\"0 0 24 24\"\n",
              "       width=\"24px\">\n",
              "    <path d=\"M0 0h24v24H0V0z\" fill=\"none\"/>\n",
              "    <path d=\"M18.56 5.44l.94 2.06.94-2.06 2.06-.94-2.06-.94-.94-2.06-.94 2.06-2.06.94zm-11 1L8.5 8.5l.94-2.06 2.06-.94-2.06-.94L8.5 2.5l-.94 2.06-2.06.94zm10 10l.94 2.06.94-2.06 2.06-.94-2.06-.94-.94-2.06-.94 2.06-2.06.94z\"/><path d=\"M17.41 7.96l-1.37-1.37c-.4-.4-.92-.59-1.43-.59-.52 0-1.04.2-1.43.59L10.3 9.45l-7.72 7.72c-.78.78-.78 2.05 0 2.83L4 21.41c.39.39.9.59 1.41.59.51 0 1.02-.2 1.41-.59l7.78-7.78 2.81-2.81c.8-.78.8-2.07 0-2.86zM5.41 20L4 18.59l7.72-7.72 1.47 1.35L5.41 20z\"/>\n",
              "  </svg>\n",
              "      </button>\n",
              "      \n",
              "  <style>\n",
              "    .colab-df-container {\n",
              "      display:flex;\n",
              "      flex-wrap:wrap;\n",
              "      gap: 12px;\n",
              "    }\n",
              "\n",
              "    .colab-df-convert {\n",
              "      background-color: #E8F0FE;\n",
              "      border: none;\n",
              "      border-radius: 50%;\n",
              "      cursor: pointer;\n",
              "      display: none;\n",
              "      fill: #1967D2;\n",
              "      height: 32px;\n",
              "      padding: 0 0 0 0;\n",
              "      width: 32px;\n",
              "    }\n",
              "\n",
              "    .colab-df-convert:hover {\n",
              "      background-color: #E2EBFA;\n",
              "      box-shadow: 0px 1px 2px rgba(60, 64, 67, 0.3), 0px 1px 3px 1px rgba(60, 64, 67, 0.15);\n",
              "      fill: #174EA6;\n",
              "    }\n",
              "\n",
              "    [theme=dark] .colab-df-convert {\n",
              "      background-color: #3B4455;\n",
              "      fill: #D2E3FC;\n",
              "    }\n",
              "\n",
              "    [theme=dark] .colab-df-convert:hover {\n",
              "      background-color: #434B5C;\n",
              "      box-shadow: 0px 1px 3px 1px rgba(0, 0, 0, 0.15);\n",
              "      filter: drop-shadow(0px 1px 2px rgba(0, 0, 0, 0.3));\n",
              "      fill: #FFFFFF;\n",
              "    }\n",
              "  </style>\n",
              "\n",
              "      <script>\n",
              "        const buttonEl =\n",
              "          document.querySelector('#df-fa633829-46ea-46e6-8549-8599c3b6a761 button.colab-df-convert');\n",
              "        buttonEl.style.display =\n",
              "          google.colab.kernel.accessAllowed ? 'block' : 'none';\n",
              "\n",
              "        async function convertToInteractive(key) {\n",
              "          const element = document.querySelector('#df-fa633829-46ea-46e6-8549-8599c3b6a761');\n",
              "          const dataTable =\n",
              "            await google.colab.kernel.invokeFunction('convertToInteractive',\n",
              "                                                     [key], {});\n",
              "          if (!dataTable) return;\n",
              "\n",
              "          const docLinkHtml = 'Like what you see? Visit the ' +\n",
              "            '<a target=\"_blank\" href=https://colab.research.google.com/notebooks/data_table.ipynb>data table notebook</a>'\n",
              "            + ' to learn more about interactive tables.';\n",
              "          element.innerHTML = '';\n",
              "          dataTable['output_type'] = 'display_data';\n",
              "          await google.colab.output.renderOutput(dataTable, element);\n",
              "          const docLink = document.createElement('div');\n",
              "          docLink.innerHTML = docLinkHtml;\n",
              "          element.appendChild(docLink);\n",
              "        }\n",
              "      </script>\n",
              "    </div>\n",
              "  </div>\n",
              "  "
            ]
          },
          "metadata": {},
          "execution_count": 17
        }
      ]
    },
    {
      "cell_type": "markdown",
      "source": [
        "### Построим график dataframe df_final"
      ],
      "metadata": {
        "id": "eWrg8BVt5w7R"
      }
    },
    {
      "cell_type": "code",
      "source": [
        "title = 'Month_Avg_Close_last 10 years '\n",
        "ylabel='USD'\n",
        "xlabel='date' \n",
        "\n",
        "ax = df_final['Close'].plot(figsize=(12,6),title=title)\n",
        "ax.autoscale(axis='x',tight=True)\n",
        "ax.set(xlabel=xlabel, ylabel=ylabel);"
      ],
      "metadata": {
        "colab": {
          "base_uri": "https://localhost:8080/",
          "height": 404
        },
        "id": "LP9RQO_5lzUl",
        "outputId": "16cf09f9-93ad-400b-8291-e225e27cd0d7"
      },
      "execution_count": null,
      "outputs": [
        {
          "output_type": "display_data",
          "data": {
            "text/plain": [
              "<Figure size 864x432 with 1 Axes>"
            ],
            "image/png": "[encoded data removed]"
          },
          "metadata": {
            "needs_background": "light"
          }
        }
      ]
    },
    {
      "cell_type": "markdown",
      "source": [
        "### ETS декомпозиция"
      ],
      "metadata": {
        "id": "GjQ8FSNJjCtl"
      }
    },
    {
      "cell_type": "code",
      "source": [
        "result = seasonal_decompose(df_final['Close'], model='add')\n",
        "result.plot();"
      ],
      "metadata": {
        "colab": {
          "base_uri": "https://localhost:8080/",
          "height": 297
        },
        "id": "g7B1xyQlYfEF",
        "outputId": "c0422010-cf9c-430b-9299-0dc06e27a05a"
      },
      "execution_count": null,
      "outputs": [
        {
          "output_type": "display_data",
          "data": {
            "text/plain": [
              "<Figure size 432x288 with 4 Axes>"
            ],
            "image/png": "[encoded data removed]"
          },
          "metadata": {
            "needs_background": "light"
          }
        }
      ]
    },
    {
      "cell_type": "markdown",
      "metadata": {
        "id": "MGtB5JCsF6SO"
      },
      "source": [
        "Несмотря на небольшой масштаб по сравнению с общими значениями, существует крошечная годовая сезонность."
      ]
    },
    {
      "cell_type": "markdown",
      "source": [
        "Определим сезонный компонент D на стационарность с помощью теста AdFuller"
      ],
      "metadata": {
        "id": "1_eTYFk8owWU"
      }
    },
    {
      "cell_type": "code",
      "source": [
        "from statsmodels.tsa.stattools import adfuller\n",
        "import numpy as np\n",
        "def check_stationarity(df_final):\n",
        "    dftest = adfuller(df_final)\n",
        "    adf = dftest[0]\n",
        "    pvalue = dftest[1]\n",
        "    critical_value = dftest[4]['5%']\n",
        "    if (pvalue < 0.05) and (adf < critical_value):\n",
        "        print('The series is stationary')\n",
        "    else:\n",
        "        print('The series is NOT stationary')"
      ],
      "metadata": {
        "id": "sea9VFnmn7G-"
      },
      "execution_count": null,
      "outputs": []
    },
    {
      "cell_type": "code",
      "source": [
        "seasonal = result.seasonal\n",
        "check_stationarity(seasonal)"
      ],
      "metadata": {
        "colab": {
          "base_uri": "https://localhost:8080/"
        },
        "id": "EgVIwMwsoh46",
        "outputId": "4ea05c5b-d76a-4038-cdb4-5e8bf6751b61"
      },
      "execution_count": null,
      "outputs": [
        {
          "output_type": "stream",
          "name": "stdout",
          "text": [
            "The series is stationary\n"
          ]
        }
      ]
    },
    {
      "cell_type": "markdown",
      "source": [
        "Сезонный компонент стационарный, тогда (P,D.Q,M) - принимаем D=0 в Arima!"
      ],
      "metadata": {
        "id": "r7BrPwKwo-Yx"
      }
    },
    {
      "cell_type": "markdown",
      "source": [
        "Определим P для Модели SARIMA"
      ],
      "metadata": {
        "id": "tIEyUeZzqiFW"
      }
    },
    {
      "cell_type": "code",
      "source": [
        "from matplotlib import pyplot as plt\n",
        "from statsmodels.graphics.tsaplots import plot_acf, plot_pacf\n",
        "plot_pacf(seasonal, lags =12)\n",
        "plt.show()"
      ],
      "metadata": {
        "colab": {
          "base_uri": "https://localhost:8080/",
          "height": 281
        },
        "id": "1HY7hg5tp_gj",
        "outputId": "c8a565db-d6b5-4636-c70a-bf6b418279be"
      },
      "execution_count": null,
      "outputs": [
        {
          "output_type": "display_data",
          "data": {
            "text/plain": [
              "<Figure size 432x288 with 1 Axes>"
            ],
            "image/png": "[encoded data removed]"
          },
          "metadata": {
            "needs_background": "light"
          }
        }
      ]
    },
    {
      "cell_type": "markdown",
      "source": [
        "На графике PACF максимальное запаздывание со значением вне доверительных интервалов (светло-синим цветом) равно 2, таким образом, мы можем установить P = 2"
      ],
      "metadata": {
        "id": "Trm7zFw6qs2P"
      }
    },
    {
      "cell_type": "markdown",
      "source": [
        "Определим Q"
      ],
      "metadata": {
        "id": "2TxW0NMLrODl"
      }
    },
    {
      "cell_type": "code",
      "source": [
        "plot_acf(seasonal, lags =12)\n",
        "plt.show()"
      ],
      "metadata": {
        "colab": {
          "base_uri": "https://localhost:8080/",
          "height": 281
        },
        "id": "ehKfNfwkrNd-",
        "outputId": "013176fb-404d-4479-f52e-c86c408f8311"
      },
      "execution_count": null,
      "outputs": [
        {
          "output_type": "display_data",
          "data": {
            "text/plain": [
              "<Figure size 432x288 with 1 Axes>"
            ],
            "image/png": "[encoded data removed]"
          },
          "metadata": {
            "needs_background": "light"
          }
        }
      ]
    },
    {
      "cell_type": "markdown",
      "source": [
        "Из приведенного выше графика мы отмечаем, что максимальное запаздывание со значением вне доверительных интервалов равно 2, таким образом, Q = 2"
      ],
      "metadata": {
        "id": "J2Hzc66fr6Ov"
      }
    },
    {
      "cell_type": "markdown",
      "source": [
        "Таким образом (P,D,Q,M) = (2,0,2,12) для SARIMA"
      ],
      "metadata": {
        "id": "oG7FqD6JtURJ"
      }
    },
    {
      "cell_type": "markdown",
      "metadata": {
        "id": "bo9yHOwXF6SO"
      },
      "source": [
        "### Запускаем <tt>pmdarima.auto_arima</tt>"
      ]
    },
    {
      "cell_type": "markdown",
      "source": [
        ""
      ],
      "metadata": {
        "id": "n2KV28YXtqM1"
      }
    },
    {
      "cell_type": "code",
      "execution_count": null,
      "metadata": {
        "id": "H28ED9FDF6SO",
        "outputId": "4ecc475a-2ba0-48fd-de97-25031faef833",
        "colab": {
          "base_uri": "https://localhost:8080/",
          "height": 494
        }
      },
      "outputs": [
        {
          "output_type": "execute_result",
          "data": {
            "text/plain": [
              "<class 'statsmodels.iolib.summary.Summary'>\n",
              "\"\"\"\n",
              "                               SARIMAX Results                                \n",
              "==============================================================================\n",
              "Dep. Variable:                      y   No. Observations:                  120\n",
              "Model:               SARIMAX(2, 1, 2)   Log Likelihood                -213.698\n",
              "Date:                Wed, 23 Mar 2022   AIC                            439.395\n",
              "Time:                        12:11:39   BIC                            456.070\n",
              "Sample:                             0   HQIC                           446.166\n",
              "                                - 120                                         \n",
              "Covariance Type:                  opg                                         \n",
              "==============================================================================\n",
              "                 coef    std err          z      P>|z|      [0.025      0.975]\n",
              "------------------------------------------------------------------------------\n",
              "intercept      0.0127      0.011      1.134      0.257      -0.009       0.035\n",
              "ar.L1          1.6505      0.261      6.335      0.000       1.140       2.161\n",
              "ar.L2         -0.7361      0.194     -3.800      0.000      -1.116      -0.356\n",
              "ma.L1         -1.7638      0.277     -6.359      0.000      -2.307      -1.220\n",
              "ma.L2          0.7715      0.276      2.797      0.005       0.231       1.312\n",
              "sigma2         2.0984      0.188     11.151      0.000       1.730       2.467\n",
              "===================================================================================\n",
              "Ljung-Box (L1) (Q):                   0.18   Jarque-Bera (JB):               809.23\n",
              "Prob(Q):                              0.67   Prob(JB):                         0.00\n",
              "Heteroskedasticity (H):               6.00   Skew:                            -1.95\n",
              "Prob(H) (two-sided):                  0.00   Kurtosis:                        15.16\n",
              "===================================================================================\n",
              "\n",
              "Warnings:\n",
              "[1] Covariance matrix calculated using the outer product of gradients (complex-step).\n",
              "\"\"\""
            ],
            "text/html": [
              "<table class=\"simpletable\">\n",
              "<caption>SARIMAX Results</caption>\n",
              "<tr>\n",
              "  <th>Dep. Variable:</th>           <td>y</td>        <th>  No. Observations:  </th>    <td>120</td>  \n",
              "</tr>\n",
              "<tr>\n",
              "  <th>Model:</th>           <td>SARIMAX(2, 1, 2)</td> <th>  Log Likelihood     </th> <td>-213.698</td>\n",
              "</tr>\n",
              "<tr>\n",
              "  <th>Date:</th>            <td>Wed, 23 Mar 2022</td> <th>  AIC                </th>  <td>439.395</td>\n",
              "</tr>\n",
              "<tr>\n",
              "  <th>Time:</th>                <td>12:11:39</td>     <th>  BIC                </th>  <td>456.070</td>\n",
              "</tr>\n",
              "<tr>\n",
              "  <th>Sample:</th>                  <td>0</td>        <th>  HQIC               </th>  <td>446.166</td>\n",
              "</tr>\n",
              "<tr>\n",
              "  <th></th>                      <td> - 120</td>      <th>                     </th>     <td> </td>   \n",
              "</tr>\n",
              "<tr>\n",
              "  <th>Covariance Type:</th>        <td>opg</td>       <th>                     </th>     <td> </td>   \n",
              "</tr>\n",
              "</table>\n",
              "<table class=\"simpletable\">\n",
              "<tr>\n",
              "      <td></td>         <th>coef</th>     <th>std err</th>      <th>z</th>      <th>P>|z|</th>  <th>[0.025</th>    <th>0.975]</th>  \n",
              "</tr>\n",
              "<tr>\n",
              "  <th>intercept</th> <td>    0.0127</td> <td>    0.011</td> <td>    1.134</td> <td> 0.257</td> <td>   -0.009</td> <td>    0.035</td>\n",
              "</tr>\n",
              "<tr>\n",
              "  <th>ar.L1</th>     <td>    1.6505</td> <td>    0.261</td> <td>    6.335</td> <td> 0.000</td> <td>    1.140</td> <td>    2.161</td>\n",
              "</tr>\n",
              "<tr>\n",
              "  <th>ar.L2</th>     <td>   -0.7361</td> <td>    0.194</td> <td>   -3.800</td> <td> 0.000</td> <td>   -1.116</td> <td>   -0.356</td>\n",
              "</tr>\n",
              "<tr>\n",
              "  <th>ma.L1</th>     <td>   -1.7638</td> <td>    0.277</td> <td>   -6.359</td> <td> 0.000</td> <td>   -2.307</td> <td>   -1.220</td>\n",
              "</tr>\n",
              "<tr>\n",
              "  <th>ma.L2</th>     <td>    0.7715</td> <td>    0.276</td> <td>    2.797</td> <td> 0.005</td> <td>    0.231</td> <td>    1.312</td>\n",
              "</tr>\n",
              "<tr>\n",
              "  <th>sigma2</th>    <td>    2.0984</td> <td>    0.188</td> <td>   11.151</td> <td> 0.000</td> <td>    1.730</td> <td>    2.467</td>\n",
              "</tr>\n",
              "</table>\n",
              "<table class=\"simpletable\">\n",
              "<tr>\n",
              "  <th>Ljung-Box (L1) (Q):</th>     <td>0.18</td> <th>  Jarque-Bera (JB):  </th> <td>809.23</td>\n",
              "</tr>\n",
              "<tr>\n",
              "  <th>Prob(Q):</th>                <td>0.67</td> <th>  Prob(JB):          </th>  <td>0.00</td> \n",
              "</tr>\n",
              "<tr>\n",
              "  <th>Heteroskedasticity (H):</th> <td>6.00</td> <th>  Skew:              </th>  <td>-1.95</td>\n",
              "</tr>\n",
              "<tr>\n",
              "  <th>Prob(H) (two-sided):</th>    <td>0.00</td> <th>  Kurtosis:          </th>  <td>15.16</td>\n",
              "</tr>\n",
              "</table><br/><br/>Warnings:<br/>[1] Covariance matrix calculated using the outer product of gradients (complex-step)."
            ]
          },
          "metadata": {},
          "execution_count": 37
        }
      ],
      "source": [
        "# m=12\n",
        "auto_arima(df_final['Close'], seasonal=True, m=12).summary()"
      ]
    },
    {
      "cell_type": "markdown",
      "metadata": {
        "id": "LxsFBmI5F6SP"
      },
      "source": [
        "\n",
        "### делим на train/test "
      ]
    },
    {
      "cell_type": "code",
      "execution_count": null,
      "metadata": {
        "id": "5Su28eH-F6SP",
        "outputId": "87962d26-6c53-409e-9cea-3272746d5a48",
        "colab": {
          "base_uri": "https://localhost:8080/"
        }
      },
      "outputs": [
        {
          "output_type": "execute_result",
          "data": {
            "text/plain": [
              "120"
            ]
          },
          "metadata": {},
          "execution_count": 25
        }
      ],
      "source": [
        "len(df_final)"
      ]
    },
    {
      "cell_type": "code",
      "execution_count": null,
      "metadata": {
        "id": "TE6gDE62F6SP"
      },
      "outputs": [],
      "source": [
        "# \n",
        "train = df_final.iloc[70:100]\n",
        "test = df_final.iloc[100:]\n"
      ]
    },
    {
      "cell_type": "code",
      "source": [
        "train.info()"
      ],
      "metadata": {
        "colab": {
          "base_uri": "https://localhost:8080/"
        },
        "id": "kVpdBcTlk2jm",
        "outputId": "cfde565d-da15-4017-fa89-f3146812f9d3"
      },
      "execution_count": null,
      "outputs": [
        {
          "output_type": "stream",
          "name": "stdout",
          "text": [
            "<class 'pandas.core.frame.DataFrame'>\n",
            "DatetimeIndex: 30 entries, 2017-11-01 to 2020-04-01\n",
            "Data columns (total 5 columns):\n",
            " #   Column  Non-Null Count  Dtype  \n",
            "---  ------  --------------  -----  \n",
            " 0   Open    30 non-null     float64\n",
            " 1   High    30 non-null     float64\n",
            " 2   Low     30 non-null     float64\n",
            " 3   Close   30 non-null     float64\n",
            " 4   Volume  30 non-null     float64\n",
            "dtypes: float64(5)\n",
            "memory usage: 1.4 KB\n"
          ]
        }
      ]
    },
    {
      "cell_type": "code",
      "source": [
        "test.info()"
      ],
      "metadata": {
        "colab": {
          "base_uri": "https://localhost:8080/"
        },
        "id": "aiqe2SOqk20N",
        "outputId": "49ebbc07-5136-45a1-cee0-0efd2d4cd580"
      },
      "execution_count": null,
      "outputs": [
        {
          "output_type": "stream",
          "name": "stdout",
          "text": [
            "<class 'pandas.core.frame.DataFrame'>\n",
            "DatetimeIndex: 20 entries, 2020-05-01 to 2021-12-01\n",
            "Data columns (total 5 columns):\n",
            " #   Column  Non-Null Count  Dtype  \n",
            "---  ------  --------------  -----  \n",
            " 0   Open    20 non-null     float64\n",
            " 1   High    20 non-null     float64\n",
            " 2   Low     20 non-null     float64\n",
            " 3   Close   20 non-null     float64\n",
            " 4   Volume  20 non-null     float64\n",
            "dtypes: float64(5)\n",
            "memory usage: 960.0 bytes\n"
          ]
        }
      ]
    },
    {
      "cell_type": "markdown",
      "metadata": {
        "id": "crIK63OnF6SP"
      },
      "source": [
        "### Обучаем SARIMA (1, 1, 2)x(2, 0, 2, 12)"
      ]
    },
    {
      "cell_type": "code",
      "execution_count": null,
      "metadata": {
        "id": "SvGP_30qF6SQ",
        "outputId": "8b0c7d69-51e8-420a-80c0-fd6bbbed9103",
        "colab": {
          "base_uri": "https://localhost:8080/",
          "height": 554
        }
      },
      "outputs": [
        {
          "output_type": "execute_result",
          "data": {
            "text/plain": [
              "<class 'statsmodels.iolib.summary.Summary'>\n",
              "\"\"\"\n",
              "                                     SARIMAX Results                                      \n",
              "==========================================================================================\n",
              "Dep. Variable:                              Close   No. Observations:                   30\n",
              "Model:             SARIMAX(1, 1, 2)x(2, 0, 2, 12)   Log Likelihood                 -66.555\n",
              "Date:                            Wed, 23 Mar 2022   AIC                            149.110\n",
              "Time:                                    12:20:25   BIC                            160.048\n",
              "Sample:                                11-01-2017   HQIC                           152.536\n",
              "                                     - 04-01-2020                                         \n",
              "Covariance Type:                              opg                                         \n",
              "==============================================================================\n",
              "                 coef    std err          z      P>|z|      [0.025      0.975]\n",
              "------------------------------------------------------------------------------\n",
              "ar.L1          0.2915      2.193      0.133      0.894      -4.007       4.590\n",
              "ma.L1         -0.3052      2.132     -0.143      0.886      -4.484       3.873\n",
              "ma.L2         -0.2980      1.108     -0.269      0.788      -2.469       1.873\n",
              "ar.S.L12       0.1112   1.33e+04   8.39e-06      1.000    -2.6e+04     2.6e+04\n",
              "ar.S.L24       0.0167    2.2e+05   7.59e-08      1.000    -4.3e+05     4.3e+05\n",
              "ma.S.L12       0.1162   1.19e+04   9.73e-06      1.000   -2.34e+04    2.34e+04\n",
              "ma.S.L24      -0.0146   2.34e+05  -6.23e-08      1.000   -4.59e+05    4.59e+05\n",
              "sigma2         5.5995   3556.639      0.002      0.999   -6965.284    6976.483\n",
              "===================================================================================\n",
              "Ljung-Box (L1) (Q):                   0.00   Jarque-Bera (JB):               133.45\n",
              "Prob(Q):                              0.98   Prob(JB):                         0.00\n",
              "Heteroskedasticity (H):               9.14   Skew:                            -2.61\n",
              "Prob(H) (two-sided):                  0.00   Kurtosis:                        12.12\n",
              "===================================================================================\n",
              "\n",
              "Warnings:\n",
              "[1] Covariance matrix calculated using the outer product of gradients (complex-step).\n",
              "[2] Covariance matrix is singular or near-singular, with condition number 6.27e+18. Standard errors may be unstable.\n",
              "\"\"\""
            ],
            "text/html": [
              "<table class=\"simpletable\">\n",
              "<caption>SARIMAX Results</caption>\n",
              "<tr>\n",
              "  <th>Dep. Variable:</th>                <td>Close</td>             <th>  No. Observations:  </th>   <td>30</td>   \n",
              "</tr>\n",
              "<tr>\n",
              "  <th>Model:</th>           <td>SARIMAX(1, 1, 2)x(2, 0, 2, 12)</td> <th>  Log Likelihood     </th> <td>-66.555</td>\n",
              "</tr>\n",
              "<tr>\n",
              "  <th>Date:</th>                   <td>Wed, 23 Mar 2022</td>        <th>  AIC                </th> <td>149.110</td>\n",
              "</tr>\n",
              "<tr>\n",
              "  <th>Time:</th>                       <td>12:20:25</td>            <th>  BIC                </th> <td>160.048</td>\n",
              "</tr>\n",
              "<tr>\n",
              "  <th>Sample:</th>                    <td>11-01-2017</td>           <th>  HQIC               </th> <td>152.536</td>\n",
              "</tr>\n",
              "<tr>\n",
              "  <th></th>                          <td>- 04-01-2020</td>          <th>                     </th>    <td> </td>   \n",
              "</tr>\n",
              "<tr>\n",
              "  <th>Covariance Type:</th>               <td>opg</td>              <th>                     </th>    <td> </td>   \n",
              "</tr>\n",
              "</table>\n",
              "<table class=\"simpletable\">\n",
              "<tr>\n",
              "      <td></td>        <th>coef</th>     <th>std err</th>      <th>z</th>      <th>P>|z|</th>  <th>[0.025</th>    <th>0.975]</th>  \n",
              "</tr>\n",
              "<tr>\n",
              "  <th>ar.L1</th>    <td>    0.2915</td> <td>    2.193</td> <td>    0.133</td> <td> 0.894</td> <td>   -4.007</td> <td>    4.590</td>\n",
              "</tr>\n",
              "<tr>\n",
              "  <th>ma.L1</th>    <td>   -0.3052</td> <td>    2.132</td> <td>   -0.143</td> <td> 0.886</td> <td>   -4.484</td> <td>    3.873</td>\n",
              "</tr>\n",
              "<tr>\n",
              "  <th>ma.L2</th>    <td>   -0.2980</td> <td>    1.108</td> <td>   -0.269</td> <td> 0.788</td> <td>   -2.469</td> <td>    1.873</td>\n",
              "</tr>\n",
              "<tr>\n",
              "  <th>ar.S.L12</th> <td>    0.1112</td> <td> 1.33e+04</td> <td> 8.39e-06</td> <td> 1.000</td> <td> -2.6e+04</td> <td>  2.6e+04</td>\n",
              "</tr>\n",
              "<tr>\n",
              "  <th>ar.S.L24</th> <td>    0.0167</td> <td>  2.2e+05</td> <td> 7.59e-08</td> <td> 1.000</td> <td> -4.3e+05</td> <td>  4.3e+05</td>\n",
              "</tr>\n",
              "<tr>\n",
              "  <th>ma.S.L12</th> <td>    0.1162</td> <td> 1.19e+04</td> <td> 9.73e-06</td> <td> 1.000</td> <td>-2.34e+04</td> <td> 2.34e+04</td>\n",
              "</tr>\n",
              "<tr>\n",
              "  <th>ma.S.L24</th> <td>   -0.0146</td> <td> 2.34e+05</td> <td>-6.23e-08</td> <td> 1.000</td> <td>-4.59e+05</td> <td> 4.59e+05</td>\n",
              "</tr>\n",
              "<tr>\n",
              "  <th>sigma2</th>   <td>    5.5995</td> <td> 3556.639</td> <td>    0.002</td> <td> 0.999</td> <td>-6965.284</td> <td> 6976.483</td>\n",
              "</tr>\n",
              "</table>\n",
              "<table class=\"simpletable\">\n",
              "<tr>\n",
              "  <th>Ljung-Box (L1) (Q):</th>     <td>0.00</td> <th>  Jarque-Bera (JB):  </th> <td>133.45</td>\n",
              "</tr>\n",
              "<tr>\n",
              "  <th>Prob(Q):</th>                <td>0.98</td> <th>  Prob(JB):          </th>  <td>0.00</td> \n",
              "</tr>\n",
              "<tr>\n",
              "  <th>Heteroskedasticity (H):</th> <td>9.14</td> <th>  Skew:              </th>  <td>-2.61</td>\n",
              "</tr>\n",
              "<tr>\n",
              "  <th>Prob(H) (two-sided):</th>    <td>0.00</td> <th>  Kurtosis:          </th>  <td>12.12</td>\n",
              "</tr>\n",
              "</table><br/><br/>Warnings:<br/>[1] Covariance matrix calculated using the outer product of gradients (complex-step).<br/>[2] Covariance matrix is singular or near-singular, with condition number 6.27e+18. Standard errors may be unstable."
            ]
          },
          "metadata": {},
          "execution_count": 61
        }
      ],
      "source": [
        "# (1, 1, 2)x(2, 0, 2, 12)\n",
        "model = SARIMAX(train['Close'], order=(1, 1, 2), seasonal_order=(2, 0, 2, 12) )\n",
        "results = model.fit()\n",
        "results.summary()"
      ]
    },
    {
      "cell_type": "code",
      "execution_count": null,
      "metadata": {
        "id": "e-HQnKLxF6SQ"
      },
      "outputs": [],
      "source": [
        "# предсказанные значения\n",
        "start=len(train)\n",
        "end=len(train)+len(test)-1\n",
        "predictions = results.predict(start=start, end=end, dynamic=False, typ='levels').rename('SARIMA(1, 1, 2)x(2, 0, 2, 12) ')"
      ]
    },
    {
      "cell_type": "code",
      "execution_count": null,
      "metadata": {
        "id": "v0AnzPzrF6SQ",
        "outputId": "40c4af21-3c3e-4717-ccfb-36768566bd6e",
        "colab": {
          "base_uri": "https://localhost:8080/"
        }
      },
      "outputs": [
        {
          "output_type": "stream",
          "name": "stdout",
          "text": [
            "predicted=49.41      , expected=45.25      \n",
            "predicted=50.92      , expected=46.53      \n",
            "predicted=51.47      , expected=46.5       \n",
            "predicted=51.82      , expected=47.94      \n",
            "predicted=52.04      , expected=49.92      \n",
            "predicted=51.89      , expected=49.72      \n",
            "predicted=51.59      , expected=52.08      \n",
            "predicted=51.97      , expected=53.34      \n",
            "predicted=52.45      , expected=49.65      \n",
            "predicted=52.94      , expected=49.86      \n",
            "predicted=50.47      , expected=51.28      \n",
            "predicted=50.14      , expected=53.59      \n",
            "predicted=50.79      , expected=54.6       \n",
            "predicted=51.08      , expected=55.01      \n",
            "predicted=51.19      , expected=55.73      \n",
            "predicted=51.24      , expected=56.56      \n",
            "predicted=51.27      , expected=54.91      \n",
            "predicted=51.25      , expected=54.32      \n",
            "predicted=51.23      , expected=55.8       \n",
            "predicted=51.27      , expected=55.78      \n"
          ]
        }
      ],
      "source": [
        "# Сравниваем результаты\n",
        "for i in range(len(predictions)):\n",
        "    print(f\"predicted={predictions[i]:<11.4}, expected={test['Close'][i]:<11.4}\")"
      ]
    },
    {
      "cell_type": "markdown",
      "source": [
        "Строим графики"
      ],
      "metadata": {
        "id": "-6LoOK2t6ObY"
      }
    },
    {
      "cell_type": "code",
      "execution_count": null,
      "metadata": {
        "id": "dTG_vmtDF6SR",
        "outputId": "0d70f921-d81b-4da3-e234-1c44ee9d30e9",
        "colab": {
          "base_uri": "https://localhost:8080/",
          "height": 402
        }
      },
      "outputs": [
        {
          "output_type": "display_data",
          "data": {
            "text/plain": [
              "<Figure size 864x432 with 1 Axes>"
            ],
            "image/png": "[encoded data removed]"
          },
          "metadata": {
            "needs_background": "light"
          }
        }
      ],
      "source": [
        "# графики\n",
        "title = 'Close_Stock Price Coca-Cola '\n",
        "ylabel='USD'\n",
        "xlabel=''\n",
        "\n",
        "ax = test['Close'].plot(legend=True,figsize=(12,6),title=title)\n",
        "predictions.plot(legend=True)\n",
        "ax.autoscale(axis='x',tight=True)\n",
        "ax.set(xlabel=xlabel, ylabel=ylabel);"
      ]
    },
    {
      "cell_type": "markdown",
      "metadata": {
        "id": "txDF3Y55F6SR"
      },
      "source": [
        "### Оценка модели"
      ]
    },
    {
      "cell_type": "code",
      "execution_count": null,
      "metadata": {
        "id": "AfN2CHCWF6SR",
        "outputId": "12ac429c-ef51-4027-f95a-746d23955553",
        "colab": {
          "base_uri": "https://localhost:8080/"
        }
      },
      "outputs": [
        {
          "output_type": "stream",
          "name": "stdout",
          "text": [
            "SARIMA(1, 1, 2)x(2, 0, 2, 12) MSE Error:       13.01\n"
          ]
        }
      ],
      "source": [
        "from sklearn.metrics import mean_squared_error\n",
        "\n",
        "error = mean_squared_error(test['Close'], predictions)\n",
        "print(f'SARIMA(1, 1, 2)x(2, 0, 2, 12) MSE Error: {error:11.5}')"
      ]
    },
    {
      "cell_type": "code",
      "execution_count": null,
      "metadata": {
        "id": "Tw3HKd-gF6SS",
        "outputId": "0f971020-891a-4e0a-bd4e-0a86173340d5",
        "colab": {
          "base_uri": "https://localhost:8080/"
        }
      },
      "outputs": [
        {
          "output_type": "stream",
          "name": "stdout",
          "text": [
            "SARIMA(1, 1, 2)x(2, 0, 2, 12) RMSE Error: 3.606977487\n"
          ]
        }
      ],
      "source": [
        "from statsmodels.tools.eval_measures import rmse\n",
        "# rmse = root mse\n",
        "error = rmse(test['Close'], predictions)\n",
        "print(f'SARIMA(1, 1, 2)x(2, 0, 2, 12) RMSE Error: {error:11.10}')"
      ]
    },
    {
      "cell_type": "markdown",
      "source": [
        "RMSE около 4 USD, это много для принятия решения, но посмотрим каким будет прогноз. Если положительным (рост акций) - вернемся к вопросу RMSE"
      ],
      "metadata": {
        "id": "RJ5NEIAt7BS3"
      }
    },
    {
      "cell_type": "markdown",
      "metadata": {
        "id": "A2BAKxNKF6SS"
      },
      "source": [
        "\n",
        "### Обучаем модель на полных данных и прогнозируем будущее :)"
      ]
    },
    {
      "cell_type": "code",
      "execution_count": null,
      "metadata": {
        "id": "RwRs_k8BF6SS"
      },
      "outputs": [],
      "source": [
        "# (1, 1, 2)x(2, 0, 2, 12)\n",
        "model = SARIMAX(df_final['Close'],order=(1, 1, 2),seasonal_order=(2, 0, 2, 12))\n",
        "results = model.fit()\n",
        "\n",
        "fcast = results.predict(len(df_final),len(df_final)+12,typ='levels').rename('SARIMA(1, 1, 2)x(2, 0, 2, 12) Forecast')\n"
      ]
    },
    {
      "cell_type": "code",
      "execution_count": null,
      "metadata": {
        "id": "wI8PLcj3F6SS",
        "outputId": "07dd393f-8a72-46fd-f217-8e7c53fc9c7f",
        "colab": {
          "base_uri": "https://localhost:8080/",
          "height": 390
        }
      },
      "outputs": [
        {
          "output_type": "display_data",
          "data": {
            "text/plain": [
              "<Figure size 864x432 with 1 Axes>"
            ],
            "image/png": "[encoded data removed]"
          },
          "metadata": {
            "needs_background": "light"
          }
        }
      ],
      "source": [
        "# график\n",
        "title = 'Stock Price Coca-Cola '\n",
        "ylabel='USD'\n",
        "xlabel=''\n",
        "\n",
        "ax = df_final['Close'].plot(legend=True,figsize=(12,6),title=title)\n",
        "fcast.plot(legend=True)\n",
        "ax.autoscale(axis='x',tight=True)\n",
        "ax.set(xlabel=xlabel, ylabel=ylabel);"
      ]
    },
    {
      "cell_type": "markdown",
      "source": [
        "Вывод: в результате исследования построена модель прогнозирования стоимости акций. Результат прогноза - падение стоимости, т.е. среднесрочное инвестирование нецелесообразно"
      ],
      "metadata": {
        "id": "3U8mlEY17kpH"
      }
    }
  ],
  "metadata": {
    "kernelspec": {
      "display_name": "Python 3 (ipykernel)",
      "language": "python",
      "name": "python3"
    },
    "language_info": {
      "codemirror_mode": {
        "name": "ipython",
        "version": 3
      },
      "file_extension": ".py",
      "mimetype": "text/x-python",
      "name": "python",
      "nbconvert_exporter": "python",
      "pygments_lexer": "ipython3",
      "version": "3.9.7"
    },
    "colab": {
      "name": "Итоговая аттестация Бутин SARIMA.ipynb",
      "provenance": [],
      "collapsed_sections": [],
      "include_colab_link": true
    }
  },
  "nbformat": 4,
  "nbformat_minor": 0
}