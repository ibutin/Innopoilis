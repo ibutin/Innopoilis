{
  "cells": [
    {
      "cell_type": "markdown",
      "metadata": {
        "id": "view-in-github",
        "colab_type": "text"
      },
      "source": [
        "<a href=\"https://colab.research.google.com/github/ibutin/Innopoilis/blob/main/%D0%98%D1%82%D0%BE%D0%B3%D0%BE%D0%B2%D0%B0%D1%8F_%D0%B0%D1%82%D1%82%D0%B5%D1%81%D1%82%D0%B0%D1%86%D0%B8%D1%8F_%D0%91%D1%83%D1%82%D0%B8%D0%BD_SARIMA.ipynb\" target=\"_parent\"><img src=\"https://colab.research.google.com/assets/colab-badge.svg\" alt=\"Open In Colab\"/></a>"
      ]
    },
    {
      "cell_type": "markdown",
      "metadata": {
        "id": "qJ4MyZrUF6SI"
      },
      "source": [
        "## Введение. Постановка целей и задач"
      ]
    },
    {
      "cell_type": "markdown",
      "source": [
        "Цель этой аттестационной работы - попытаться предсказать поведение акций компании Coca-Cola в следующие 12 мес для принятия возможного решения о среднесрочном инвестировании свободных средств для получения дохода выше депозитного дохода. При этом, необходимо учитывать, что биржевая стоимость акций в среднесрочном и долгосрочном периоде не имеет постоянного цикла изменений и определяется множеством факторов включая стоимость сырьевых товаров, страновые риски, проведение военных действий, выведение на рынок новых товаров. действия конкурентов. правительств и регулирующих органов - т.е биржевая цена, как нам повторяют трейдеры \"учитывает ВСЕ\". таким образом, проводимый анализ на основании исторических данных цены имеет все-же учебную цель - закрепление пройденного материала по анализу временных рядов"
      ],
      "metadata": {
        "id": "nLxQwx4F0ba4"
      }
    },
    {
      "cell_type": "markdown",
      "metadata": {
        "id": "fsEnvXWXUe2z"
      },
      "source": [
        "### Импорт Датафрейма, библиотек, написание функций."
      ]
    },
    {
      "cell_type": "markdown",
      "metadata": {
        "id": "otOFZm6dUexQ"
      },
      "source": [
        "В этом блоке мы импортируем все, что нам нужно для работы: библиотеки, отдельные функции, сам датасет."
      ]
    },
    {
      "cell_type": "code",
      "execution_count": 37,
      "metadata": {
        "id": "LBFrQBHzHCtM",
        "outputId": "80f1b9bc-89a3-4107-fcf7-365e9683d3df",
        "colab": {
          "base_uri": "https://localhost:8080/"
        }
      },
      "outputs": [
        {
          "output_type": "stream",
          "name": "stdout",
          "text": [
            "Requirement already satisfied: pmdarima in /usr/local/lib/python3.7/dist-packages (1.8.5)\n",
            "Requirement already satisfied: scikit-learn>=0.22 in /usr/local/lib/python3.7/dist-packages (from pmdarima) (1.0.2)\n",
            "Requirement already satisfied: joblib>=0.11 in /usr/local/lib/python3.7/dist-packages (from pmdarima) (1.1.0)\n",
            "Requirement already satisfied: setuptools!=50.0.0,>=38.6.0 in /usr/local/lib/python3.7/dist-packages (from pmdarima) (57.4.0)\n",
            "Requirement already satisfied: scipy>=1.3.2 in /usr/local/lib/python3.7/dist-packages (from pmdarima) (1.4.1)\n",
            "Requirement already satisfied: Cython!=0.29.18,>=0.29 in /usr/local/lib/python3.7/dist-packages (from pmdarima) (0.29.28)\n",
            "Requirement already satisfied: urllib3 in /usr/local/lib/python3.7/dist-packages (from pmdarima) (1.24.3)\n",
            "Requirement already satisfied: statsmodels!=0.12.0,>=0.11 in /usr/local/lib/python3.7/dist-packages (from pmdarima) (0.13.2)\n",
            "Requirement already satisfied: numpy>=1.19.3 in /usr/local/lib/python3.7/dist-packages (from pmdarima) (1.21.5)\n",
            "Requirement already satisfied: pandas>=0.19 in /usr/local/lib/python3.7/dist-packages (from pmdarima) (1.3.5)\n",
            "Requirement already satisfied: pytz>=2017.3 in /usr/local/lib/python3.7/dist-packages (from pandas>=0.19->pmdarima) (2018.9)\n",
            "Requirement already satisfied: python-dateutil>=2.7.3 in /usr/local/lib/python3.7/dist-packages (from pandas>=0.19->pmdarima) (2.8.2)\n",
            "Requirement already satisfied: six>=1.5 in /usr/local/lib/python3.7/dist-packages (from python-dateutil>=2.7.3->pandas>=0.19->pmdarima) (1.15.0)\n",
            "Requirement already satisfied: threadpoolctl>=2.0.0 in /usr/local/lib/python3.7/dist-packages (from scikit-learn>=0.22->pmdarima) (3.1.0)\n",
            "Requirement already satisfied: patsy>=0.5.2 in /usr/local/lib/python3.7/dist-packages (from statsmodels!=0.12.0,>=0.11->pmdarima) (0.5.2)\n",
            "Requirement already satisfied: packaging>=21.3 in /usr/local/lib/python3.7/dist-packages (from statsmodels!=0.12.0,>=0.11->pmdarima) (21.3)\n",
            "Requirement already satisfied: pyparsing!=3.0.5,>=2.0.2 in /usr/local/lib/python3.7/dist-packages (from packaging>=21.3->statsmodels!=0.12.0,>=0.11->pmdarima) (3.0.7)\n"
          ]
        }
      ],
      "source": [
        "!pip install pmdarima"
      ]
    },
    {
      "cell_type": "code",
      "source": [
        "## Здесь импортируем библиотеки и функции \n",
        "import pandas as pd\n",
        "import numpy as np\n",
        "%matplotlib inline\n",
        "\n",
        "# импорт SARIMAX \n",
        "from statsmodels.tsa.statespace.sarimax import SARIMAX\n",
        "\n",
        "from statsmodels.graphics.tsaplots import plot_acf,plot_pacf # для определения (p,q) \n",
        "from statsmodels.tsa.seasonal import seasonal_decompose      # для ETS графиков\n",
        "from pmdarima import auto_arima                              # для поиска ARIMA моделей\n",
        "\n",
        "# метрики\n",
        "from sklearn.metrics import mean_squared_error\n",
        "from statsmodels.tools.eval_measures import rmse\n",
        "\n",
        "# для игнорирования предупреждений (опционально)\n",
        "import warnings\n",
        "warnings.filterwarnings(\"ignore\")"
      ],
      "metadata": {
        "id": "25cSYRT6Hg1K"
      },
      "execution_count": 38,
      "outputs": []
    },
    {
      "cell_type": "markdown",
      "source": [
        "Импортируем данные - из моего репозитория GitHub куда подгрузили датасет заранее"
      ],
      "metadata": {
        "id": "6BT7F-ciT5mB"
      }
    },
    {
      "cell_type": "code",
      "source": [
        "url = 'https://raw.githubusercontent.com/ibutin/Innopoilis/main/COCO%20COLA.csv'"
      ],
      "metadata": {
        "id": "xzsaZyh6T3Hg"
      },
      "execution_count": 39,
      "outputs": []
    },
    {
      "cell_type": "code",
      "source": [
        "## Здесь импортируем данные.\n",
        "df = pd.read_csv(url)"
      ],
      "metadata": {
        "id": "axBvMsJuGdtr"
      },
      "execution_count": 40,
      "outputs": []
    },
    {
      "cell_type": "markdown",
      "metadata": {
        "id": "plIXeY2aUeuv"
      },
      "source": [
        "### Знакомство с данными."
      ]
    },
    {
      "cell_type": "markdown",
      "metadata": {
        "id": "2CFkHRlGUerR"
      },
      "source": [
        "Этот блок посвящен первоначальному знакомству с данными\n",
        "\n",
        "Наша задача - посмотреть на данные методами .info(), а также изучить их визуально.\n"
      ]
    },
    {
      "cell_type": "code",
      "source": [
        "df.info()"
      ],
      "metadata": {
        "colab": {
          "base_uri": "https://localhost:8080/"
        },
        "id": "4xp0cp55KhPc",
        "outputId": "aad1480a-4c08-46e8-bb3e-309776b493b4"
      },
      "execution_count": 41,
      "outputs": [
        {
          "output_type": "stream",
          "name": "stdout",
          "text": [
            "<class 'pandas.core.frame.DataFrame'>\n",
            "RangeIndex: 15096 entries, 0 to 15095\n",
            "Data columns (total 7 columns):\n",
            " #   Column     Non-Null Count  Dtype  \n",
            "---  ------     --------------  -----  \n",
            " 0   Date       15096 non-null  object \n",
            " 1   Open       15096 non-null  float64\n",
            " 2   High       15096 non-null  float64\n",
            " 3   Low        15096 non-null  float64\n",
            " 4   Close      15096 non-null  float64\n",
            " 5   Adj Close  15096 non-null  float64\n",
            " 6   Volume     15096 non-null  int64  \n",
            "dtypes: float64(5), int64(1), object(1)\n",
            "memory usage: 825.7+ KB\n"
          ]
        }
      ]
    },
    {
      "cell_type": "code",
      "execution_count": 42,
      "metadata": {
        "colab": {
          "base_uri": "https://localhost:8080/",
          "height": 206
        },
        "id": "tVFBLHsHF6SK",
        "outputId": "e2543f7d-59ba-4b7f-e10d-052caa5c73e1"
      },
      "outputs": [
        {
          "output_type": "execute_result",
          "data": {
            "text/plain": [
              "         Date      Open      High       Low     Close  Adj Close   Volume\n",
              "0  1962-01-02  0.263021  0.270182  0.263021  0.263021   0.051133   806400\n",
              "1  1962-01-03  0.259115  0.259115  0.253255  0.257161   0.049994  1574400\n",
              "2  1962-01-04  0.257813  0.261068  0.257813  0.259115   0.050374   844800\n",
              "3  1962-01-05  0.259115  0.262370  0.252604  0.253255   0.049234  1420800\n",
              "4  1962-01-08  0.251302  0.251302  0.245768  0.250651   0.048728  2035200"
            ],
            "text/html": [
              "\n",
              "  <div id=\"df-904176d6-493a-4e26-9216-d83d2a9f348e\">\n",
              "    <div class=\"colab-df-container\">\n",
              "      <div>\n",
              "<style scoped>\n",
              "    .dataframe tbody tr th:only-of-type {\n",
              "        vertical-align: middle;\n",
              "    }\n",
              "\n",
              "    .dataframe tbody tr th {\n",
              "        vertical-align: top;\n",
              "    }\n",
              "\n",
              "    .dataframe thead th {\n",
              "        text-align: right;\n",
              "    }\n",
              "</style>\n",
              "<table border=\"1\" class=\"dataframe\">\n",
              "  <thead>\n",
              "    <tr style=\"text-align: right;\">\n",
              "      <th></th>\n",
              "      <th>Date</th>\n",
              "      <th>Open</th>\n",
              "      <th>High</th>\n",
              "      <th>Low</th>\n",
              "      <th>Close</th>\n",
              "      <th>Adj Close</th>\n",
              "      <th>Volume</th>\n",
              "    </tr>\n",
              "  </thead>\n",
              "  <tbody>\n",
              "    <tr>\n",
              "      <th>0</th>\n",
              "      <td>1962-01-02</td>\n",
              "      <td>0.263021</td>\n",
              "      <td>0.270182</td>\n",
              "      <td>0.263021</td>\n",
              "      <td>0.263021</td>\n",
              "      <td>0.051133</td>\n",
              "      <td>806400</td>\n",
              "    </tr>\n",
              "    <tr>\n",
              "      <th>1</th>\n",
              "      <td>1962-01-03</td>\n",
              "      <td>0.259115</td>\n",
              "      <td>0.259115</td>\n",
              "      <td>0.253255</td>\n",
              "      <td>0.257161</td>\n",
              "      <td>0.049994</td>\n",
              "      <td>1574400</td>\n",
              "    </tr>\n",
              "    <tr>\n",
              "      <th>2</th>\n",
              "      <td>1962-01-04</td>\n",
              "      <td>0.257813</td>\n",
              "      <td>0.261068</td>\n",
              "      <td>0.257813</td>\n",
              "      <td>0.259115</td>\n",
              "      <td>0.050374</td>\n",
              "      <td>844800</td>\n",
              "    </tr>\n",
              "    <tr>\n",
              "      <th>3</th>\n",
              "      <td>1962-01-05</td>\n",
              "      <td>0.259115</td>\n",
              "      <td>0.262370</td>\n",
              "      <td>0.252604</td>\n",
              "      <td>0.253255</td>\n",
              "      <td>0.049234</td>\n",
              "      <td>1420800</td>\n",
              "    </tr>\n",
              "    <tr>\n",
              "      <th>4</th>\n",
              "      <td>1962-01-08</td>\n",
              "      <td>0.251302</td>\n",
              "      <td>0.251302</td>\n",
              "      <td>0.245768</td>\n",
              "      <td>0.250651</td>\n",
              "      <td>0.048728</td>\n",
              "      <td>2035200</td>\n",
              "    </tr>\n",
              "  </tbody>\n",
              "</table>\n",
              "</div>\n",
              "      <button class=\"colab-df-convert\" onclick=\"convertToInteractive('df-904176d6-493a-4e26-9216-d83d2a9f348e')\"\n",
              "              title=\"Convert this dataframe to an interactive table.\"\n",
              "              style=\"display:none;\">\n",
              "        \n",
              "  <svg xmlns=\"http://www.w3.org/2000/svg\" height=\"24px\"viewBox=\"0 0 24 24\"\n",
              "       width=\"24px\">\n",
              "    <path d=\"M0 0h24v24H0V0z\" fill=\"none\"/>\n",
              "    <path d=\"M18.56 5.44l.94 2.06.94-2.06 2.06-.94-2.06-.94-.94-2.06-.94 2.06-2.06.94zm-11 1L8.5 8.5l.94-2.06 2.06-.94-2.06-.94L8.5 2.5l-.94 2.06-2.06.94zm10 10l.94 2.06.94-2.06 2.06-.94-2.06-.94-.94-2.06-.94 2.06-2.06.94z\"/><path d=\"M17.41 7.96l-1.37-1.37c-.4-.4-.92-.59-1.43-.59-.52 0-1.04.2-1.43.59L10.3 9.45l-7.72 7.72c-.78.78-.78 2.05 0 2.83L4 21.41c.39.39.9.59 1.41.59.51 0 1.02-.2 1.41-.59l7.78-7.78 2.81-2.81c.8-.78.8-2.07 0-2.86zM5.41 20L4 18.59l7.72-7.72 1.47 1.35L5.41 20z\"/>\n",
              "  </svg>\n",
              "      </button>\n",
              "      \n",
              "  <style>\n",
              "    .colab-df-container {\n",
              "      display:flex;\n",
              "      flex-wrap:wrap;\n",
              "      gap: 12px;\n",
              "    }\n",
              "\n",
              "    .colab-df-convert {\n",
              "      background-color: #E8F0FE;\n",
              "      border: none;\n",
              "      border-radius: 50%;\n",
              "      cursor: pointer;\n",
              "      display: none;\n",
              "      fill: #1967D2;\n",
              "      height: 32px;\n",
              "      padding: 0 0 0 0;\n",
              "      width: 32px;\n",
              "    }\n",
              "\n",
              "    .colab-df-convert:hover {\n",
              "      background-color: #E2EBFA;\n",
              "      box-shadow: 0px 1px 2px rgba(60, 64, 67, 0.3), 0px 1px 3px 1px rgba(60, 64, 67, 0.15);\n",
              "      fill: #174EA6;\n",
              "    }\n",
              "\n",
              "    [theme=dark] .colab-df-convert {\n",
              "      background-color: #3B4455;\n",
              "      fill: #D2E3FC;\n",
              "    }\n",
              "\n",
              "    [theme=dark] .colab-df-convert:hover {\n",
              "      background-color: #434B5C;\n",
              "      box-shadow: 0px 1px 3px 1px rgba(0, 0, 0, 0.15);\n",
              "      filter: drop-shadow(0px 1px 2px rgba(0, 0, 0, 0.3));\n",
              "      fill: #FFFFFF;\n",
              "    }\n",
              "  </style>\n",
              "\n",
              "      <script>\n",
              "        const buttonEl =\n",
              "          document.querySelector('#df-904176d6-493a-4e26-9216-d83d2a9f348e button.colab-df-convert');\n",
              "        buttonEl.style.display =\n",
              "          google.colab.kernel.accessAllowed ? 'block' : 'none';\n",
              "\n",
              "        async function convertToInteractive(key) {\n",
              "          const element = document.querySelector('#df-904176d6-493a-4e26-9216-d83d2a9f348e');\n",
              "          const dataTable =\n",
              "            await google.colab.kernel.invokeFunction('convertToInteractive',\n",
              "                                                     [key], {});\n",
              "          if (!dataTable) return;\n",
              "\n",
              "          const docLinkHtml = 'Like what you see? Visit the ' +\n",
              "            '<a target=\"_blank\" href=https://colab.research.google.com/notebooks/data_table.ipynb>data table notebook</a>'\n",
              "            + ' to learn more about interactive tables.';\n",
              "          element.innerHTML = '';\n",
              "          dataTable['output_type'] = 'display_data';\n",
              "          await google.colab.output.renderOutput(dataTable, element);\n",
              "          const docLink = document.createElement('div');\n",
              "          docLink.innerHTML = docLinkHtml;\n",
              "          element.appendChild(docLink);\n",
              "        }\n",
              "      </script>\n",
              "    </div>\n",
              "  </div>\n",
              "  "
            ]
          },
          "metadata": {},
          "execution_count": 42
        }
      ],
      "source": [
        "df.head()"
      ]
    },
    {
      "cell_type": "code",
      "source": [
        "df.describe()"
      ],
      "metadata": {
        "colab": {
          "base_uri": "https://localhost:8080/",
          "height": 300
        },
        "id": "mvyQh7wmI5fg",
        "outputId": "575cae2f-33ab-490a-ffff-c8ea403e6341"
      },
      "execution_count": 43,
      "outputs": [
        {
          "output_type": "execute_result",
          "data": {
            "text/plain": [
              "               Open          High           Low         Close     Adj Close  \\\n",
              "count  15096.000000  15096.000000  15096.000000  15096.000000  15096.000000   \n",
              "mean      16.056202     16.188428     15.921876     16.060734     11.367487   \n",
              "std       16.939301     17.064336     16.811753     16.941712     14.253637   \n",
              "min        0.192708      0.193359      0.182292      0.192057      0.037855   \n",
              "25%        0.860677      0.869792      0.854167      0.860352      0.242312   \n",
              "50%        9.328125      9.398438      9.218750      9.351562      4.642848   \n",
              "75%       28.875000     29.167500     28.563125     28.901562     17.251080   \n",
              "max       59.810001     60.130001     59.619999     60.130001     58.650002   \n",
              "\n",
              "             Volume  \n",
              "count  1.509600e+04  \n",
              "mean   9.032904e+06  \n",
              "std    7.935744e+06  \n",
              "min    7.680000e+04  \n",
              "25%    2.812800e+06  \n",
              "50%    7.585200e+06  \n",
              "75%    1.291275e+07  \n",
              "max    1.241690e+08  "
            ],
            "text/html": [
              "\n",
              "  <div id=\"df-b3ae0bff-4934-4d76-ba71-b03ba5aab1a2\">\n",
              "    <div class=\"colab-df-container\">\n",
              "      <div>\n",
              "<style scoped>\n",
              "    .dataframe tbody tr th:only-of-type {\n",
              "        vertical-align: middle;\n",
              "    }\n",
              "\n",
              "    .dataframe tbody tr th {\n",
              "        vertical-align: top;\n",
              "    }\n",
              "\n",
              "    .dataframe thead th {\n",
              "        text-align: right;\n",
              "    }\n",
              "</style>\n",
              "<table border=\"1\" class=\"dataframe\">\n",
              "  <thead>\n",
              "    <tr style=\"text-align: right;\">\n",
              "      <th></th>\n",
              "      <th>Open</th>\n",
              "      <th>High</th>\n",
              "      <th>Low</th>\n",
              "      <th>Close</th>\n",
              "      <th>Adj Close</th>\n",
              "      <th>Volume</th>\n",
              "    </tr>\n",
              "  </thead>\n",
              "  <tbody>\n",
              "    <tr>\n",
              "      <th>count</th>\n",
              "      <td>15096.000000</td>\n",
              "      <td>15096.000000</td>\n",
              "      <td>15096.000000</td>\n",
              "      <td>15096.000000</td>\n",
              "      <td>15096.000000</td>\n",
              "      <td>1.509600e+04</td>\n",
              "    </tr>\n",
              "    <tr>\n",
              "      <th>mean</th>\n",
              "      <td>16.056202</td>\n",
              "      <td>16.188428</td>\n",
              "      <td>15.921876</td>\n",
              "      <td>16.060734</td>\n",
              "      <td>11.367487</td>\n",
              "      <td>9.032904e+06</td>\n",
              "    </tr>\n",
              "    <tr>\n",
              "      <th>std</th>\n",
              "      <td>16.939301</td>\n",
              "      <td>17.064336</td>\n",
              "      <td>16.811753</td>\n",
              "      <td>16.941712</td>\n",
              "      <td>14.253637</td>\n",
              "      <td>7.935744e+06</td>\n",
              "    </tr>\n",
              "    <tr>\n",
              "      <th>min</th>\n",
              "      <td>0.192708</td>\n",
              "      <td>0.193359</td>\n",
              "      <td>0.182292</td>\n",
              "      <td>0.192057</td>\n",
              "      <td>0.037855</td>\n",
              "      <td>7.680000e+04</td>\n",
              "    </tr>\n",
              "    <tr>\n",
              "      <th>25%</th>\n",
              "      <td>0.860677</td>\n",
              "      <td>0.869792</td>\n",
              "      <td>0.854167</td>\n",
              "      <td>0.860352</td>\n",
              "      <td>0.242312</td>\n",
              "      <td>2.812800e+06</td>\n",
              "    </tr>\n",
              "    <tr>\n",
              "      <th>50%</th>\n",
              "      <td>9.328125</td>\n",
              "      <td>9.398438</td>\n",
              "      <td>9.218750</td>\n",
              "      <td>9.351562</td>\n",
              "      <td>4.642848</td>\n",
              "      <td>7.585200e+06</td>\n",
              "    </tr>\n",
              "    <tr>\n",
              "      <th>75%</th>\n",
              "      <td>28.875000</td>\n",
              "      <td>29.167500</td>\n",
              "      <td>28.563125</td>\n",
              "      <td>28.901562</td>\n",
              "      <td>17.251080</td>\n",
              "      <td>1.291275e+07</td>\n",
              "    </tr>\n",
              "    <tr>\n",
              "      <th>max</th>\n",
              "      <td>59.810001</td>\n",
              "      <td>60.130001</td>\n",
              "      <td>59.619999</td>\n",
              "      <td>60.130001</td>\n",
              "      <td>58.650002</td>\n",
              "      <td>1.241690e+08</td>\n",
              "    </tr>\n",
              "  </tbody>\n",
              "</table>\n",
              "</div>\n",
              "      <button class=\"colab-df-convert\" onclick=\"convertToInteractive('df-b3ae0bff-4934-4d76-ba71-b03ba5aab1a2')\"\n",
              "              title=\"Convert this dataframe to an interactive table.\"\n",
              "              style=\"display:none;\">\n",
              "        \n",
              "  <svg xmlns=\"http://www.w3.org/2000/svg\" height=\"24px\"viewBox=\"0 0 24 24\"\n",
              "       width=\"24px\">\n",
              "    <path d=\"M0 0h24v24H0V0z\" fill=\"none\"/>\n",
              "    <path d=\"M18.56 5.44l.94 2.06.94-2.06 2.06-.94-2.06-.94-.94-2.06-.94 2.06-2.06.94zm-11 1L8.5 8.5l.94-2.06 2.06-.94-2.06-.94L8.5 2.5l-.94 2.06-2.06.94zm10 10l.94 2.06.94-2.06 2.06-.94-2.06-.94-.94-2.06-.94 2.06-2.06.94z\"/><path d=\"M17.41 7.96l-1.37-1.37c-.4-.4-.92-.59-1.43-.59-.52 0-1.04.2-1.43.59L10.3 9.45l-7.72 7.72c-.78.78-.78 2.05 0 2.83L4 21.41c.39.39.9.59 1.41.59.51 0 1.02-.2 1.41-.59l7.78-7.78 2.81-2.81c.8-.78.8-2.07 0-2.86zM5.41 20L4 18.59l7.72-7.72 1.47 1.35L5.41 20z\"/>\n",
              "  </svg>\n",
              "      </button>\n",
              "      \n",
              "  <style>\n",
              "    .colab-df-container {\n",
              "      display:flex;\n",
              "      flex-wrap:wrap;\n",
              "      gap: 12px;\n",
              "    }\n",
              "\n",
              "    .colab-df-convert {\n",
              "      background-color: #E8F0FE;\n",
              "      border: none;\n",
              "      border-radius: 50%;\n",
              "      cursor: pointer;\n",
              "      display: none;\n",
              "      fill: #1967D2;\n",
              "      height: 32px;\n",
              "      padding: 0 0 0 0;\n",
              "      width: 32px;\n",
              "    }\n",
              "\n",
              "    .colab-df-convert:hover {\n",
              "      background-color: #E2EBFA;\n",
              "      box-shadow: 0px 1px 2px rgba(60, 64, 67, 0.3), 0px 1px 3px 1px rgba(60, 64, 67, 0.15);\n",
              "      fill: #174EA6;\n",
              "    }\n",
              "\n",
              "    [theme=dark] .colab-df-convert {\n",
              "      background-color: #3B4455;\n",
              "      fill: #D2E3FC;\n",
              "    }\n",
              "\n",
              "    [theme=dark] .colab-df-convert:hover {\n",
              "      background-color: #434B5C;\n",
              "      box-shadow: 0px 1px 3px 1px rgba(0, 0, 0, 0.15);\n",
              "      filter: drop-shadow(0px 1px 2px rgba(0, 0, 0, 0.3));\n",
              "      fill: #FFFFFF;\n",
              "    }\n",
              "  </style>\n",
              "\n",
              "      <script>\n",
              "        const buttonEl =\n",
              "          document.querySelector('#df-b3ae0bff-4934-4d76-ba71-b03ba5aab1a2 button.colab-df-convert');\n",
              "        buttonEl.style.display =\n",
              "          google.colab.kernel.accessAllowed ? 'block' : 'none';\n",
              "\n",
              "        async function convertToInteractive(key) {\n",
              "          const element = document.querySelector('#df-b3ae0bff-4934-4d76-ba71-b03ba5aab1a2');\n",
              "          const dataTable =\n",
              "            await google.colab.kernel.invokeFunction('convertToInteractive',\n",
              "                                                     [key], {});\n",
              "          if (!dataTable) return;\n",
              "\n",
              "          const docLinkHtml = 'Like what you see? Visit the ' +\n",
              "            '<a target=\"_blank\" href=https://colab.research.google.com/notebooks/data_table.ipynb>data table notebook</a>'\n",
              "            + ' to learn more about interactive tables.';\n",
              "          element.innerHTML = '';\n",
              "          dataTable['output_type'] = 'display_data';\n",
              "          await google.colab.output.renderOutput(dataTable, element);\n",
              "          const docLink = document.createElement('div');\n",
              "          docLink.innerHTML = docLinkHtml;\n",
              "          element.appendChild(docLink);\n",
              "        }\n",
              "      </script>\n",
              "    </div>\n",
              "  </div>\n",
              "  "
            ]
          },
          "metadata": {},
          "execution_count": 43
        }
      ]
    },
    {
      "cell_type": "code",
      "source": [
        "df.dtypes"
      ],
      "metadata": {
        "colab": {
          "base_uri": "https://localhost:8080/"
        },
        "id": "7e2ywU23JRLe",
        "outputId": "abf2cbba-87c4-4875-87e1-6e6eac6f28fb"
      },
      "execution_count": 44,
      "outputs": [
        {
          "output_type": "execute_result",
          "data": {
            "text/plain": [
              "Date          object\n",
              "Open         float64\n",
              "High         float64\n",
              "Low          float64\n",
              "Close        float64\n",
              "Adj Close    float64\n",
              "Volume         int64\n",
              "dtype: object"
            ]
          },
          "metadata": {},
          "execution_count": 44
        }
      ]
    },
    {
      "cell_type": "markdown",
      "source": [
        "Выводы по данным: пропусков нет - в каждой колонке 15096 значений. 7 колонок: 6 показателей биржевой цены и 1 колонка объема торгов.\n",
        "Формат цены акций - с плавающей точкой, Объем торгов - целое (это ОК, достаточная точность), а вот формат даты Object потребуется преобразовать"
      ],
      "metadata": {
        "id": "CdOhENgb1fEN"
      }
    },
    {
      "cell_type": "code",
      "execution_count": 45,
      "metadata": {
        "outputId": "be7139ed-f87f-4f1c-8bdc-9880a4e20fe1",
        "colab": {
          "base_uri": "https://localhost:8080/",
          "height": 206
        },
        "id": "WIYvtUnDLiwR"
      },
      "outputs": [
        {
          "output_type": "execute_result",
          "data": {
            "text/plain": [
              "         Date      Open      High       Low     Close  Adj Close   Volume  \\\n",
              "0  1962-01-02  0.263021  0.270182  0.263021  0.263021   0.051133   806400   \n",
              "1  1962-01-03  0.259115  0.259115  0.253255  0.257161   0.049994  1574400   \n",
              "2  1962-01-04  0.257813  0.261068  0.257813  0.259115   0.050374   844800   \n",
              "3  1962-01-05  0.259115  0.262370  0.252604  0.253255   0.049234  1420800   \n",
              "4  1962-01-08  0.251302  0.251302  0.245768  0.250651   0.048728  2035200   \n",
              "\n",
              "    Date_adj  \n",
              "0 1962-01-02  \n",
              "1 1962-01-03  \n",
              "2 1962-01-04  \n",
              "3 1962-01-05  \n",
              "4 1962-01-08  "
            ],
            "text/html": [
              "\n",
              "  <div id=\"df-6a263c91-abf1-4183-8877-36b1b768233b\">\n",
              "    <div class=\"colab-df-container\">\n",
              "      <div>\n",
              "<style scoped>\n",
              "    .dataframe tbody tr th:only-of-type {\n",
              "        vertical-align: middle;\n",
              "    }\n",
              "\n",
              "    .dataframe tbody tr th {\n",
              "        vertical-align: top;\n",
              "    }\n",
              "\n",
              "    .dataframe thead th {\n",
              "        text-align: right;\n",
              "    }\n",
              "</style>\n",
              "<table border=\"1\" class=\"dataframe\">\n",
              "  <thead>\n",
              "    <tr style=\"text-align: right;\">\n",
              "      <th></th>\n",
              "      <th>Date</th>\n",
              "      <th>Open</th>\n",
              "      <th>High</th>\n",
              "      <th>Low</th>\n",
              "      <th>Close</th>\n",
              "      <th>Adj Close</th>\n",
              "      <th>Volume</th>\n",
              "      <th>Date_adj</th>\n",
              "    </tr>\n",
              "  </thead>\n",
              "  <tbody>\n",
              "    <tr>\n",
              "      <th>0</th>\n",
              "      <td>1962-01-02</td>\n",
              "      <td>0.263021</td>\n",
              "      <td>0.270182</td>\n",
              "      <td>0.263021</td>\n",
              "      <td>0.263021</td>\n",
              "      <td>0.051133</td>\n",
              "      <td>806400</td>\n",
              "      <td>1962-01-02</td>\n",
              "    </tr>\n",
              "    <tr>\n",
              "      <th>1</th>\n",
              "      <td>1962-01-03</td>\n",
              "      <td>0.259115</td>\n",
              "      <td>0.259115</td>\n",
              "      <td>0.253255</td>\n",
              "      <td>0.257161</td>\n",
              "      <td>0.049994</td>\n",
              "      <td>1574400</td>\n",
              "      <td>1962-01-03</td>\n",
              "    </tr>\n",
              "    <tr>\n",
              "      <th>2</th>\n",
              "      <td>1962-01-04</td>\n",
              "      <td>0.257813</td>\n",
              "      <td>0.261068</td>\n",
              "      <td>0.257813</td>\n",
              "      <td>0.259115</td>\n",
              "      <td>0.050374</td>\n",
              "      <td>844800</td>\n",
              "      <td>1962-01-04</td>\n",
              "    </tr>\n",
              "    <tr>\n",
              "      <th>3</th>\n",
              "      <td>1962-01-05</td>\n",
              "      <td>0.259115</td>\n",
              "      <td>0.262370</td>\n",
              "      <td>0.252604</td>\n",
              "      <td>0.253255</td>\n",
              "      <td>0.049234</td>\n",
              "      <td>1420800</td>\n",
              "      <td>1962-01-05</td>\n",
              "    </tr>\n",
              "    <tr>\n",
              "      <th>4</th>\n",
              "      <td>1962-01-08</td>\n",
              "      <td>0.251302</td>\n",
              "      <td>0.251302</td>\n",
              "      <td>0.245768</td>\n",
              "      <td>0.250651</td>\n",
              "      <td>0.048728</td>\n",
              "      <td>2035200</td>\n",
              "      <td>1962-01-08</td>\n",
              "    </tr>\n",
              "  </tbody>\n",
              "</table>\n",
              "</div>\n",
              "      <button class=\"colab-df-convert\" onclick=\"convertToInteractive('df-6a263c91-abf1-4183-8877-36b1b768233b')\"\n",
              "              title=\"Convert this dataframe to an interactive table.\"\n",
              "              style=\"display:none;\">\n",
              "        \n",
              "  <svg xmlns=\"http://www.w3.org/2000/svg\" height=\"24px\"viewBox=\"0 0 24 24\"\n",
              "       width=\"24px\">\n",
              "    <path d=\"M0 0h24v24H0V0z\" fill=\"none\"/>\n",
              "    <path d=\"M18.56 5.44l.94 2.06.94-2.06 2.06-.94-2.06-.94-.94-2.06-.94 2.06-2.06.94zm-11 1L8.5 8.5l.94-2.06 2.06-.94-2.06-.94L8.5 2.5l-.94 2.06-2.06.94zm10 10l.94 2.06.94-2.06 2.06-.94-2.06-.94-.94-2.06-.94 2.06-2.06.94z\"/><path d=\"M17.41 7.96l-1.37-1.37c-.4-.4-.92-.59-1.43-.59-.52 0-1.04.2-1.43.59L10.3 9.45l-7.72 7.72c-.78.78-.78 2.05 0 2.83L4 21.41c.39.39.9.59 1.41.59.51 0 1.02-.2 1.41-.59l7.78-7.78 2.81-2.81c.8-.78.8-2.07 0-2.86zM5.41 20L4 18.59l7.72-7.72 1.47 1.35L5.41 20z\"/>\n",
              "  </svg>\n",
              "      </button>\n",
              "      \n",
              "  <style>\n",
              "    .colab-df-container {\n",
              "      display:flex;\n",
              "      flex-wrap:wrap;\n",
              "      gap: 12px;\n",
              "    }\n",
              "\n",
              "    .colab-df-convert {\n",
              "      background-color: #E8F0FE;\n",
              "      border: none;\n",
              "      border-radius: 50%;\n",
              "      cursor: pointer;\n",
              "      display: none;\n",
              "      fill: #1967D2;\n",
              "      height: 32px;\n",
              "      padding: 0 0 0 0;\n",
              "      width: 32px;\n",
              "    }\n",
              "\n",
              "    .colab-df-convert:hover {\n",
              "      background-color: #E2EBFA;\n",
              "      box-shadow: 0px 1px 2px rgba(60, 64, 67, 0.3), 0px 1px 3px 1px rgba(60, 64, 67, 0.15);\n",
              "      fill: #174EA6;\n",
              "    }\n",
              "\n",
              "    [theme=dark] .colab-df-convert {\n",
              "      background-color: #3B4455;\n",
              "      fill: #D2E3FC;\n",
              "    }\n",
              "\n",
              "    [theme=dark] .colab-df-convert:hover {\n",
              "      background-color: #434B5C;\n",
              "      box-shadow: 0px 1px 3px 1px rgba(0, 0, 0, 0.15);\n",
              "      filter: drop-shadow(0px 1px 2px rgba(0, 0, 0, 0.3));\n",
              "      fill: #FFFFFF;\n",
              "    }\n",
              "  </style>\n",
              "\n",
              "      <script>\n",
              "        const buttonEl =\n",
              "          document.querySelector('#df-6a263c91-abf1-4183-8877-36b1b768233b button.colab-df-convert');\n",
              "        buttonEl.style.display =\n",
              "          google.colab.kernel.accessAllowed ? 'block' : 'none';\n",
              "\n",
              "        async function convertToInteractive(key) {\n",
              "          const element = document.querySelector('#df-6a263c91-abf1-4183-8877-36b1b768233b');\n",
              "          const dataTable =\n",
              "            await google.colab.kernel.invokeFunction('convertToInteractive',\n",
              "                                                     [key], {});\n",
              "          if (!dataTable) return;\n",
              "\n",
              "          const docLinkHtml = 'Like what you see? Visit the ' +\n",
              "            '<a target=\"_blank\" href=https://colab.research.google.com/notebooks/data_table.ipynb>data table notebook</a>'\n",
              "            + ' to learn more about interactive tables.';\n",
              "          element.innerHTML = '';\n",
              "          dataTable['output_type'] = 'display_data';\n",
              "          await google.colab.output.renderOutput(dataTable, element);\n",
              "          const docLink = document.createElement('div');\n",
              "          docLink.innerHTML = docLinkHtml;\n",
              "          element.appendChild(docLink);\n",
              "        }\n",
              "      </script>\n",
              "    </div>\n",
              "  </div>\n",
              "  "
            ]
          },
          "metadata": {},
          "execution_count": 45
        }
      ],
      "source": [
        "## Добавим новую колонку Date_adj в формате  datetime\n",
        "df['Date_adj'] = pd.to_datetime(df.Date)\n",
        "df.head()"
      ]
    },
    {
      "cell_type": "code",
      "source": [
        "df.dtypes\n",
        "## Проверяем формат новой колонки - все ОК"
      ],
      "metadata": {
        "colab": {
          "base_uri": "https://localhost:8080/"
        },
        "id": "vtBPxlaBNGgx",
        "outputId": "ffdec15e-d376-4d29-c289-1983a397067a"
      },
      "execution_count": 46,
      "outputs": [
        {
          "output_type": "execute_result",
          "data": {
            "text/plain": [
              "Date                 object\n",
              "Open                float64\n",
              "High                float64\n",
              "Low                 float64\n",
              "Close               float64\n",
              "Adj Close           float64\n",
              "Volume                int64\n",
              "Date_adj     datetime64[ns]\n",
              "dtype: object"
            ]
          },
          "metadata": {},
          "execution_count": 46
        }
      ]
    },
    {
      "cell_type": "markdown",
      "source": [
        "Теперь проблема - для создания временного ряда требуется проиндексировать dataframe по дате - а это не получилось. т.к. есть пропуски дат (выходные, когда нет торгов, праздники и прочее). Кроме того, нам не требуется чуствительность на уровне дней! мы хотим принять решение о среднесрочном инвестировании в производителя напитков. Т.е. Нам достаточно будет уровня значений в каждом месяце"
      ],
      "metadata": {
        "id": "5lGX4x2m245n"
      }
    },
    {
      "cell_type": "code",
      "source": [
        "## Преобразуем Дату Date_adj в колонки Год-Мес-день, потом создадим новую колонку только Год-Мес\n",
        "df['day'] = df['Date_adj'].dt.day\n",
        "df['month'] = df['Date_adj'].dt.month\n",
        "df['year'] = df['Date_adj'].dt.year\n",
        "df['Mth_date']=pd.to_datetime(dict(year=df['year'], month=df['month'], day=1))\n",
        "df.head()\n",
        "## Проверим"
      ],
      "metadata": {
        "colab": {
          "base_uri": "https://localhost:8080/",
          "height": 206
        },
        "id": "HsBeJVZMYe4f",
        "outputId": "bc3ce46f-7722-4238-9f24-7671f3a69d40"
      },
      "execution_count": 47,
      "outputs": [
        {
          "output_type": "execute_result",
          "data": {
            "text/plain": [
              "         Date      Open      High       Low     Close  Adj Close   Volume  \\\n",
              "0  1962-01-02  0.263021  0.270182  0.263021  0.263021   0.051133   806400   \n",
              "1  1962-01-03  0.259115  0.259115  0.253255  0.257161   0.049994  1574400   \n",
              "2  1962-01-04  0.257813  0.261068  0.257813  0.259115   0.050374   844800   \n",
              "3  1962-01-05  0.259115  0.262370  0.252604  0.253255   0.049234  1420800   \n",
              "4  1962-01-08  0.251302  0.251302  0.245768  0.250651   0.048728  2035200   \n",
              "\n",
              "    Date_adj  day  month  year   Mth_date  \n",
              "0 1962-01-02    2      1  1962 1962-01-01  \n",
              "1 1962-01-03    3      1  1962 1962-01-01  \n",
              "2 1962-01-04    4      1  1962 1962-01-01  \n",
              "3 1962-01-05    5      1  1962 1962-01-01  \n",
              "4 1962-01-08    8      1  1962 1962-01-01  "
            ],
            "text/html": [
              "\n",
              "  <div id=\"df-96c93fee-5d40-4135-88af-b0888206919c\">\n",
              "    <div class=\"colab-df-container\">\n",
              "      <div>\n",
              "<style scoped>\n",
              "    .dataframe tbody tr th:only-of-type {\n",
              "        vertical-align: middle;\n",
              "    }\n",
              "\n",
              "    .dataframe tbody tr th {\n",
              "        vertical-align: top;\n",
              "    }\n",
              "\n",
              "    .dataframe thead th {\n",
              "        text-align: right;\n",
              "    }\n",
              "</style>\n",
              "<table border=\"1\" class=\"dataframe\">\n",
              "  <thead>\n",
              "    <tr style=\"text-align: right;\">\n",
              "      <th></th>\n",
              "      <th>Date</th>\n",
              "      <th>Open</th>\n",
              "      <th>High</th>\n",
              "      <th>Low</th>\n",
              "      <th>Close</th>\n",
              "      <th>Adj Close</th>\n",
              "      <th>Volume</th>\n",
              "      <th>Date_adj</th>\n",
              "      <th>day</th>\n",
              "      <th>month</th>\n",
              "      <th>year</th>\n",
              "      <th>Mth_date</th>\n",
              "    </tr>\n",
              "  </thead>\n",
              "  <tbody>\n",
              "    <tr>\n",
              "      <th>0</th>\n",
              "      <td>1962-01-02</td>\n",
              "      <td>0.263021</td>\n",
              "      <td>0.270182</td>\n",
              "      <td>0.263021</td>\n",
              "      <td>0.263021</td>\n",
              "      <td>0.051133</td>\n",
              "      <td>806400</td>\n",
              "      <td>1962-01-02</td>\n",
              "      <td>2</td>\n",
              "      <td>1</td>\n",
              "      <td>1962</td>\n",
              "      <td>1962-01-01</td>\n",
              "    </tr>\n",
              "    <tr>\n",
              "      <th>1</th>\n",
              "      <td>1962-01-03</td>\n",
              "      <td>0.259115</td>\n",
              "      <td>0.259115</td>\n",
              "      <td>0.253255</td>\n",
              "      <td>0.257161</td>\n",
              "      <td>0.049994</td>\n",
              "      <td>1574400</td>\n",
              "      <td>1962-01-03</td>\n",
              "      <td>3</td>\n",
              "      <td>1</td>\n",
              "      <td>1962</td>\n",
              "      <td>1962-01-01</td>\n",
              "    </tr>\n",
              "    <tr>\n",
              "      <th>2</th>\n",
              "      <td>1962-01-04</td>\n",
              "      <td>0.257813</td>\n",
              "      <td>0.261068</td>\n",
              "      <td>0.257813</td>\n",
              "      <td>0.259115</td>\n",
              "      <td>0.050374</td>\n",
              "      <td>844800</td>\n",
              "      <td>1962-01-04</td>\n",
              "      <td>4</td>\n",
              "      <td>1</td>\n",
              "      <td>1962</td>\n",
              "      <td>1962-01-01</td>\n",
              "    </tr>\n",
              "    <tr>\n",
              "      <th>3</th>\n",
              "      <td>1962-01-05</td>\n",
              "      <td>0.259115</td>\n",
              "      <td>0.262370</td>\n",
              "      <td>0.252604</td>\n",
              "      <td>0.253255</td>\n",
              "      <td>0.049234</td>\n",
              "      <td>1420800</td>\n",
              "      <td>1962-01-05</td>\n",
              "      <td>5</td>\n",
              "      <td>1</td>\n",
              "      <td>1962</td>\n",
              "      <td>1962-01-01</td>\n",
              "    </tr>\n",
              "    <tr>\n",
              "      <th>4</th>\n",
              "      <td>1962-01-08</td>\n",
              "      <td>0.251302</td>\n",
              "      <td>0.251302</td>\n",
              "      <td>0.245768</td>\n",
              "      <td>0.250651</td>\n",
              "      <td>0.048728</td>\n",
              "      <td>2035200</td>\n",
              "      <td>1962-01-08</td>\n",
              "      <td>8</td>\n",
              "      <td>1</td>\n",
              "      <td>1962</td>\n",
              "      <td>1962-01-01</td>\n",
              "    </tr>\n",
              "  </tbody>\n",
              "</table>\n",
              "</div>\n",
              "      <button class=\"colab-df-convert\" onclick=\"convertToInteractive('df-96c93fee-5d40-4135-88af-b0888206919c')\"\n",
              "              title=\"Convert this dataframe to an interactive table.\"\n",
              "              style=\"display:none;\">\n",
              "        \n",
              "  <svg xmlns=\"http://www.w3.org/2000/svg\" height=\"24px\"viewBox=\"0 0 24 24\"\n",
              "       width=\"24px\">\n",
              "    <path d=\"M0 0h24v24H0V0z\" fill=\"none\"/>\n",
              "    <path d=\"M18.56 5.44l.94 2.06.94-2.06 2.06-.94-2.06-.94-.94-2.06-.94 2.06-2.06.94zm-11 1L8.5 8.5l.94-2.06 2.06-.94-2.06-.94L8.5 2.5l-.94 2.06-2.06.94zm10 10l.94 2.06.94-2.06 2.06-.94-2.06-.94-.94-2.06-.94 2.06-2.06.94z\"/><path d=\"M17.41 7.96l-1.37-1.37c-.4-.4-.92-.59-1.43-.59-.52 0-1.04.2-1.43.59L10.3 9.45l-7.72 7.72c-.78.78-.78 2.05 0 2.83L4 21.41c.39.39.9.59 1.41.59.51 0 1.02-.2 1.41-.59l7.78-7.78 2.81-2.81c.8-.78.8-2.07 0-2.86zM5.41 20L4 18.59l7.72-7.72 1.47 1.35L5.41 20z\"/>\n",
              "  </svg>\n",
              "      </button>\n",
              "      \n",
              "  <style>\n",
              "    .colab-df-container {\n",
              "      display:flex;\n",
              "      flex-wrap:wrap;\n",
              "      gap: 12px;\n",
              "    }\n",
              "\n",
              "    .colab-df-convert {\n",
              "      background-color: #E8F0FE;\n",
              "      border: none;\n",
              "      border-radius: 50%;\n",
              "      cursor: pointer;\n",
              "      display: none;\n",
              "      fill: #1967D2;\n",
              "      height: 32px;\n",
              "      padding: 0 0 0 0;\n",
              "      width: 32px;\n",
              "    }\n",
              "\n",
              "    .colab-df-convert:hover {\n",
              "      background-color: #E2EBFA;\n",
              "      box-shadow: 0px 1px 2px rgba(60, 64, 67, 0.3), 0px 1px 3px 1px rgba(60, 64, 67, 0.15);\n",
              "      fill: #174EA6;\n",
              "    }\n",
              "\n",
              "    [theme=dark] .colab-df-convert {\n",
              "      background-color: #3B4455;\n",
              "      fill: #D2E3FC;\n",
              "    }\n",
              "\n",
              "    [theme=dark] .colab-df-convert:hover {\n",
              "      background-color: #434B5C;\n",
              "      box-shadow: 0px 1px 3px 1px rgba(0, 0, 0, 0.15);\n",
              "      filter: drop-shadow(0px 1px 2px rgba(0, 0, 0, 0.3));\n",
              "      fill: #FFFFFF;\n",
              "    }\n",
              "  </style>\n",
              "\n",
              "      <script>\n",
              "        const buttonEl =\n",
              "          document.querySelector('#df-96c93fee-5d40-4135-88af-b0888206919c button.colab-df-convert');\n",
              "        buttonEl.style.display =\n",
              "          google.colab.kernel.accessAllowed ? 'block' : 'none';\n",
              "\n",
              "        async function convertToInteractive(key) {\n",
              "          const element = document.querySelector('#df-96c93fee-5d40-4135-88af-b0888206919c');\n",
              "          const dataTable =\n",
              "            await google.colab.kernel.invokeFunction('convertToInteractive',\n",
              "                                                     [key], {});\n",
              "          if (!dataTable) return;\n",
              "\n",
              "          const docLinkHtml = 'Like what you see? Visit the ' +\n",
              "            '<a target=\"_blank\" href=https://colab.research.google.com/notebooks/data_table.ipynb>data table notebook</a>'\n",
              "            + ' to learn more about interactive tables.';\n",
              "          element.innerHTML = '';\n",
              "          dataTable['output_type'] = 'display_data';\n",
              "          await google.colab.output.renderOutput(dataTable, element);\n",
              "          const docLink = document.createElement('div');\n",
              "          docLink.innerHTML = docLinkHtml;\n",
              "          element.appendChild(docLink);\n",
              "        }\n",
              "      </script>\n",
              "    </div>\n",
              "  </div>\n",
              "  "
            ]
          },
          "metadata": {},
          "execution_count": 47
        }
      ]
    },
    {
      "cell_type": "markdown",
      "source": [
        "Теперь создадим промежуточный dataframe состоящий из агрегат значений по каждому месяцу. В качестве функции выберем Среднее"
      ],
      "metadata": {
        "id": "yBnLR4PL3qCG"
      }
    },
    {
      "cell_type": "code",
      "execution_count": 48,
      "metadata": {
        "scrolled": true,
        "id": "1f04462b",
        "outputId": "efa770ee-c65e-44ad-ae1d-c992f516f3c0",
        "colab": {
          "base_uri": "https://localhost:8080/",
          "height": 237
        }
      },
      "outputs": [
        {
          "output_type": "execute_result",
          "data": {
            "text/plain": [
              "                Open      High       Low     Close  Adj Close        Volume  \\\n",
              "Mth_date                                                                      \n",
              "1962-01-01  0.248432  0.250784  0.245221  0.247692   0.048153  1.337018e+06   \n",
              "1962-02-01  0.243695  0.245546  0.241982  0.243318   0.047303  6.952421e+05   \n",
              "1962-03-01  0.245531  0.247203  0.244126  0.245517   0.047930  1.939200e+06   \n",
              "1962-04-01  0.248340  0.250618  0.245866  0.248047   0.048535  1.023360e+06   \n",
              "1962-05-01  0.232762  0.234982  0.227939  0.231564   0.045310  2.234182e+06   \n",
              "\n",
              "                  day  month    year  \n",
              "Mth_date                              \n",
              "1962-01-01  16.318182    1.0  1962.0  \n",
              "1962-02-01  14.315789    2.0  1962.0  \n",
              "1962-03-01  16.045455    3.0  1962.0  \n",
              "1962-04-01  15.000000    4.0  1962.0  \n",
              "1962-05-01  15.363636    5.0  1962.0  "
            ],
            "text/html": [
              "\n",
              "  <div id=\"df-09326e18-2b8d-4486-88ba-ddc4b5603da4\">\n",
              "    <div class=\"colab-df-container\">\n",
              "      <div>\n",
              "<style scoped>\n",
              "    .dataframe tbody tr th:only-of-type {\n",
              "        vertical-align: middle;\n",
              "    }\n",
              "\n",
              "    .dataframe tbody tr th {\n",
              "        vertical-align: top;\n",
              "    }\n",
              "\n",
              "    .dataframe thead th {\n",
              "        text-align: right;\n",
              "    }\n",
              "</style>\n",
              "<table border=\"1\" class=\"dataframe\">\n",
              "  <thead>\n",
              "    <tr style=\"text-align: right;\">\n",
              "      <th></th>\n",
              "      <th>Open</th>\n",
              "      <th>High</th>\n",
              "      <th>Low</th>\n",
              "      <th>Close</th>\n",
              "      <th>Adj Close</th>\n",
              "      <th>Volume</th>\n",
              "      <th>day</th>\n",
              "      <th>month</th>\n",
              "      <th>year</th>\n",
              "    </tr>\n",
              "    <tr>\n",
              "      <th>Mth_date</th>\n",
              "      <th></th>\n",
              "      <th></th>\n",
              "      <th></th>\n",
              "      <th></th>\n",
              "      <th></th>\n",
              "      <th></th>\n",
              "      <th></th>\n",
              "      <th></th>\n",
              "      <th></th>\n",
              "    </tr>\n",
              "  </thead>\n",
              "  <tbody>\n",
              "    <tr>\n",
              "      <th>1962-01-01</th>\n",
              "      <td>0.248432</td>\n",
              "      <td>0.250784</td>\n",
              "      <td>0.245221</td>\n",
              "      <td>0.247692</td>\n",
              "      <td>0.048153</td>\n",
              "      <td>1.337018e+06</td>\n",
              "      <td>16.318182</td>\n",
              "      <td>1.0</td>\n",
              "      <td>1962.0</td>\n",
              "    </tr>\n",
              "    <tr>\n",
              "      <th>1962-02-01</th>\n",
              "      <td>0.243695</td>\n",
              "      <td>0.245546</td>\n",
              "      <td>0.241982</td>\n",
              "      <td>0.243318</td>\n",
              "      <td>0.047303</td>\n",
              "      <td>6.952421e+05</td>\n",
              "      <td>14.315789</td>\n",
              "      <td>2.0</td>\n",
              "      <td>1962.0</td>\n",
              "    </tr>\n",
              "    <tr>\n",
              "      <th>1962-03-01</th>\n",
              "      <td>0.245531</td>\n",
              "      <td>0.247203</td>\n",
              "      <td>0.244126</td>\n",
              "      <td>0.245517</td>\n",
              "      <td>0.047930</td>\n",
              "      <td>1.939200e+06</td>\n",
              "      <td>16.045455</td>\n",
              "      <td>3.0</td>\n",
              "      <td>1962.0</td>\n",
              "    </tr>\n",
              "    <tr>\n",
              "      <th>1962-04-01</th>\n",
              "      <td>0.248340</td>\n",
              "      <td>0.250618</td>\n",
              "      <td>0.245866</td>\n",
              "      <td>0.248047</td>\n",
              "      <td>0.048535</td>\n",
              "      <td>1.023360e+06</td>\n",
              "      <td>15.000000</td>\n",
              "      <td>4.0</td>\n",
              "      <td>1962.0</td>\n",
              "    </tr>\n",
              "    <tr>\n",
              "      <th>1962-05-01</th>\n",
              "      <td>0.232762</td>\n",
              "      <td>0.234982</td>\n",
              "      <td>0.227939</td>\n",
              "      <td>0.231564</td>\n",
              "      <td>0.045310</td>\n",
              "      <td>2.234182e+06</td>\n",
              "      <td>15.363636</td>\n",
              "      <td>5.0</td>\n",
              "      <td>1962.0</td>\n",
              "    </tr>\n",
              "  </tbody>\n",
              "</table>\n",
              "</div>\n",
              "      <button class=\"colab-df-convert\" onclick=\"convertToInteractive('df-09326e18-2b8d-4486-88ba-ddc4b5603da4')\"\n",
              "              title=\"Convert this dataframe to an interactive table.\"\n",
              "              style=\"display:none;\">\n",
              "        \n",
              "  <svg xmlns=\"http://www.w3.org/2000/svg\" height=\"24px\"viewBox=\"0 0 24 24\"\n",
              "       width=\"24px\">\n",
              "    <path d=\"M0 0h24v24H0V0z\" fill=\"none\"/>\n",
              "    <path d=\"M18.56 5.44l.94 2.06.94-2.06 2.06-.94-2.06-.94-.94-2.06-.94 2.06-2.06.94zm-11 1L8.5 8.5l.94-2.06 2.06-.94-2.06-.94L8.5 2.5l-.94 2.06-2.06.94zm10 10l.94 2.06.94-2.06 2.06-.94-2.06-.94-.94-2.06-.94 2.06-2.06.94z\"/><path d=\"M17.41 7.96l-1.37-1.37c-.4-.4-.92-.59-1.43-.59-.52 0-1.04.2-1.43.59L10.3 9.45l-7.72 7.72c-.78.78-.78 2.05 0 2.83L4 21.41c.39.39.9.59 1.41.59.51 0 1.02-.2 1.41-.59l7.78-7.78 2.81-2.81c.8-.78.8-2.07 0-2.86zM5.41 20L4 18.59l7.72-7.72 1.47 1.35L5.41 20z\"/>\n",
              "  </svg>\n",
              "      </button>\n",
              "      \n",
              "  <style>\n",
              "    .colab-df-container {\n",
              "      display:flex;\n",
              "      flex-wrap:wrap;\n",
              "      gap: 12px;\n",
              "    }\n",
              "\n",
              "    .colab-df-convert {\n",
              "      background-color: #E8F0FE;\n",
              "      border: none;\n",
              "      border-radius: 50%;\n",
              "      cursor: pointer;\n",
              "      display: none;\n",
              "      fill: #1967D2;\n",
              "      height: 32px;\n",
              "      padding: 0 0 0 0;\n",
              "      width: 32px;\n",
              "    }\n",
              "\n",
              "    .colab-df-convert:hover {\n",
              "      background-color: #E2EBFA;\n",
              "      box-shadow: 0px 1px 2px rgba(60, 64, 67, 0.3), 0px 1px 3px 1px rgba(60, 64, 67, 0.15);\n",
              "      fill: #174EA6;\n",
              "    }\n",
              "\n",
              "    [theme=dark] .colab-df-convert {\n",
              "      background-color: #3B4455;\n",
              "      fill: #D2E3FC;\n",
              "    }\n",
              "\n",
              "    [theme=dark] .colab-df-convert:hover {\n",
              "      background-color: #434B5C;\n",
              "      box-shadow: 0px 1px 3px 1px rgba(0, 0, 0, 0.15);\n",
              "      filter: drop-shadow(0px 1px 2px rgba(0, 0, 0, 0.3));\n",
              "      fill: #FFFFFF;\n",
              "    }\n",
              "  </style>\n",
              "\n",
              "      <script>\n",
              "        const buttonEl =\n",
              "          document.querySelector('#df-09326e18-2b8d-4486-88ba-ddc4b5603da4 button.colab-df-convert');\n",
              "        buttonEl.style.display =\n",
              "          google.colab.kernel.accessAllowed ? 'block' : 'none';\n",
              "\n",
              "        async function convertToInteractive(key) {\n",
              "          const element = document.querySelector('#df-09326e18-2b8d-4486-88ba-ddc4b5603da4');\n",
              "          const dataTable =\n",
              "            await google.colab.kernel.invokeFunction('convertToInteractive',\n",
              "                                                     [key], {});\n",
              "          if (!dataTable) return;\n",
              "\n",
              "          const docLinkHtml = 'Like what you see? Visit the ' +\n",
              "            '<a target=\"_blank\" href=https://colab.research.google.com/notebooks/data_table.ipynb>data table notebook</a>'\n",
              "            + ' to learn more about interactive tables.';\n",
              "          element.innerHTML = '';\n",
              "          dataTable['output_type'] = 'display_data';\n",
              "          await google.colab.output.renderOutput(dataTable, element);\n",
              "          const docLink = document.createElement('div');\n",
              "          docLink.innerHTML = docLinkHtml;\n",
              "          element.appendChild(docLink);\n",
              "        }\n",
              "      </script>\n",
              "    </div>\n",
              "  </div>\n",
              "  "
            ]
          },
          "metadata": {},
          "execution_count": 48
        }
      ],
      "source": [
        "df2=df.groupby(by=['Mth_date']).mean()\n",
        "df2.head()\n",
        "## Месяцы по которым агрегировали значения в формате datetime в новом dataframe df2 \n",
        "##стали индексной колонкой. Есть уверенность что пропусков месяцев нет, но проверим"
      ]
    },
    {
      "cell_type": "markdown",
      "source": [
        "Уберем лишнюю информацию - оставим только показатели стоимости акций - это будет еще одним промежуточным dataframe df3"
      ],
      "metadata": {
        "id": "RYVLAEQa4j2v"
      }
    },
    {
      "cell_type": "code",
      "source": [
        "df3 = df2.drop(['Adj Close','day','month','year'],1)\n",
        "df3.head()"
      ],
      "metadata": {
        "colab": {
          "base_uri": "https://localhost:8080/",
          "height": 237
        },
        "id": "kIxMsNYFc-TP",
        "outputId": "2302af1b-e586-4196-8dc0-02a73e2858d9"
      },
      "execution_count": 49,
      "outputs": [
        {
          "output_type": "execute_result",
          "data": {
            "text/plain": [
              "                Open      High       Low     Close        Volume\n",
              "Mth_date                                                        \n",
              "1962-01-01  0.248432  0.250784  0.245221  0.247692  1.337018e+06\n",
              "1962-02-01  0.243695  0.245546  0.241982  0.243318  6.952421e+05\n",
              "1962-03-01  0.245531  0.247203  0.244126  0.245517  1.939200e+06\n",
              "1962-04-01  0.248340  0.250618  0.245866  0.248047  1.023360e+06\n",
              "1962-05-01  0.232762  0.234982  0.227939  0.231564  2.234182e+06"
            ],
            "text/html": [
              "\n",
              "  <div id=\"df-d0865dd8-b442-4167-abd5-e942867717d3\">\n",
              "    <div class=\"colab-df-container\">\n",
              "      <div>\n",
              "<style scoped>\n",
              "    .dataframe tbody tr th:only-of-type {\n",
              "        vertical-align: middle;\n",
              "    }\n",
              "\n",
              "    .dataframe tbody tr th {\n",
              "        vertical-align: top;\n",
              "    }\n",
              "\n",
              "    .dataframe thead th {\n",
              "        text-align: right;\n",
              "    }\n",
              "</style>\n",
              "<table border=\"1\" class=\"dataframe\">\n",
              "  <thead>\n",
              "    <tr style=\"text-align: right;\">\n",
              "      <th></th>\n",
              "      <th>Open</th>\n",
              "      <th>High</th>\n",
              "      <th>Low</th>\n",
              "      <th>Close</th>\n",
              "      <th>Volume</th>\n",
              "    </tr>\n",
              "    <tr>\n",
              "      <th>Mth_date</th>\n",
              "      <th></th>\n",
              "      <th></th>\n",
              "      <th></th>\n",
              "      <th></th>\n",
              "      <th></th>\n",
              "    </tr>\n",
              "  </thead>\n",
              "  <tbody>\n",
              "    <tr>\n",
              "      <th>1962-01-01</th>\n",
              "      <td>0.248432</td>\n",
              "      <td>0.250784</td>\n",
              "      <td>0.245221</td>\n",
              "      <td>0.247692</td>\n",
              "      <td>1.337018e+06</td>\n",
              "    </tr>\n",
              "    <tr>\n",
              "      <th>1962-02-01</th>\n",
              "      <td>0.243695</td>\n",
              "      <td>0.245546</td>\n",
              "      <td>0.241982</td>\n",
              "      <td>0.243318</td>\n",
              "      <td>6.952421e+05</td>\n",
              "    </tr>\n",
              "    <tr>\n",
              "      <th>1962-03-01</th>\n",
              "      <td>0.245531</td>\n",
              "      <td>0.247203</td>\n",
              "      <td>0.244126</td>\n",
              "      <td>0.245517</td>\n",
              "      <td>1.939200e+06</td>\n",
              "    </tr>\n",
              "    <tr>\n",
              "      <th>1962-04-01</th>\n",
              "      <td>0.248340</td>\n",
              "      <td>0.250618</td>\n",
              "      <td>0.245866</td>\n",
              "      <td>0.248047</td>\n",
              "      <td>1.023360e+06</td>\n",
              "    </tr>\n",
              "    <tr>\n",
              "      <th>1962-05-01</th>\n",
              "      <td>0.232762</td>\n",
              "      <td>0.234982</td>\n",
              "      <td>0.227939</td>\n",
              "      <td>0.231564</td>\n",
              "      <td>2.234182e+06</td>\n",
              "    </tr>\n",
              "  </tbody>\n",
              "</table>\n",
              "</div>\n",
              "      <button class=\"colab-df-convert\" onclick=\"convertToInteractive('df-d0865dd8-b442-4167-abd5-e942867717d3')\"\n",
              "              title=\"Convert this dataframe to an interactive table.\"\n",
              "              style=\"display:none;\">\n",
              "        \n",
              "  <svg xmlns=\"http://www.w3.org/2000/svg\" height=\"24px\"viewBox=\"0 0 24 24\"\n",
              "       width=\"24px\">\n",
              "    <path d=\"M0 0h24v24H0V0z\" fill=\"none\"/>\n",
              "    <path d=\"M18.56 5.44l.94 2.06.94-2.06 2.06-.94-2.06-.94-.94-2.06-.94 2.06-2.06.94zm-11 1L8.5 8.5l.94-2.06 2.06-.94-2.06-.94L8.5 2.5l-.94 2.06-2.06.94zm10 10l.94 2.06.94-2.06 2.06-.94-2.06-.94-.94-2.06-.94 2.06-2.06.94z\"/><path d=\"M17.41 7.96l-1.37-1.37c-.4-.4-.92-.59-1.43-.59-.52 0-1.04.2-1.43.59L10.3 9.45l-7.72 7.72c-.78.78-.78 2.05 0 2.83L4 21.41c.39.39.9.59 1.41.59.51 0 1.02-.2 1.41-.59l7.78-7.78 2.81-2.81c.8-.78.8-2.07 0-2.86zM5.41 20L4 18.59l7.72-7.72 1.47 1.35L5.41 20z\"/>\n",
              "  </svg>\n",
              "      </button>\n",
              "      \n",
              "  <style>\n",
              "    .colab-df-container {\n",
              "      display:flex;\n",
              "      flex-wrap:wrap;\n",
              "      gap: 12px;\n",
              "    }\n",
              "\n",
              "    .colab-df-convert {\n",
              "      background-color: #E8F0FE;\n",
              "      border: none;\n",
              "      border-radius: 50%;\n",
              "      cursor: pointer;\n",
              "      display: none;\n",
              "      fill: #1967D2;\n",
              "      height: 32px;\n",
              "      padding: 0 0 0 0;\n",
              "      width: 32px;\n",
              "    }\n",
              "\n",
              "    .colab-df-convert:hover {\n",
              "      background-color: #E2EBFA;\n",
              "      box-shadow: 0px 1px 2px rgba(60, 64, 67, 0.3), 0px 1px 3px 1px rgba(60, 64, 67, 0.15);\n",
              "      fill: #174EA6;\n",
              "    }\n",
              "\n",
              "    [theme=dark] .colab-df-convert {\n",
              "      background-color: #3B4455;\n",
              "      fill: #D2E3FC;\n",
              "    }\n",
              "\n",
              "    [theme=dark] .colab-df-convert:hover {\n",
              "      background-color: #434B5C;\n",
              "      box-shadow: 0px 1px 3px 1px rgba(0, 0, 0, 0.15);\n",
              "      filter: drop-shadow(0px 1px 2px rgba(0, 0, 0, 0.3));\n",
              "      fill: #FFFFFF;\n",
              "    }\n",
              "  </style>\n",
              "\n",
              "      <script>\n",
              "        const buttonEl =\n",
              "          document.querySelector('#df-d0865dd8-b442-4167-abd5-e942867717d3 button.colab-df-convert');\n",
              "        buttonEl.style.display =\n",
              "          google.colab.kernel.accessAllowed ? 'block' : 'none';\n",
              "\n",
              "        async function convertToInteractive(key) {\n",
              "          const element = document.querySelector('#df-d0865dd8-b442-4167-abd5-e942867717d3');\n",
              "          const dataTable =\n",
              "            await google.colab.kernel.invokeFunction('convertToInteractive',\n",
              "                                                     [key], {});\n",
              "          if (!dataTable) return;\n",
              "\n",
              "          const docLinkHtml = 'Like what you see? Visit the ' +\n",
              "            '<a target=\"_blank\" href=https://colab.research.google.com/notebooks/data_table.ipynb>data table notebook</a>'\n",
              "            + ' to learn more about interactive tables.';\n",
              "          element.innerHTML = '';\n",
              "          dataTable['output_type'] = 'display_data';\n",
              "          await google.colab.output.renderOutput(dataTable, element);\n",
              "          const docLink = document.createElement('div');\n",
              "          docLink.innerHTML = docLinkHtml;\n",
              "          element.appendChild(docLink);\n",
              "        }\n",
              "      </script>\n",
              "    </div>\n",
              "  </div>\n",
              "  "
            ]
          },
          "metadata": {},
          "execution_count": 49
        }
      ]
    },
    {
      "cell_type": "code",
      "source": [
        "df3.info()"
      ],
      "metadata": {
        "colab": {
          "base_uri": "https://localhost:8080/"
        },
        "id": "5DhnYByAfCXm",
        "outputId": "1912dfb5-f23d-4138-c3fd-aff21181e18a"
      },
      "execution_count": 50,
      "outputs": [
        {
          "output_type": "stream",
          "name": "stdout",
          "text": [
            "<class 'pandas.core.frame.DataFrame'>\n",
            "DatetimeIndex: 720 entries, 1962-01-01 to 2021-12-01\n",
            "Data columns (total 5 columns):\n",
            " #   Column  Non-Null Count  Dtype  \n",
            "---  ------  --------------  -----  \n",
            " 0   Open    720 non-null    float64\n",
            " 1   High    720 non-null    float64\n",
            " 2   Low     720 non-null    float64\n",
            " 3   Close   720 non-null    float64\n",
            " 4   Volume  720 non-null    float64\n",
            "dtypes: float64(5)\n",
            "memory usage: 33.8 KB\n"
          ]
        }
      ]
    },
    {
      "cell_type": "markdown",
      "source": [
        "### Построим график dataframe df3"
      ],
      "metadata": {
        "id": "KoZDZDqWi6Bv"
      }
    },
    {
      "cell_type": "code",
      "source": [
        "title = 'Month_Avg_Close '\n",
        "ylabel='USD'\n",
        "xlabel='date' \n",
        "\n",
        "ax = df3['Close'].plot(figsize=(12,6),title=title)\n",
        "ax.autoscale(axis='x',tight=True)\n",
        "ax.set(xlabel=xlabel, ylabel=ylabel);"
      ],
      "metadata": {
        "colab": {
          "base_uri": "https://localhost:8080/",
          "height": 404
        },
        "id": "aJ1DstdQhd5W",
        "outputId": "ff16e499-14a8-42f4-88bf-47413592f579"
      },
      "execution_count": 51,
      "outputs": [
        {
          "output_type": "display_data",
          "data": {
            "text/plain": [
              "<Figure size 864x432 with 1 Axes>"
            ],
            "image/png": "[encoded data removed]"
          },
          "metadata": {
            "needs_background": "light"
          }
        }
      ]
    },
    {
      "cell_type": "markdown",
      "source": [
        "Очевидно, что этот набор данных \"от царя гороха\" не требуется в таком объеме. для анализа тренда оставим только данные за последние 10 лет. Это и будет финальный dataframe для последующего прогнозирования"
      ],
      "metadata": {
        "id": "NCocL2L85arc"
      }
    },
    {
      "cell_type": "code",
      "source": [
        "df_final=df3.tail(120)\n",
        "df_final.head()"
      ],
      "metadata": {
        "colab": {
          "base_uri": "https://localhost:8080/",
          "height": 237
        },
        "id": "wRVxO3PKlzNl",
        "outputId": "418cb9d1-a8aa-4f91-81fe-61a04910bb06"
      },
      "execution_count": 52,
      "outputs": [
        {
          "output_type": "execute_result",
          "data": {
            "text/plain": [
              "                 Open       High        Low      Close        Volume\n",
              "Mth_date                                                            \n",
              "2012-01-01  34.203751  34.329000  33.961750  34.120249  1.501158e+07\n",
              "2012-02-01  34.278250  34.453500  34.115499  34.300500  1.438325e+07\n",
              "2012-03-01  35.204546  35.439318  35.107954  35.334546  1.864775e+07\n",
              "2012-04-01  36.841250  37.073250  36.697500  36.897750  1.461850e+07\n",
              "2012-05-01  38.037500  38.208409  37.834318  38.019092  1.524504e+07"
            ],
            "text/html": [
              "\n",
              "  <div id=\"df-03e872a5-8b93-4290-9ddb-2a22e266fac3\">\n",
              "    <div class=\"colab-df-container\">\n",
              "      <div>\n",
              "<style scoped>\n",
              "    .dataframe tbody tr th:only-of-type {\n",
              "        vertical-align: middle;\n",
              "    }\n",
              "\n",
              "    .dataframe tbody tr th {\n",
              "        vertical-align: top;\n",
              "    }\n",
              "\n",
              "    .dataframe thead th {\n",
              "        text-align: right;\n",
              "    }\n",
              "</style>\n",
              "<table border=\"1\" class=\"dataframe\">\n",
              "  <thead>\n",
              "    <tr style=\"text-align: right;\">\n",
              "      <th></th>\n",
              "      <th>Open</th>\n",
              "      <th>High</th>\n",
              "      <th>Low</th>\n",
              "      <th>Close</th>\n",
              "      <th>Volume</th>\n",
              "    </tr>\n",
              "    <tr>\n",
              "      <th>Mth_date</th>\n",
              "      <th></th>\n",
              "      <th></th>\n",
              "      <th></th>\n",
              "      <th></th>\n",
              "      <th></th>\n",
              "    </tr>\n",
              "  </thead>\n",
              "  <tbody>\n",
              "    <tr>\n",
              "      <th>2012-01-01</th>\n",
              "      <td>34.203751</td>\n",
              "      <td>34.329000</td>\n",
              "      <td>33.961750</td>\n",
              "      <td>34.120249</td>\n",
              "      <td>1.501158e+07</td>\n",
              "    </tr>\n",
              "    <tr>\n",
              "      <th>2012-02-01</th>\n",
              "      <td>34.278250</td>\n",
              "      <td>34.453500</td>\n",
              "      <td>34.115499</td>\n",
              "      <td>34.300500</td>\n",
              "      <td>1.438325e+07</td>\n",
              "    </tr>\n",
              "    <tr>\n",
              "      <th>2012-03-01</th>\n",
              "      <td>35.204546</td>\n",
              "      <td>35.439318</td>\n",
              "      <td>35.107954</td>\n",
              "      <td>35.334546</td>\n",
              "      <td>1.864775e+07</td>\n",
              "    </tr>\n",
              "    <tr>\n",
              "      <th>2012-04-01</th>\n",
              "      <td>36.841250</td>\n",
              "      <td>37.073250</td>\n",
              "      <td>36.697500</td>\n",
              "      <td>36.897750</td>\n",
              "      <td>1.461850e+07</td>\n",
              "    </tr>\n",
              "    <tr>\n",
              "      <th>2012-05-01</th>\n",
              "      <td>38.037500</td>\n",
              "      <td>38.208409</td>\n",
              "      <td>37.834318</td>\n",
              "      <td>38.019092</td>\n",
              "      <td>1.524504e+07</td>\n",
              "    </tr>\n",
              "  </tbody>\n",
              "</table>\n",
              "</div>\n",
              "      <button class=\"colab-df-convert\" onclick=\"convertToInteractive('df-03e872a5-8b93-4290-9ddb-2a22e266fac3')\"\n",
              "              title=\"Convert this dataframe to an interactive table.\"\n",
              "              style=\"display:none;\">\n",
              "        \n",
              "  <svg xmlns=\"http://www.w3.org/2000/svg\" height=\"24px\"viewBox=\"0 0 24 24\"\n",
              "       width=\"24px\">\n",
              "    <path d=\"M0 0h24v24H0V0z\" fill=\"none\"/>\n",
              "    <path d=\"M18.56 5.44l.94 2.06.94-2.06 2.06-.94-2.06-.94-.94-2.06-.94 2.06-2.06.94zm-11 1L8.5 8.5l.94-2.06 2.06-.94-2.06-.94L8.5 2.5l-.94 2.06-2.06.94zm10 10l.94 2.06.94-2.06 2.06-.94-2.06-.94-.94-2.06-.94 2.06-2.06.94z\"/><path d=\"M17.41 7.96l-1.37-1.37c-.4-.4-.92-.59-1.43-.59-.52 0-1.04.2-1.43.59L10.3 9.45l-7.72 7.72c-.78.78-.78 2.05 0 2.83L4 21.41c.39.39.9.59 1.41.59.51 0 1.02-.2 1.41-.59l7.78-7.78 2.81-2.81c.8-.78.8-2.07 0-2.86zM5.41 20L4 18.59l7.72-7.72 1.47 1.35L5.41 20z\"/>\n",
              "  </svg>\n",
              "      </button>\n",
              "      \n",
              "  <style>\n",
              "    .colab-df-container {\n",
              "      display:flex;\n",
              "      flex-wrap:wrap;\n",
              "      gap: 12px;\n",
              "    }\n",
              "\n",
              "    .colab-df-convert {\n",
              "      background-color: #E8F0FE;\n",
              "      border: none;\n",
              "      border-radius: 50%;\n",
              "      cursor: pointer;\n",
              "      display: none;\n",
              "      fill: #1967D2;\n",
              "      height: 32px;\n",
              "      padding: 0 0 0 0;\n",
              "      width: 32px;\n",
              "    }\n",
              "\n",
              "    .colab-df-convert:hover {\n",
              "      background-color: #E2EBFA;\n",
              "      box-shadow: 0px 1px 2px rgba(60, 64, 67, 0.3), 0px 1px 3px 1px rgba(60, 64, 67, 0.15);\n",
              "      fill: #174EA6;\n",
              "    }\n",
              "\n",
              "    [theme=dark] .colab-df-convert {\n",
              "      background-color: #3B4455;\n",
              "      fill: #D2E3FC;\n",
              "    }\n",
              "\n",
              "    [theme=dark] .colab-df-convert:hover {\n",
              "      background-color: #434B5C;\n",
              "      box-shadow: 0px 1px 3px 1px rgba(0, 0, 0, 0.15);\n",
              "      filter: drop-shadow(0px 1px 2px rgba(0, 0, 0, 0.3));\n",
              "      fill: #FFFFFF;\n",
              "    }\n",
              "  </style>\n",
              "\n",
              "      <script>\n",
              "        const buttonEl =\n",
              "          document.querySelector('#df-03e872a5-8b93-4290-9ddb-2a22e266fac3 button.colab-df-convert');\n",
              "        buttonEl.style.display =\n",
              "          google.colab.kernel.accessAllowed ? 'block' : 'none';\n",
              "\n",
              "        async function convertToInteractive(key) {\n",
              "          const element = document.querySelector('#df-03e872a5-8b93-4290-9ddb-2a22e266fac3');\n",
              "          const dataTable =\n",
              "            await google.colab.kernel.invokeFunction('convertToInteractive',\n",
              "                                                     [key], {});\n",
              "          if (!dataTable) return;\n",
              "\n",
              "          const docLinkHtml = 'Like what you see? Visit the ' +\n",
              "            '<a target=\"_blank\" href=https://colab.research.google.com/notebooks/data_table.ipynb>data table notebook</a>'\n",
              "            + ' to learn more about interactive tables.';\n",
              "          element.innerHTML = '';\n",
              "          dataTable['output_type'] = 'display_data';\n",
              "          await google.colab.output.renderOutput(dataTable, element);\n",
              "          const docLink = document.createElement('div');\n",
              "          docLink.innerHTML = docLinkHtml;\n",
              "          element.appendChild(docLink);\n",
              "        }\n",
              "      </script>\n",
              "    </div>\n",
              "  </div>\n",
              "  "
            ]
          },
          "metadata": {},
          "execution_count": 52
        }
      ]
    },
    {
      "cell_type": "markdown",
      "source": [
        "### Построим график dataframe df_final"
      ],
      "metadata": {
        "id": "eWrg8BVt5w7R"
      }
    },
    {
      "cell_type": "code",
      "source": [
        "title = 'Month_Avg_Close_last 10 years '\n",
        "ylabel='USD'\n",
        "xlabel='date' \n",
        "\n",
        "ax = df_final['Close'].plot(figsize=(12,6),title=title)\n",
        "ax.autoscale(axis='x',tight=True)\n",
        "ax.set(xlabel=xlabel, ylabel=ylabel);"
      ],
      "metadata": {
        "colab": {
          "base_uri": "https://localhost:8080/",
          "height": 404
        },
        "id": "LP9RQO_5lzUl",
        "outputId": "280adcb4-efaf-4803-9cfc-c5a384e7fd71"
      },
      "execution_count": 53,
      "outputs": [
        {
          "output_type": "display_data",
          "data": {
            "text/plain": [
              "<Figure size 864x432 with 1 Axes>"
            ],
            "image/png": "[encoded data removed]"
          },
          "metadata": {
            "needs_background": "light"
          }
        }
      ]
    },
    {
      "cell_type": "markdown",
      "source": [
        "### ETS декомпозиция"
      ],
      "metadata": {
        "id": "GjQ8FSNJjCtl"
      }
    },
    {
      "cell_type": "code",
      "source": [
        "result = seasonal_decompose(df_final['Close'], model='add')\n",
        "result.plot();"
      ],
      "metadata": {
        "colab": {
          "base_uri": "https://localhost:8080/",
          "height": 297
        },
        "id": "g7B1xyQlYfEF",
        "outputId": "163e6bc6-c580-4ed6-fd59-264b0700c389"
      },
      "execution_count": 54,
      "outputs": [
        {
          "output_type": "display_data",
          "data": {
            "text/plain": [
              "<Figure size 432x288 with 4 Axes>"
            ],
            "image/png": "[encoded data removed]"
          },
          "metadata": {
            "needs_background": "light"
          }
        }
      ]
    },
    {
      "cell_type": "markdown",
      "metadata": {
        "id": "MGtB5JCsF6SO"
      },
      "source": [
        "Несмотря на небольшой масштаб по сравнению с общими значениями, существует крошечная годовая сезонность."
      ]
    },
    {
      "cell_type": "markdown",
      "source": [
        "Определим сезонный компонент D на стационарность с помощью теста AdFuller"
      ],
      "metadata": {
        "id": "1_eTYFk8owWU"
      }
    },
    {
      "cell_type": "code",
      "source": [
        "from statsmodels.tsa.stattools import adfuller\n",
        "import numpy as np\n",
        "def check_stationarity(df_final):\n",
        "    dftest = adfuller(df_final)\n",
        "    adf = dftest[0]\n",
        "    pvalue = dftest[1]\n",
        "    critical_value = dftest[4]['5%']\n",
        "    if (pvalue < 0.05) and (adf < critical_value):\n",
        "        print('The series is stationary')\n",
        "    else:\n",
        "        print('The series is NOT stationary')"
      ],
      "metadata": {
        "id": "sea9VFnmn7G-"
      },
      "execution_count": 55,
      "outputs": []
    },
    {
      "cell_type": "code",
      "source": [
        "seasonal = result.seasonal\n",
        "check_stationarity(seasonal)"
      ],
      "metadata": {
        "colab": {
          "base_uri": "https://localhost:8080/"
        },
        "id": "EgVIwMwsoh46",
        "outputId": "513f85d9-92fe-456f-b31b-62ac2ec82d8b"
      },
      "execution_count": 56,
      "outputs": [
        {
          "output_type": "stream",
          "name": "stdout",
          "text": [
            "The series is stationary\n"
          ]
        }
      ]
    },
    {
      "cell_type": "markdown",
      "source": [
        "Сезонный компонент стационарный, тогда (P,D.Q,M) - принимаем D=0 в Arima!"
      ],
      "metadata": {
        "id": "r7BrPwKwo-Yx"
      }
    },
    {
      "cell_type": "markdown",
      "source": [
        "Определим P для Модели SARIMA"
      ],
      "metadata": {
        "id": "tIEyUeZzqiFW"
      }
    },
    {
      "cell_type": "code",
      "source": [
        "from matplotlib import pyplot as plt\n",
        "from statsmodels.graphics.tsaplots import plot_acf, plot_pacf\n",
        "plot_pacf(seasonal, lags =12)\n",
        "plt.show()"
      ],
      "metadata": {
        "colab": {
          "base_uri": "https://localhost:8080/",
          "height": 281
        },
        "id": "1HY7hg5tp_gj",
        "outputId": "7d41b80d-06ae-455b-a1e9-092af62c85b0"
      },
      "execution_count": 57,
      "outputs": [
        {
          "output_type": "display_data",
          "data": {
            "text/plain": [
              "<Figure size 432x288 with 1 Axes>"
            ],
            "image/png": "[encoded data removed]"
          },
          "metadata": {
            "needs_background": "light"
          }
        }
      ]
    },
    {
      "cell_type": "markdown",
      "source": [
        "На графике PACF максимальное запаздывание со значением вне доверительных интервалов (светло-синим цветом) равно 2, таким образом, мы можем установить P = 2"
      ],
      "metadata": {
        "id": "Trm7zFw6qs2P"
      }
    },
    {
      "cell_type": "markdown",
      "source": [
        "Определим Q"
      ],
      "metadata": {
        "id": "2TxW0NMLrODl"
      }
    },
    {
      "cell_type": "code",
      "source": [
        "plot_acf(seasonal, lags =12)\n",
        "plt.show()"
      ],
      "metadata": {
        "colab": {
          "base_uri": "https://localhost:8080/",
          "height": 281
        },
        "id": "ehKfNfwkrNd-",
        "outputId": "2e0754bb-2548-457e-b152-82a270ad3327"
      },
      "execution_count": 58,
      "outputs": [
        {
          "output_type": "display_data",
          "data": {
            "text/plain": [
              "<Figure size 432x288 with 1 Axes>"
            ],
            "image/png": "[encoded data removed]"
          },
          "metadata": {
            "needs_background": "light"
          }
        }
      ]
    },
    {
      "cell_type": "markdown",
      "source": [
        "Из приведенного выше графика мы отмечаем, что максимальное запаздывание со значением вне доверительных интервалов равно 2, таким образом, Q = 2"
      ],
      "metadata": {
        "id": "J2Hzc66fr6Ov"
      }
    },
    {
      "cell_type": "markdown",
      "source": [
        "Таким образом (P,D,Q,M) = (2,0,2,12) для SARIMA"
      ],
      "metadata": {
        "id": "oG7FqD6JtURJ"
      }
    },
    {
      "cell_type": "markdown",
      "metadata": {
        "id": "bo9yHOwXF6SO"
      },
      "source": [
        "### Запускаем <tt>pmdarima.auto_arima</tt>"
      ]
    },
    {
      "cell_type": "markdown",
      "source": [
        ""
      ],
      "metadata": {
        "id": "n2KV28YXtqM1"
      }
    },
    {
      "cell_type": "code",
      "execution_count": 59,
      "metadata": {
        "id": "H28ED9FDF6SO",
        "outputId": "51e86a68-635f-4813-b70b-0eafb965865b",
        "colab": {
          "base_uri": "https://localhost:8080/",
          "height": 494
        }
      },
      "outputs": [
        {
          "output_type": "execute_result",
          "data": {
            "text/plain": [
              "<class 'statsmodels.iolib.summary.Summary'>\n",
              "\"\"\"\n",
              "                               SARIMAX Results                                \n",
              "==============================================================================\n",
              "Dep. Variable:                      y   No. Observations:                  120\n",
              "Model:               SARIMAX(2, 1, 2)   Log Likelihood                -213.698\n",
              "Date:                Thu, 24 Mar 2022   AIC                            439.395\n",
              "Time:                        07:16:13   BIC                            456.070\n",
              "Sample:                             0   HQIC                           446.166\n",
              "                                - 120                                         \n",
              "Covariance Type:                  opg                                         \n",
              "==============================================================================\n",
              "                 coef    std err          z      P>|z|      [0.025      0.975]\n",
              "------------------------------------------------------------------------------\n",
              "intercept      0.0127      0.011      1.134      0.257      -0.009       0.035\n",
              "ar.L1          1.6505      0.261      6.335      0.000       1.140       2.161\n",
              "ar.L2         -0.7361      0.194     -3.800      0.000      -1.116      -0.356\n",
              "ma.L1         -1.7638      0.277     -6.359      0.000      -2.307      -1.220\n",
              "ma.L2          0.7715      0.276      2.797      0.005       0.231       1.312\n",
              "sigma2         2.0984      0.188     11.151      0.000       1.730       2.467\n",
              "===================================================================================\n",
              "Ljung-Box (L1) (Q):                   0.18   Jarque-Bera (JB):               809.23\n",
              "Prob(Q):                              0.67   Prob(JB):                         0.00\n",
              "Heteroskedasticity (H):               6.00   Skew:                            -1.95\n",
              "Prob(H) (two-sided):                  0.00   Kurtosis:                        15.16\n",
              "===================================================================================\n",
              "\n",
              "Warnings:\n",
              "[1] Covariance matrix calculated using the outer product of gradients (complex-step).\n",
              "\"\"\""
            ],
            "text/html": [
              "<table class=\"simpletable\">\n",
              "<caption>SARIMAX Results</caption>\n",
              "<tr>\n",
              "  <th>Dep. Variable:</th>           <td>y</td>        <th>  No. Observations:  </th>    <td>120</td>  \n",
              "</tr>\n",
              "<tr>\n",
              "  <th>Model:</th>           <td>SARIMAX(2, 1, 2)</td> <th>  Log Likelihood     </th> <td>-213.698</td>\n",
              "</tr>\n",
              "<tr>\n",
              "  <th>Date:</th>            <td>Thu, 24 Mar 2022</td> <th>  AIC                </th>  <td>439.395</td>\n",
              "</tr>\n",
              "<tr>\n",
              "  <th>Time:</th>                <td>07:16:13</td>     <th>  BIC                </th>  <td>456.070</td>\n",
              "</tr>\n",
              "<tr>\n",
              "  <th>Sample:</th>                  <td>0</td>        <th>  HQIC               </th>  <td>446.166</td>\n",
              "</tr>\n",
              "<tr>\n",
              "  <th></th>                      <td> - 120</td>      <th>                     </th>     <td> </td>   \n",
              "</tr>\n",
              "<tr>\n",
              "  <th>Covariance Type:</th>        <td>opg</td>       <th>                     </th>     <td> </td>   \n",
              "</tr>\n",
              "</table>\n",
              "<table class=\"simpletable\">\n",
              "<tr>\n",
              "      <td></td>         <th>coef</th>     <th>std err</th>      <th>z</th>      <th>P>|z|</th>  <th>[0.025</th>    <th>0.975]</th>  \n",
              "</tr>\n",
              "<tr>\n",
              "  <th>intercept</th> <td>    0.0127</td> <td>    0.011</td> <td>    1.134</td> <td> 0.257</td> <td>   -0.009</td> <td>    0.035</td>\n",
              "</tr>\n",
              "<tr>\n",
              "  <th>ar.L1</th>     <td>    1.6505</td> <td>    0.261</td> <td>    6.335</td> <td> 0.000</td> <td>    1.140</td> <td>    2.161</td>\n",
              "</tr>\n",
              "<tr>\n",
              "  <th>ar.L2</th>     <td>   -0.7361</td> <td>    0.194</td> <td>   -3.800</td> <td> 0.000</td> <td>   -1.116</td> <td>   -0.356</td>\n",
              "</tr>\n",
              "<tr>\n",
              "  <th>ma.L1</th>     <td>   -1.7638</td> <td>    0.277</td> <td>   -6.359</td> <td> 0.000</td> <td>   -2.307</td> <td>   -1.220</td>\n",
              "</tr>\n",
              "<tr>\n",
              "  <th>ma.L2</th>     <td>    0.7715</td> <td>    0.276</td> <td>    2.797</td> <td> 0.005</td> <td>    0.231</td> <td>    1.312</td>\n",
              "</tr>\n",
              "<tr>\n",
              "  <th>sigma2</th>    <td>    2.0984</td> <td>    0.188</td> <td>   11.151</td> <td> 0.000</td> <td>    1.730</td> <td>    2.467</td>\n",
              "</tr>\n",
              "</table>\n",
              "<table class=\"simpletable\">\n",
              "<tr>\n",
              "  <th>Ljung-Box (L1) (Q):</th>     <td>0.18</td> <th>  Jarque-Bera (JB):  </th> <td>809.23</td>\n",
              "</tr>\n",
              "<tr>\n",
              "  <th>Prob(Q):</th>                <td>0.67</td> <th>  Prob(JB):          </th>  <td>0.00</td> \n",
              "</tr>\n",
              "<tr>\n",
              "  <th>Heteroskedasticity (H):</th> <td>6.00</td> <th>  Skew:              </th>  <td>-1.95</td>\n",
              "</tr>\n",
              "<tr>\n",
              "  <th>Prob(H) (two-sided):</th>    <td>0.00</td> <th>  Kurtosis:          </th>  <td>15.16</td>\n",
              "</tr>\n",
              "</table><br/><br/>Warnings:<br/>[1] Covariance matrix calculated using the outer product of gradients (complex-step)."
            ]
          },
          "metadata": {},
          "execution_count": 59
        }
      ],
      "source": [
        "# m=12\n",
        "auto_arima(df_final['Close'], seasonal=True, m=12).summary()"
      ]
    },
    {
      "cell_type": "markdown",
      "source": [
        "Параметры (p,d,q) = 2,1,2"
      ],
      "metadata": {
        "id": "f3o0nS4ixaHo"
      }
    },
    {
      "cell_type": "markdown",
      "metadata": {
        "id": "LxsFBmI5F6SP"
      },
      "source": [
        "\n",
        "### делим на train/test "
      ]
    },
    {
      "cell_type": "code",
      "execution_count": 60,
      "metadata": {
        "id": "5Su28eH-F6SP",
        "outputId": "1a44a247-3936-4cfe-e704-96a7937e71ff",
        "colab": {
          "base_uri": "https://localhost:8080/"
        }
      },
      "outputs": [
        {
          "output_type": "execute_result",
          "data": {
            "text/plain": [
              "120"
            ]
          },
          "metadata": {},
          "execution_count": 60
        }
      ],
      "source": [
        "len(df_final)"
      ]
    },
    {
      "cell_type": "code",
      "execution_count": 61,
      "metadata": {
        "id": "TE6gDE62F6SP"
      },
      "outputs": [],
      "source": [
        "# Возьмем 30 на Train и 20 на Тест\n",
        "train = df_final.iloc[70:100]\n",
        "test = df_final.iloc[100:]\n"
      ]
    },
    {
      "cell_type": "code",
      "source": [
        "train.info()"
      ],
      "metadata": {
        "colab": {
          "base_uri": "https://localhost:8080/"
        },
        "id": "kVpdBcTlk2jm",
        "outputId": "ac816ba8-90bc-47a8-9b62-144a949728cb"
      },
      "execution_count": 62,
      "outputs": [
        {
          "output_type": "stream",
          "name": "stdout",
          "text": [
            "<class 'pandas.core.frame.DataFrame'>\n",
            "DatetimeIndex: 30 entries, 2017-11-01 to 2020-04-01\n",
            "Data columns (total 5 columns):\n",
            " #   Column  Non-Null Count  Dtype  \n",
            "---  ------  --------------  -----  \n",
            " 0   Open    30 non-null     float64\n",
            " 1   High    30 non-null     float64\n",
            " 2   Low     30 non-null     float64\n",
            " 3   Close   30 non-null     float64\n",
            " 4   Volume  30 non-null     float64\n",
            "dtypes: float64(5)\n",
            "memory usage: 1.4 KB\n"
          ]
        }
      ]
    },
    {
      "cell_type": "code",
      "source": [
        "test.info()"
      ],
      "metadata": {
        "colab": {
          "base_uri": "https://localhost:8080/"
        },
        "id": "aiqe2SOqk20N",
        "outputId": "3b3fef4a-92fc-45b9-acb0-543b34cc4dc2"
      },
      "execution_count": 63,
      "outputs": [
        {
          "output_type": "stream",
          "name": "stdout",
          "text": [
            "<class 'pandas.core.frame.DataFrame'>\n",
            "DatetimeIndex: 20 entries, 2020-05-01 to 2021-12-01\n",
            "Data columns (total 5 columns):\n",
            " #   Column  Non-Null Count  Dtype  \n",
            "---  ------  --------------  -----  \n",
            " 0   Open    20 non-null     float64\n",
            " 1   High    20 non-null     float64\n",
            " 2   Low     20 non-null     float64\n",
            " 3   Close   20 non-null     float64\n",
            " 4   Volume  20 non-null     float64\n",
            "dtypes: float64(5)\n",
            "memory usage: 960.0 bytes\n"
          ]
        }
      ]
    },
    {
      "cell_type": "markdown",
      "metadata": {
        "id": "crIK63OnF6SP"
      },
      "source": [
        "### Обучаем SARIMA (2, 1, 2)x(2, 0, 2, 12)"
      ]
    },
    {
      "cell_type": "code",
      "execution_count": 64,
      "metadata": {
        "id": "SvGP_30qF6SQ",
        "outputId": "42140428-b568-4612-fe10-d86a2f164261",
        "colab": {
          "base_uri": "https://localhost:8080/",
          "height": 558
        }
      },
      "outputs": [
        {
          "output_type": "execute_result",
          "data": {
            "text/plain": [
              "<class 'statsmodels.iolib.summary.Summary'>\n",
              "\"\"\"\n",
              "                                     SARIMAX Results                                      \n",
              "==========================================================================================\n",
              "Dep. Variable:                              Close   No. Observations:                   30\n",
              "Model:             SARIMAX(2, 1, 2)x(2, 0, 2, 12)   Log Likelihood                 -65.557\n",
              "Date:                            Thu, 24 Mar 2022   AIC                            149.115\n",
              "Time:                                    07:16:16   BIC                            161.420\n",
              "Sample:                                11-01-2017   HQIC                           152.969\n",
              "                                     - 04-01-2020                                         \n",
              "Covariance Type:                              opg                                         \n",
              "==============================================================================\n",
              "                 coef    std err          z      P>|z|      [0.025      0.975]\n",
              "------------------------------------------------------------------------------\n",
              "ar.L1          0.4017      1.069      0.376      0.707      -1.694       2.497\n",
              "ar.L2         -0.8842      1.012     -0.874      0.382      -2.867       1.099\n",
              "ma.L1         -0.3710      0.989     -0.375      0.708      -2.310       1.568\n",
              "ma.L2          0.3979      1.051      0.379      0.705      -1.661       2.457\n",
              "ar.S.L12       0.9491    235.422      0.004      0.997    -460.470     462.369\n",
              "ar.S.L24      -0.8637     83.999     -0.010      0.992    -165.499     163.772\n",
              "ma.S.L12      -0.5194    318.927     -0.002      0.999    -625.605     624.566\n",
              "ma.S.L24       0.9078    344.060      0.003      0.998    -673.437     675.252\n",
              "sigma2         2.9389    905.133      0.003      0.997   -1771.088    1776.966\n",
              "===================================================================================\n",
              "Ljung-Box (L1) (Q):                   0.01   Jarque-Bera (JB):                64.95\n",
              "Prob(Q):                              0.93   Prob(JB):                         0.00\n",
              "Heteroskedasticity (H):               6.03   Skew:                            -2.13\n",
              "Prob(H) (two-sided):                  0.01   Kurtosis:                         8.97\n",
              "===================================================================================\n",
              "\n",
              "Warnings:\n",
              "[1] Covariance matrix calculated using the outer product of gradients (complex-step).\n",
              "\"\"\""
            ],
            "text/html": [
              "<table class=\"simpletable\">\n",
              "<caption>SARIMAX Results</caption>\n",
              "<tr>\n",
              "  <th>Dep. Variable:</th>                <td>Close</td>             <th>  No. Observations:  </th>   <td>30</td>   \n",
              "</tr>\n",
              "<tr>\n",
              "  <th>Model:</th>           <td>SARIMAX(2, 1, 2)x(2, 0, 2, 12)</td> <th>  Log Likelihood     </th> <td>-65.557</td>\n",
              "</tr>\n",
              "<tr>\n",
              "  <th>Date:</th>                   <td>Thu, 24 Mar 2022</td>        <th>  AIC                </th> <td>149.115</td>\n",
              "</tr>\n",
              "<tr>\n",
              "  <th>Time:</th>                       <td>07:16:16</td>            <th>  BIC                </th> <td>161.420</td>\n",
              "</tr>\n",
              "<tr>\n",
              "  <th>Sample:</th>                    <td>11-01-2017</td>           <th>  HQIC               </th> <td>152.969</td>\n",
              "</tr>\n",
              "<tr>\n",
              "  <th></th>                          <td>- 04-01-2020</td>          <th>                     </th>    <td> </td>   \n",
              "</tr>\n",
              "<tr>\n",
              "  <th>Covariance Type:</th>               <td>opg</td>              <th>                     </th>    <td> </td>   \n",
              "</tr>\n",
              "</table>\n",
              "<table class=\"simpletable\">\n",
              "<tr>\n",
              "      <td></td>        <th>coef</th>     <th>std err</th>      <th>z</th>      <th>P>|z|</th>  <th>[0.025</th>    <th>0.975]</th>  \n",
              "</tr>\n",
              "<tr>\n",
              "  <th>ar.L1</th>    <td>    0.4017</td> <td>    1.069</td> <td>    0.376</td> <td> 0.707</td> <td>   -1.694</td> <td>    2.497</td>\n",
              "</tr>\n",
              "<tr>\n",
              "  <th>ar.L2</th>    <td>   -0.8842</td> <td>    1.012</td> <td>   -0.874</td> <td> 0.382</td> <td>   -2.867</td> <td>    1.099</td>\n",
              "</tr>\n",
              "<tr>\n",
              "  <th>ma.L1</th>    <td>   -0.3710</td> <td>    0.989</td> <td>   -0.375</td> <td> 0.708</td> <td>   -2.310</td> <td>    1.568</td>\n",
              "</tr>\n",
              "<tr>\n",
              "  <th>ma.L2</th>    <td>    0.3979</td> <td>    1.051</td> <td>    0.379</td> <td> 0.705</td> <td>   -1.661</td> <td>    2.457</td>\n",
              "</tr>\n",
              "<tr>\n",
              "  <th>ar.S.L12</th> <td>    0.9491</td> <td>  235.422</td> <td>    0.004</td> <td> 0.997</td> <td> -460.470</td> <td>  462.369</td>\n",
              "</tr>\n",
              "<tr>\n",
              "  <th>ar.S.L24</th> <td>   -0.8637</td> <td>   83.999</td> <td>   -0.010</td> <td> 0.992</td> <td> -165.499</td> <td>  163.772</td>\n",
              "</tr>\n",
              "<tr>\n",
              "  <th>ma.S.L12</th> <td>   -0.5194</td> <td>  318.927</td> <td>   -0.002</td> <td> 0.999</td> <td> -625.605</td> <td>  624.566</td>\n",
              "</tr>\n",
              "<tr>\n",
              "  <th>ma.S.L24</th> <td>    0.9078</td> <td>  344.060</td> <td>    0.003</td> <td> 0.998</td> <td> -673.437</td> <td>  675.252</td>\n",
              "</tr>\n",
              "<tr>\n",
              "  <th>sigma2</th>   <td>    2.9389</td> <td>  905.133</td> <td>    0.003</td> <td> 0.997</td> <td>-1771.088</td> <td> 1776.966</td>\n",
              "</tr>\n",
              "</table>\n",
              "<table class=\"simpletable\">\n",
              "<tr>\n",
              "  <th>Ljung-Box (L1) (Q):</th>     <td>0.01</td> <th>  Jarque-Bera (JB):  </th> <td>64.95</td>\n",
              "</tr>\n",
              "<tr>\n",
              "  <th>Prob(Q):</th>                <td>0.93</td> <th>  Prob(JB):          </th> <td>0.00</td> \n",
              "</tr>\n",
              "<tr>\n",
              "  <th>Heteroskedasticity (H):</th> <td>6.03</td> <th>  Skew:              </th> <td>-2.13</td>\n",
              "</tr>\n",
              "<tr>\n",
              "  <th>Prob(H) (two-sided):</th>    <td>0.01</td> <th>  Kurtosis:          </th> <td>8.97</td> \n",
              "</tr>\n",
              "</table><br/><br/>Warnings:<br/>[1] Covariance matrix calculated using the outer product of gradients (complex-step)."
            ]
          },
          "metadata": {},
          "execution_count": 64
        }
      ],
      "source": [
        "# (2, 1, 2)x(2, 0, 2, 12)\n",
        "model = SARIMAX(train['Close'], order=(2, 1, 2), seasonal_order=(2, 0, 2, 12) )\n",
        "results = model.fit()\n",
        "results.summary()"
      ]
    },
    {
      "cell_type": "code",
      "execution_count": 65,
      "metadata": {
        "id": "e-HQnKLxF6SQ"
      },
      "outputs": [],
      "source": [
        "# предсказанные значения\n",
        "start=len(train)\n",
        "end=len(train)+len(test)-1\n",
        "predictions = results.predict(start=start, end=end, dynamic=False, typ='levels').rename('SARIMA(2, 1, 2)x(2, 0, 2, 12) ')"
      ]
    },
    {
      "cell_type": "code",
      "execution_count": 66,
      "metadata": {
        "id": "v0AnzPzrF6SQ",
        "outputId": "3b8bbf05-51df-4139-c941-4870c756f0e2",
        "colab": {
          "base_uri": "https://localhost:8080/"
        }
      },
      "outputs": [
        {
          "output_type": "stream",
          "name": "stdout",
          "text": [
            "predicted=52.89      , expected=45.25      \n",
            "predicted=57.87      , expected=46.53      \n",
            "predicted=55.21      , expected=46.5       \n",
            "predicted=51.04      , expected=47.94      \n",
            "predicted=52.3       , expected=49.92      \n",
            "predicted=56.38      , expected=49.72      \n",
            "predicted=56.11      , expected=52.08      \n",
            "predicted=53.93      , expected=53.34      \n",
            "predicted=52.76      , expected=49.65      \n",
            "predicted=56.79      , expected=49.86      \n",
            "predicted=54.06      , expected=51.28      \n",
            "predicted=52.48      , expected=53.59      \n",
            "predicted=53.85      , expected=54.6       \n",
            "predicted=55.46      , expected=55.01      \n",
            "predicted=55.56      , expected=55.73      \n",
            "predicted=54.17      , expected=56.56      \n",
            "predicted=53.38      , expected=54.91      \n",
            "predicted=53.88      , expected=54.32      \n",
            "predicted=53.17      , expected=55.8       \n",
            "predicted=54.01      , expected=55.78      \n"
          ]
        }
      ],
      "source": [
        "# Сравниваем результаты\n",
        "for i in range(len(predictions)):\n",
        "    print(f\"predicted={predictions[i]:<11.4}, expected={test['Close'][i]:<11.4}\")"
      ]
    },
    {
      "cell_type": "markdown",
      "source": [
        "Строим графики"
      ],
      "metadata": {
        "id": "-6LoOK2t6ObY"
      }
    },
    {
      "cell_type": "code",
      "execution_count": 67,
      "metadata": {
        "id": "dTG_vmtDF6SR",
        "outputId": "5f88dfa2-90b1-4fca-8b78-ebb5b76e1c02",
        "colab": {
          "base_uri": "https://localhost:8080/",
          "height": 402
        }
      },
      "outputs": [
        {
          "output_type": "display_data",
          "data": {
            "text/plain": [
              "<Figure size 864x432 with 1 Axes>"
            ],
            "image/png": "[encoded data removed]"
          },
          "metadata": {
            "needs_background": "light"
          }
        }
      ],
      "source": [
        "# графики\n",
        "title = 'Close_Stock Price Coca-Cola '\n",
        "ylabel='USD'\n",
        "xlabel=''\n",
        "\n",
        "ax = test['Close'].plot(legend=True,figsize=(12,6),title=title)\n",
        "predictions.plot(legend=True)\n",
        "ax.autoscale(axis='x',tight=True)\n",
        "ax.set(xlabel=xlabel, ylabel=ylabel);"
      ]
    },
    {
      "cell_type": "markdown",
      "metadata": {
        "id": "txDF3Y55F6SR"
      },
      "source": [
        "### Оценка модели"
      ]
    },
    {
      "cell_type": "code",
      "execution_count": 68,
      "metadata": {
        "id": "AfN2CHCWF6SR",
        "outputId": "7edef863-d56f-4afa-f307-4972e8946e0a",
        "colab": {
          "base_uri": "https://localhost:8080/"
        }
      },
      "outputs": [
        {
          "output_type": "stream",
          "name": "stdout",
          "text": [
            "SARIMA(2, 1, 2)x(2, 0, 2, 12) MSE Error:      21.237\n"
          ]
        }
      ],
      "source": [
        "from sklearn.metrics import mean_squared_error\n",
        "\n",
        "error = mean_squared_error(test['Close'], predictions)\n",
        "print(f'SARIMA(2, 1, 2)x(2, 0, 2, 12) MSE Error: {error:11.5}')"
      ]
    },
    {
      "cell_type": "code",
      "execution_count": 69,
      "metadata": {
        "id": "Tw3HKd-gF6SS",
        "outputId": "0937852f-6271-4869-961b-84676f3f71b7",
        "colab": {
          "base_uri": "https://localhost:8080/"
        }
      },
      "outputs": [
        {
          "output_type": "stream",
          "name": "stdout",
          "text": [
            "SARIMA(2, 1, 2)x(2, 0, 2, 12) RMSE Error: 4.608324679\n"
          ]
        }
      ],
      "source": [
        "from statsmodels.tools.eval_measures import rmse\n",
        "# rmse = root mse\n",
        "error = rmse(test['Close'], predictions)\n",
        "print(f'SARIMA(2, 1, 2)x(2, 0, 2, 12) RMSE Error: {error:11.10}')"
      ]
    },
    {
      "cell_type": "markdown",
      "source": [
        "RMSE около 4 USD, это много для принятия решения, но посмотрим каким будет прогноз. Если положительным (рост акций) - вернемся к вопросу RMSE"
      ],
      "metadata": {
        "id": "RJ5NEIAt7BS3"
      }
    },
    {
      "cell_type": "markdown",
      "metadata": {
        "id": "A2BAKxNKF6SS"
      },
      "source": [
        "\n",
        "### Обучаем модель на полных данных и прогнозируем будущее :)"
      ]
    },
    {
      "cell_type": "code",
      "execution_count": 70,
      "metadata": {
        "id": "RwRs_k8BF6SS"
      },
      "outputs": [],
      "source": [
        "# (1, 1, 2)x(2, 0, 2, 12)\n",
        "model = SARIMAX(df_final['Close'],order=(1, 1, 2),seasonal_order=(2, 0, 2, 12))\n",
        "results = model.fit()\n",
        "\n",
        "fcast = results.predict(len(df_final),len(df_final)+12,typ='levels').rename('SARIMA(2, 1, 2)x(2, 0, 2, 12) Forecast')\n"
      ]
    },
    {
      "cell_type": "code",
      "execution_count": 71,
      "metadata": {
        "id": "wI8PLcj3F6SS",
        "outputId": "df7184db-bd65-471e-b5b4-575df637729c",
        "colab": {
          "base_uri": "https://localhost:8080/",
          "height": 390
        }
      },
      "outputs": [
        {
          "output_type": "display_data",
          "data": {
            "text/plain": [
              "<Figure size 864x432 with 1 Axes>"
            ],
            "image/png": "[encoded data removed]"
          },
          "metadata": {
            "needs_background": "light"
          }
        }
      ],
      "source": [
        "# график\n",
        "title = 'Stock Price Coca-Cola '\n",
        "ylabel='USD'\n",
        "xlabel=''\n",
        "\n",
        "ax = df_final['Close'].plot(legend=True,figsize=(12,6),title=title)\n",
        "fcast.plot(legend=True)\n",
        "ax.autoscale(axis='x',tight=True)\n",
        "ax.set(xlabel=xlabel, ylabel=ylabel);"
      ]
    },
    {
      "cell_type": "markdown",
      "source": [
        "Вывод: в результате исследования построена модель прогнозирования стоимости акций. Результат прогноза - падение стоимости, т.е. среднесрочное инвестирование нецелесообразно.\n",
        "При этом, необходимо учитывать, что биржевая стоимость акций в среднесрочном и долгосрочном периоде не имеет постоянного цикла изменений и определяется множеством факторов включая стоимость сырьевых товаров, страновые риски, проведение военных действий, выведение на рынок новых товаров. действия конкурентов. правительств и регулирующих органов - т.е биржевая цена, как нам повторяют трейдеры \"учитывает ВСЕ\". таким образом, проведенный прежде всего достиг учебной цели - закрепление пройденного материала по анализу временных рядов!"
      ],
      "metadata": {
        "id": "3U8mlEY17kpH"
      }
    }
  ],
  "metadata": {
    "kernelspec": {
      "display_name": "Python 3 (ipykernel)",
      "language": "python",
      "name": "python3"
    },
    "language_info": {
      "codemirror_mode": {
        "name": "ipython",
        "version": 3
      },
      "file_extension": ".py",
      "mimetype": "text/x-python",
      "name": "python",
      "nbconvert_exporter": "python",
      "pygments_lexer": "ipython3",
      "version": "3.9.7"
    },
    "colab": {
      "name": "Итоговая аттестация Бутин SARIMA.ipynb",
      "provenance": [],
      "collapsed_sections": [],
      "include_colab_link": true
    }
  },
  "nbformat": 4,
  "nbformat_minor": 0
}