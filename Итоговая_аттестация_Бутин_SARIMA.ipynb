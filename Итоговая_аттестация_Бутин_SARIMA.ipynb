{
  "cells": [
    {
      "cell_type": "markdown",
      "metadata": {
        "id": "view-in-github",
        "colab_type": "text"
      },
      "source": [
        "<a href=\"https://colab.research.google.com/github/ibutin/Innopoilis/blob/main/%D0%98%D1%82%D0%BE%D0%B3%D0%BE%D0%B2%D0%B0%D1%8F_%D0%B0%D1%82%D1%82%D0%B5%D1%81%D1%82%D0%B0%D1%86%D0%B8%D1%8F_%D0%91%D1%83%D1%82%D0%B8%D0%BD_SARIMA.ipynb\" target=\"_parent\"><img src=\"https://colab.research.google.com/assets/colab-badge.svg\" alt=\"Open In Colab\"/></a>"
      ]
    },
    {
      "cell_type": "markdown",
      "metadata": {
        "id": "qJ4MyZrUF6SI"
      },
      "source": [
        "## Введение. Постановка целей и задач"
      ]
    },
    {
      "cell_type": "markdown",
      "source": [
        "Цель этой аттестационной работы - попытаться предсказать поведение акций компании Coca-Cola в следующие 12 мес для принятия решения о среднесрочном инвестировании свободных средств для получения дохода выше депозитного дохода."
      ],
      "metadata": {
        "id": "nLxQwx4F0ba4"
      }
    },
    {
      "cell_type": "markdown",
      "metadata": {
        "id": "fsEnvXWXUe2z"
      },
      "source": [
        "### Импорт Датафрейма, библиотек, написание функций."
      ]
    },
    {
      "cell_type": "markdown",
      "metadata": {
        "id": "otOFZm6dUexQ"
      },
      "source": [
        "В этом блоке мы импортируем все, что нам нужно для работы: библиотеки, отдельные функции, сам датасет."
      ]
    },
    {
      "cell_type": "code",
      "execution_count": 1,
      "metadata": {
        "id": "LBFrQBHzHCtM",
        "outputId": "0be9b7e6-8934-4e57-b45c-533a16489137",
        "colab": {
          "base_uri": "https://localhost:8080/",
          "height": 0
        }
      },
      "outputs": [
        {
          "output_type": "stream",
          "name": "stdout",
          "text": [
            "Collecting pmdarima\n",
            "  Downloading pmdarima-1.8.5-cp37-cp37m-manylinux_2_17_x86_64.manylinux2014_x86_64.manylinux_2_24_x86_64.whl (1.4 MB)\n",
            "\u001b[?25l\r\u001b[K     |▎                               | 10 kB 22.4 MB/s eta 0:00:01\r\u001b[K     |▌                               | 20 kB 29.3 MB/s eta 0:00:01\r\u001b[K     |▊                               | 30 kB 35.5 MB/s eta 0:00:01\r\u001b[K     |█                               | 40 kB 14.3 MB/s eta 0:00:01\r\u001b[K     |█▏                              | 51 kB 12.7 MB/s eta 0:00:01\r\u001b[K     |█▍                              | 61 kB 13.9 MB/s eta 0:00:01\r\u001b[K     |█▋                              | 71 kB 13.7 MB/s eta 0:00:01\r\u001b[K     |██                              | 81 kB 14.9 MB/s eta 0:00:01\r\u001b[K     |██▏                             | 92 kB 16.3 MB/s eta 0:00:01\r\u001b[K     |██▍                             | 102 kB 13.7 MB/s eta 0:00:01\r\u001b[K     |██▋                             | 112 kB 13.7 MB/s eta 0:00:01\r\u001b[K     |██▉                             | 122 kB 13.7 MB/s eta 0:00:01\r\u001b[K     |███                             | 133 kB 13.7 MB/s eta 0:00:01\r\u001b[K     |███▎                            | 143 kB 13.7 MB/s eta 0:00:01\r\u001b[K     |███▌                            | 153 kB 13.7 MB/s eta 0:00:01\r\u001b[K     |███▉                            | 163 kB 13.7 MB/s eta 0:00:01\r\u001b[K     |████                            | 174 kB 13.7 MB/s eta 0:00:01\r\u001b[K     |████▎                           | 184 kB 13.7 MB/s eta 0:00:01\r\u001b[K     |████▌                           | 194 kB 13.7 MB/s eta 0:00:01\r\u001b[K     |████▊                           | 204 kB 13.7 MB/s eta 0:00:01\r\u001b[K     |█████                           | 215 kB 13.7 MB/s eta 0:00:01\r\u001b[K     |█████▏                          | 225 kB 13.7 MB/s eta 0:00:01\r\u001b[K     |█████▍                          | 235 kB 13.7 MB/s eta 0:00:01\r\u001b[K     |█████▊                          | 245 kB 13.7 MB/s eta 0:00:01\r\u001b[K     |██████                          | 256 kB 13.7 MB/s eta 0:00:01\r\u001b[K     |██████▏                         | 266 kB 13.7 MB/s eta 0:00:01\r\u001b[K     |██████▍                         | 276 kB 13.7 MB/s eta 0:00:01\r\u001b[K     |██████▋                         | 286 kB 13.7 MB/s eta 0:00:01\r\u001b[K     |██████▉                         | 296 kB 13.7 MB/s eta 0:00:01\r\u001b[K     |███████                         | 307 kB 13.7 MB/s eta 0:00:01\r\u001b[K     |███████▎                        | 317 kB 13.7 MB/s eta 0:00:01\r\u001b[K     |███████▋                        | 327 kB 13.7 MB/s eta 0:00:01\r\u001b[K     |███████▉                        | 337 kB 13.7 MB/s eta 0:00:01\r\u001b[K     |████████                        | 348 kB 13.7 MB/s eta 0:00:01\r\u001b[K     |████████▎                       | 358 kB 13.7 MB/s eta 0:00:01\r\u001b[K     |████████▌                       | 368 kB 13.7 MB/s eta 0:00:01\r\u001b[K     |████████▊                       | 378 kB 13.7 MB/s eta 0:00:01\r\u001b[K     |█████████                       | 389 kB 13.7 MB/s eta 0:00:01\r\u001b[K     |█████████▎                      | 399 kB 13.7 MB/s eta 0:00:01\r\u001b[K     |█████████▌                      | 409 kB 13.7 MB/s eta 0:00:01\r\u001b[K     |█████████▊                      | 419 kB 13.7 MB/s eta 0:00:01\r\u001b[K     |██████████                      | 430 kB 13.7 MB/s eta 0:00:01\r\u001b[K     |██████████▏                     | 440 kB 13.7 MB/s eta 0:00:01\r\u001b[K     |██████████▍                     | 450 kB 13.7 MB/s eta 0:00:01\r\u001b[K     |██████████▋                     | 460 kB 13.7 MB/s eta 0:00:01\r\u001b[K     |██████████▉                     | 471 kB 13.7 MB/s eta 0:00:01\r\u001b[K     |███████████▏                    | 481 kB 13.7 MB/s eta 0:00:01\r\u001b[K     |███████████▍                    | 491 kB 13.7 MB/s eta 0:00:01\r\u001b[K     |███████████▋                    | 501 kB 13.7 MB/s eta 0:00:01\r\u001b[K     |███████████▉                    | 512 kB 13.7 MB/s eta 0:00:01\r\u001b[K     |████████████                    | 522 kB 13.7 MB/s eta 0:00:01\r\u001b[K     |████████████▎                   | 532 kB 13.7 MB/s eta 0:00:01\r\u001b[K     |████████████▌                   | 542 kB 13.7 MB/s eta 0:00:01\r\u001b[K     |████████████▊                   | 552 kB 13.7 MB/s eta 0:00:01\r\u001b[K     |█████████████                   | 563 kB 13.7 MB/s eta 0:00:01\r\u001b[K     |█████████████▎                  | 573 kB 13.7 MB/s eta 0:00:01\r\u001b[K     |█████████████▌                  | 583 kB 13.7 MB/s eta 0:00:01\r\u001b[K     |█████████████▊                  | 593 kB 13.7 MB/s eta 0:00:01\r\u001b[K     |██████████████                  | 604 kB 13.7 MB/s eta 0:00:01\r\u001b[K     |██████████████▏                 | 614 kB 13.7 MB/s eta 0:00:01\r\u001b[K     |██████████████▍                 | 624 kB 13.7 MB/s eta 0:00:01\r\u001b[K     |██████████████▋                 | 634 kB 13.7 MB/s eta 0:00:01\r\u001b[K     |███████████████                 | 645 kB 13.7 MB/s eta 0:00:01\r\u001b[K     |███████████████▏                | 655 kB 13.7 MB/s eta 0:00:01\r\u001b[K     |███████████████▍                | 665 kB 13.7 MB/s eta 0:00:01\r\u001b[K     |███████████████▋                | 675 kB 13.7 MB/s eta 0:00:01\r\u001b[K     |███████████████▉                | 686 kB 13.7 MB/s eta 0:00:01\r\u001b[K     |████████████████                | 696 kB 13.7 MB/s eta 0:00:01\r\u001b[K     |████████████████▎               | 706 kB 13.7 MB/s eta 0:00:01\r\u001b[K     |████████████████▋               | 716 kB 13.7 MB/s eta 0:00:01\r\u001b[K     |████████████████▉               | 727 kB 13.7 MB/s eta 0:00:01\r\u001b[K     |█████████████████               | 737 kB 13.7 MB/s eta 0:00:01\r\u001b[K     |█████████████████▎              | 747 kB 13.7 MB/s eta 0:00:01\r\u001b[K     |█████████████████▌              | 757 kB 13.7 MB/s eta 0:00:01\r\u001b[K     |█████████████████▊              | 768 kB 13.7 MB/s eta 0:00:01\r\u001b[K     |██████████████████              | 778 kB 13.7 MB/s eta 0:00:01\r\u001b[K     |██████████████████▏             | 788 kB 13.7 MB/s eta 0:00:01\r\u001b[K     |██████████████████▌             | 798 kB 13.7 MB/s eta 0:00:01\r\u001b[K     |██████████████████▊             | 808 kB 13.7 MB/s eta 0:00:01\r\u001b[K     |███████████████████             | 819 kB 13.7 MB/s eta 0:00:01\r\u001b[K     |███████████████████▏            | 829 kB 13.7 MB/s eta 0:00:01\r\u001b[K     |███████████████████▍            | 839 kB 13.7 MB/s eta 0:00:01\r\u001b[K     |███████████████████▋            | 849 kB 13.7 MB/s eta 0:00:01\r\u001b[K     |███████████████████▉            | 860 kB 13.7 MB/s eta 0:00:01\r\u001b[K     |████████████████████            | 870 kB 13.7 MB/s eta 0:00:01\r\u001b[K     |████████████████████▍           | 880 kB 13.7 MB/s eta 0:00:01\r\u001b[K     |████████████████████▋           | 890 kB 13.7 MB/s eta 0:00:01\r\u001b[K     |████████████████████▉           | 901 kB 13.7 MB/s eta 0:00:01\r\u001b[K     |█████████████████████           | 911 kB 13.7 MB/s eta 0:00:01\r\u001b[K     |█████████████████████▎          | 921 kB 13.7 MB/s eta 0:00:01\r\u001b[K     |█████████████████████▌          | 931 kB 13.7 MB/s eta 0:00:01\r\u001b[K     |█████████████████████▊          | 942 kB 13.7 MB/s eta 0:00:01\r\u001b[K     |██████████████████████          | 952 kB 13.7 MB/s eta 0:00:01\r\u001b[K     |██████████████████████▎         | 962 kB 13.7 MB/s eta 0:00:01\r\u001b[K     |██████████████████████▌         | 972 kB 13.7 MB/s eta 0:00:01\r\u001b[K     |██████████████████████▊         | 983 kB 13.7 MB/s eta 0:00:01\r\u001b[K     |███████████████████████         | 993 kB 13.7 MB/s eta 0:00:01\r\u001b[K     |███████████████████████▏        | 1.0 MB 13.7 MB/s eta 0:00:01\r\u001b[K     |███████████████████████▍        | 1.0 MB 13.7 MB/s eta 0:00:01\r\u001b[K     |███████████████████████▋        | 1.0 MB 13.7 MB/s eta 0:00:01\r\u001b[K     |████████████████████████        | 1.0 MB 13.7 MB/s eta 0:00:01\r\u001b[K     |████████████████████████▏       | 1.0 MB 13.7 MB/s eta 0:00:01\r\u001b[K     |████████████████████████▍       | 1.1 MB 13.7 MB/s eta 0:00:01\r\u001b[K     |████████████████████████▋       | 1.1 MB 13.7 MB/s eta 0:00:01\r\u001b[K     |████████████████████████▉       | 1.1 MB 13.7 MB/s eta 0:00:01\r\u001b[K     |█████████████████████████       | 1.1 MB 13.7 MB/s eta 0:00:01\r\u001b[K     |█████████████████████████▎      | 1.1 MB 13.7 MB/s eta 0:00:01\r\u001b[K     |█████████████████████████▌      | 1.1 MB 13.7 MB/s eta 0:00:01\r\u001b[K     |█████████████████████████▉      | 1.1 MB 13.7 MB/s eta 0:00:01\r\u001b[K     |██████████████████████████      | 1.1 MB 13.7 MB/s eta 0:00:01\r\u001b[K     |██████████████████████████▎     | 1.1 MB 13.7 MB/s eta 0:00:01\r\u001b[K     |██████████████████████████▌     | 1.1 MB 13.7 MB/s eta 0:00:01\r\u001b[K     |██████████████████████████▊     | 1.2 MB 13.7 MB/s eta 0:00:01\r\u001b[K     |███████████████████████████     | 1.2 MB 13.7 MB/s eta 0:00:01\r\u001b[K     |███████████████████████████▏    | 1.2 MB 13.7 MB/s eta 0:00:01\r\u001b[K     |███████████████████████████▍    | 1.2 MB 13.7 MB/s eta 0:00:01\r\u001b[K     |███████████████████████████▊    | 1.2 MB 13.7 MB/s eta 0:00:01\r\u001b[K     |████████████████████████████    | 1.2 MB 13.7 MB/s eta 0:00:01\r\u001b[K     |████████████████████████████▏   | 1.2 MB 13.7 MB/s eta 0:00:01\r\u001b[K     |████████████████████████████▍   | 1.2 MB 13.7 MB/s eta 0:00:01\r\u001b[K     |████████████████████████████▋   | 1.2 MB 13.7 MB/s eta 0:00:01\r\u001b[K     |████████████████████████████▉   | 1.2 MB 13.7 MB/s eta 0:00:01\r\u001b[K     |█████████████████████████████   | 1.3 MB 13.7 MB/s eta 0:00:01\r\u001b[K     |█████████████████████████████▎  | 1.3 MB 13.7 MB/s eta 0:00:01\r\u001b[K     |█████████████████████████████▋  | 1.3 MB 13.7 MB/s eta 0:00:01\r\u001b[K     |█████████████████████████████▉  | 1.3 MB 13.7 MB/s eta 0:00:01\r\u001b[K     |██████████████████████████████  | 1.3 MB 13.7 MB/s eta 0:00:01\r\u001b[K     |██████████████████████████████▎ | 1.3 MB 13.7 MB/s eta 0:00:01\r\u001b[K     |██████████████████████████████▌ | 1.3 MB 13.7 MB/s eta 0:00:01\r\u001b[K     |██████████████████████████████▊ | 1.3 MB 13.7 MB/s eta 0:00:01\r\u001b[K     |███████████████████████████████ | 1.3 MB 13.7 MB/s eta 0:00:01\r\u001b[K     |███████████████████████████████▎| 1.4 MB 13.7 MB/s eta 0:00:01\r\u001b[K     |███████████████████████████████▌| 1.4 MB 13.7 MB/s eta 0:00:01\r\u001b[K     |███████████████████████████████▊| 1.4 MB 13.7 MB/s eta 0:00:01\r\u001b[K     |████████████████████████████████| 1.4 MB 13.7 MB/s eta 0:00:01\r\u001b[K     |████████████████████████████████| 1.4 MB 13.7 MB/s \n",
            "\u001b[?25hRequirement already satisfied: scikit-learn>=0.22 in /usr/local/lib/python3.7/dist-packages (from pmdarima) (1.0.2)\n",
            "Requirement already satisfied: pandas>=0.19 in /usr/local/lib/python3.7/dist-packages (from pmdarima) (1.3.5)\n",
            "Requirement already satisfied: Cython!=0.29.18,>=0.29 in /usr/local/lib/python3.7/dist-packages (from pmdarima) (0.29.28)\n",
            "Requirement already satisfied: numpy>=1.19.3 in /usr/local/lib/python3.7/dist-packages (from pmdarima) (1.21.5)\n",
            "Collecting statsmodels!=0.12.0,>=0.11\n",
            "  Downloading statsmodels-0.13.2-cp37-cp37m-manylinux_2_17_x86_64.manylinux2014_x86_64.whl (9.8 MB)\n",
            "\u001b[K     |████████████████████████████████| 9.8 MB 54.7 MB/s \n",
            "\u001b[?25hRequirement already satisfied: urllib3 in /usr/local/lib/python3.7/dist-packages (from pmdarima) (1.24.3)\n",
            "Requirement already satisfied: joblib>=0.11 in /usr/local/lib/python3.7/dist-packages (from pmdarima) (1.1.0)\n",
            "Requirement already satisfied: scipy>=1.3.2 in /usr/local/lib/python3.7/dist-packages (from pmdarima) (1.4.1)\n",
            "Requirement already satisfied: setuptools!=50.0.0,>=38.6.0 in /usr/local/lib/python3.7/dist-packages (from pmdarima) (57.4.0)\n",
            "Requirement already satisfied: python-dateutil>=2.7.3 in /usr/local/lib/python3.7/dist-packages (from pandas>=0.19->pmdarima) (2.8.2)\n",
            "Requirement already satisfied: pytz>=2017.3 in /usr/local/lib/python3.7/dist-packages (from pandas>=0.19->pmdarima) (2018.9)\n",
            "Requirement already satisfied: six>=1.5 in /usr/local/lib/python3.7/dist-packages (from python-dateutil>=2.7.3->pandas>=0.19->pmdarima) (1.15.0)\n",
            "Requirement already satisfied: threadpoolctl>=2.0.0 in /usr/local/lib/python3.7/dist-packages (from scikit-learn>=0.22->pmdarima) (3.1.0)\n",
            "Requirement already satisfied: patsy>=0.5.2 in /usr/local/lib/python3.7/dist-packages (from statsmodels!=0.12.0,>=0.11->pmdarima) (0.5.2)\n",
            "Requirement already satisfied: packaging>=21.3 in /usr/local/lib/python3.7/dist-packages (from statsmodels!=0.12.0,>=0.11->pmdarima) (21.3)\n",
            "Requirement already satisfied: pyparsing!=3.0.5,>=2.0.2 in /usr/local/lib/python3.7/dist-packages (from packaging>=21.3->statsmodels!=0.12.0,>=0.11->pmdarima) (3.0.7)\n",
            "Installing collected packages: statsmodels, pmdarima\n",
            "  Attempting uninstall: statsmodels\n",
            "    Found existing installation: statsmodels 0.10.2\n",
            "    Uninstalling statsmodels-0.10.2:\n",
            "      Successfully uninstalled statsmodels-0.10.2\n",
            "Successfully installed pmdarima-1.8.5 statsmodels-0.13.2\n"
          ]
        }
      ],
      "source": [
        "!pip install pmdarima"
      ]
    },
    {
      "cell_type": "code",
      "source": [
        "## Здесь импортируем библиотеки и функции \n",
        "import pandas as pd\n",
        "import numpy as np\n",
        "%matplotlib inline\n",
        "\n",
        "# импорт SARIMAX \n",
        "from statsmodels.tsa.statespace.sarimax import SARIMAX\n",
        "\n",
        "from statsmodels.graphics.tsaplots import plot_acf,plot_pacf # для определения (p,q) \n",
        "from statsmodels.tsa.seasonal import seasonal_decompose      # для ETS графиков\n",
        "from pmdarima import auto_arima                              # для поиска ARIMA моделей\n",
        "\n",
        "# метрики\n",
        "from sklearn.metrics import mean_squared_error\n",
        "from statsmodels.tools.eval_measures import rmse\n",
        "\n",
        "# для игнорирования предупреждений (опционально)\n",
        "import warnings\n",
        "warnings.filterwarnings(\"ignore\")"
      ],
      "metadata": {
        "id": "25cSYRT6Hg1K"
      },
      "execution_count": 2,
      "outputs": []
    },
    {
      "cell_type": "code",
      "source": [
        "## Здесь импортируем данные.\n",
        "df = pd.read_csv('COCO COLA.csv')"
      ],
      "metadata": {
        "id": "axBvMsJuGdtr"
      },
      "execution_count": 3,
      "outputs": []
    },
    {
      "cell_type": "markdown",
      "metadata": {
        "id": "plIXeY2aUeuv"
      },
      "source": [
        "### Знакомство с данными."
      ]
    },
    {
      "cell_type": "markdown",
      "metadata": {
        "id": "2CFkHRlGUerR"
      },
      "source": [
        "Этот блок посвящен первоначальному знакомству с данными\n",
        "\n",
        "Наша задача - посмотреть на данные методами .info(), а также изучить их визуально.\n"
      ]
    },
    {
      "cell_type": "code",
      "source": [
        "df.info()"
      ],
      "metadata": {
        "colab": {
          "base_uri": "https://localhost:8080/",
          "height": 0
        },
        "id": "4xp0cp55KhPc",
        "outputId": "1f29196f-4fbd-489b-9050-d8df148d34d7"
      },
      "execution_count": 4,
      "outputs": [
        {
          "output_type": "stream",
          "name": "stdout",
          "text": [
            "<class 'pandas.core.frame.DataFrame'>\n",
            "RangeIndex: 15096 entries, 0 to 15095\n",
            "Data columns (total 7 columns):\n",
            " #   Column     Non-Null Count  Dtype  \n",
            "---  ------     --------------  -----  \n",
            " 0   Date       15096 non-null  object \n",
            " 1   Open       15096 non-null  float64\n",
            " 2   High       15096 non-null  float64\n",
            " 3   Low        15096 non-null  float64\n",
            " 4   Close      15096 non-null  float64\n",
            " 5   Adj Close  15096 non-null  float64\n",
            " 6   Volume     15096 non-null  int64  \n",
            "dtypes: float64(5), int64(1), object(1)\n",
            "memory usage: 825.7+ KB\n"
          ]
        }
      ]
    },
    {
      "cell_type": "code",
      "execution_count": 5,
      "metadata": {
        "colab": {
          "base_uri": "https://localhost:8080/",
          "height": 206
        },
        "id": "tVFBLHsHF6SK",
        "outputId": "8c08ee6e-d8b5-4249-a564-79d5e045dc77"
      },
      "outputs": [
        {
          "output_type": "execute_result",
          "data": {
            "text/plain": [
              "         Date      Open      High       Low     Close  Adj Close   Volume\n",
              "0  1962-01-02  0.263021  0.270182  0.263021  0.263021   0.051133   806400\n",
              "1  1962-01-03  0.259115  0.259115  0.253255  0.257161   0.049994  1574400\n",
              "2  1962-01-04  0.257813  0.261068  0.257813  0.259115   0.050374   844800\n",
              "3  1962-01-05  0.259115  0.262370  0.252604  0.253255   0.049234  1420800\n",
              "4  1962-01-08  0.251302  0.251302  0.245768  0.250651   0.048728  2035200"
            ],
            "text/html": [
              "\n",
              "  <div id=\"df-4c952e84-62c1-449d-9018-5f22d0d46111\">\n",
              "    <div class=\"colab-df-container\">\n",
              "      <div>\n",
              "<style scoped>\n",
              "    .dataframe tbody tr th:only-of-type {\n",
              "        vertical-align: middle;\n",
              "    }\n",
              "\n",
              "    .dataframe tbody tr th {\n",
              "        vertical-align: top;\n",
              "    }\n",
              "\n",
              "    .dataframe thead th {\n",
              "        text-align: right;\n",
              "    }\n",
              "</style>\n",
              "<table border=\"1\" class=\"dataframe\">\n",
              "  <thead>\n",
              "    <tr style=\"text-align: right;\">\n",
              "      <th></th>\n",
              "      <th>Date</th>\n",
              "      <th>Open</th>\n",
              "      <th>High</th>\n",
              "      <th>Low</th>\n",
              "      <th>Close</th>\n",
              "      <th>Adj Close</th>\n",
              "      <th>Volume</th>\n",
              "    </tr>\n",
              "  </thead>\n",
              "  <tbody>\n",
              "    <tr>\n",
              "      <th>0</th>\n",
              "      <td>1962-01-02</td>\n",
              "      <td>0.263021</td>\n",
              "      <td>0.270182</td>\n",
              "      <td>0.263021</td>\n",
              "      <td>0.263021</td>\n",
              "      <td>0.051133</td>\n",
              "      <td>806400</td>\n",
              "    </tr>\n",
              "    <tr>\n",
              "      <th>1</th>\n",
              "      <td>1962-01-03</td>\n",
              "      <td>0.259115</td>\n",
              "      <td>0.259115</td>\n",
              "      <td>0.253255</td>\n",
              "      <td>0.257161</td>\n",
              "      <td>0.049994</td>\n",
              "      <td>1574400</td>\n",
              "    </tr>\n",
              "    <tr>\n",
              "      <th>2</th>\n",
              "      <td>1962-01-04</td>\n",
              "      <td>0.257813</td>\n",
              "      <td>0.261068</td>\n",
              "      <td>0.257813</td>\n",
              "      <td>0.259115</td>\n",
              "      <td>0.050374</td>\n",
              "      <td>844800</td>\n",
              "    </tr>\n",
              "    <tr>\n",
              "      <th>3</th>\n",
              "      <td>1962-01-05</td>\n",
              "      <td>0.259115</td>\n",
              "      <td>0.262370</td>\n",
              "      <td>0.252604</td>\n",
              "      <td>0.253255</td>\n",
              "      <td>0.049234</td>\n",
              "      <td>1420800</td>\n",
              "    </tr>\n",
              "    <tr>\n",
              "      <th>4</th>\n",
              "      <td>1962-01-08</td>\n",
              "      <td>0.251302</td>\n",
              "      <td>0.251302</td>\n",
              "      <td>0.245768</td>\n",
              "      <td>0.250651</td>\n",
              "      <td>0.048728</td>\n",
              "      <td>2035200</td>\n",
              "    </tr>\n",
              "  </tbody>\n",
              "</table>\n",
              "</div>\n",
              "      <button class=\"colab-df-convert\" onclick=\"convertToInteractive('df-4c952e84-62c1-449d-9018-5f22d0d46111')\"\n",
              "              title=\"Convert this dataframe to an interactive table.\"\n",
              "              style=\"display:none;\">\n",
              "        \n",
              "  <svg xmlns=\"http://www.w3.org/2000/svg\" height=\"24px\"viewBox=\"0 0 24 24\"\n",
              "       width=\"24px\">\n",
              "    <path d=\"M0 0h24v24H0V0z\" fill=\"none\"/>\n",
              "    <path d=\"M18.56 5.44l.94 2.06.94-2.06 2.06-.94-2.06-.94-.94-2.06-.94 2.06-2.06.94zm-11 1L8.5 8.5l.94-2.06 2.06-.94-2.06-.94L8.5 2.5l-.94 2.06-2.06.94zm10 10l.94 2.06.94-2.06 2.06-.94-2.06-.94-.94-2.06-.94 2.06-2.06.94z\"/><path d=\"M17.41 7.96l-1.37-1.37c-.4-.4-.92-.59-1.43-.59-.52 0-1.04.2-1.43.59L10.3 9.45l-7.72 7.72c-.78.78-.78 2.05 0 2.83L4 21.41c.39.39.9.59 1.41.59.51 0 1.02-.2 1.41-.59l7.78-7.78 2.81-2.81c.8-.78.8-2.07 0-2.86zM5.41 20L4 18.59l7.72-7.72 1.47 1.35L5.41 20z\"/>\n",
              "  </svg>\n",
              "      </button>\n",
              "      \n",
              "  <style>\n",
              "    .colab-df-container {\n",
              "      display:flex;\n",
              "      flex-wrap:wrap;\n",
              "      gap: 12px;\n",
              "    }\n",
              "\n",
              "    .colab-df-convert {\n",
              "      background-color: #E8F0FE;\n",
              "      border: none;\n",
              "      border-radius: 50%;\n",
              "      cursor: pointer;\n",
              "      display: none;\n",
              "      fill: #1967D2;\n",
              "      height: 32px;\n",
              "      padding: 0 0 0 0;\n",
              "      width: 32px;\n",
              "    }\n",
              "\n",
              "    .colab-df-convert:hover {\n",
              "      background-color: #E2EBFA;\n",
              "      box-shadow: 0px 1px 2px rgba(60, 64, 67, 0.3), 0px 1px 3px 1px rgba(60, 64, 67, 0.15);\n",
              "      fill: #174EA6;\n",
              "    }\n",
              "\n",
              "    [theme=dark] .colab-df-convert {\n",
              "      background-color: #3B4455;\n",
              "      fill: #D2E3FC;\n",
              "    }\n",
              "\n",
              "    [theme=dark] .colab-df-convert:hover {\n",
              "      background-color: #434B5C;\n",
              "      box-shadow: 0px 1px 3px 1px rgba(0, 0, 0, 0.15);\n",
              "      filter: drop-shadow(0px 1px 2px rgba(0, 0, 0, 0.3));\n",
              "      fill: #FFFFFF;\n",
              "    }\n",
              "  </style>\n",
              "\n",
              "      <script>\n",
              "        const buttonEl =\n",
              "          document.querySelector('#df-4c952e84-62c1-449d-9018-5f22d0d46111 button.colab-df-convert');\n",
              "        buttonEl.style.display =\n",
              "          google.colab.kernel.accessAllowed ? 'block' : 'none';\n",
              "\n",
              "        async function convertToInteractive(key) {\n",
              "          const element = document.querySelector('#df-4c952e84-62c1-449d-9018-5f22d0d46111');\n",
              "          const dataTable =\n",
              "            await google.colab.kernel.invokeFunction('convertToInteractive',\n",
              "                                                     [key], {});\n",
              "          if (!dataTable) return;\n",
              "\n",
              "          const docLinkHtml = 'Like what you see? Visit the ' +\n",
              "            '<a target=\"_blank\" href=https://colab.research.google.com/notebooks/data_table.ipynb>data table notebook</a>'\n",
              "            + ' to learn more about interactive tables.';\n",
              "          element.innerHTML = '';\n",
              "          dataTable['output_type'] = 'display_data';\n",
              "          await google.colab.output.renderOutput(dataTable, element);\n",
              "          const docLink = document.createElement('div');\n",
              "          docLink.innerHTML = docLinkHtml;\n",
              "          element.appendChild(docLink);\n",
              "        }\n",
              "      </script>\n",
              "    </div>\n",
              "  </div>\n",
              "  "
            ]
          },
          "metadata": {},
          "execution_count": 5
        }
      ],
      "source": [
        "df.head()"
      ]
    },
    {
      "cell_type": "code",
      "source": [
        "df.describe()"
      ],
      "metadata": {
        "colab": {
          "base_uri": "https://localhost:8080/",
          "height": 300
        },
        "id": "mvyQh7wmI5fg",
        "outputId": "133a73b4-0d41-475d-e81b-e2d8f958bf06"
      },
      "execution_count": 8,
      "outputs": [
        {
          "output_type": "execute_result",
          "data": {
            "text/plain": [
              "               Open          High           Low         Close     Adj Close  \\\n",
              "count  15096.000000  15096.000000  15096.000000  15096.000000  15096.000000   \n",
              "mean      16.056202     16.188428     15.921876     16.060734     11.367487   \n",
              "std       16.939301     17.064336     16.811753     16.941712     14.253637   \n",
              "min        0.192708      0.193359      0.182292      0.192057      0.037855   \n",
              "25%        0.860677      0.869792      0.854167      0.860352      0.242312   \n",
              "50%        9.328125      9.398438      9.218750      9.351562      4.642848   \n",
              "75%       28.875000     29.167500     28.563125     28.901562     17.251080   \n",
              "max       59.810001     60.130001     59.619999     60.130001     58.650002   \n",
              "\n",
              "             Volume  \n",
              "count  1.509600e+04  \n",
              "mean   9.032904e+06  \n",
              "std    7.935744e+06  \n",
              "min    7.680000e+04  \n",
              "25%    2.812800e+06  \n",
              "50%    7.585200e+06  \n",
              "75%    1.291275e+07  \n",
              "max    1.241690e+08  "
            ],
            "text/html": [
              "\n",
              "  <div id=\"df-51a7b59a-a9ad-4bdb-9214-0c81f0cec194\">\n",
              "    <div class=\"colab-df-container\">\n",
              "      <div>\n",
              "<style scoped>\n",
              "    .dataframe tbody tr th:only-of-type {\n",
              "        vertical-align: middle;\n",
              "    }\n",
              "\n",
              "    .dataframe tbody tr th {\n",
              "        vertical-align: top;\n",
              "    }\n",
              "\n",
              "    .dataframe thead th {\n",
              "        text-align: right;\n",
              "    }\n",
              "</style>\n",
              "<table border=\"1\" class=\"dataframe\">\n",
              "  <thead>\n",
              "    <tr style=\"text-align: right;\">\n",
              "      <th></th>\n",
              "      <th>Open</th>\n",
              "      <th>High</th>\n",
              "      <th>Low</th>\n",
              "      <th>Close</th>\n",
              "      <th>Adj Close</th>\n",
              "      <th>Volume</th>\n",
              "    </tr>\n",
              "  </thead>\n",
              "  <tbody>\n",
              "    <tr>\n",
              "      <th>count</th>\n",
              "      <td>15096.000000</td>\n",
              "      <td>15096.000000</td>\n",
              "      <td>15096.000000</td>\n",
              "      <td>15096.000000</td>\n",
              "      <td>15096.000000</td>\n",
              "      <td>1.509600e+04</td>\n",
              "    </tr>\n",
              "    <tr>\n",
              "      <th>mean</th>\n",
              "      <td>16.056202</td>\n",
              "      <td>16.188428</td>\n",
              "      <td>15.921876</td>\n",
              "      <td>16.060734</td>\n",
              "      <td>11.367487</td>\n",
              "      <td>9.032904e+06</td>\n",
              "    </tr>\n",
              "    <tr>\n",
              "      <th>std</th>\n",
              "      <td>16.939301</td>\n",
              "      <td>17.064336</td>\n",
              "      <td>16.811753</td>\n",
              "      <td>16.941712</td>\n",
              "      <td>14.253637</td>\n",
              "      <td>7.935744e+06</td>\n",
              "    </tr>\n",
              "    <tr>\n",
              "      <th>min</th>\n",
              "      <td>0.192708</td>\n",
              "      <td>0.193359</td>\n",
              "      <td>0.182292</td>\n",
              "      <td>0.192057</td>\n",
              "      <td>0.037855</td>\n",
              "      <td>7.680000e+04</td>\n",
              "    </tr>\n",
              "    <tr>\n",
              "      <th>25%</th>\n",
              "      <td>0.860677</td>\n",
              "      <td>0.869792</td>\n",
              "      <td>0.854167</td>\n",
              "      <td>0.860352</td>\n",
              "      <td>0.242312</td>\n",
              "      <td>2.812800e+06</td>\n",
              "    </tr>\n",
              "    <tr>\n",
              "      <th>50%</th>\n",
              "      <td>9.328125</td>\n",
              "      <td>9.398438</td>\n",
              "      <td>9.218750</td>\n",
              "      <td>9.351562</td>\n",
              "      <td>4.642848</td>\n",
              "      <td>7.585200e+06</td>\n",
              "    </tr>\n",
              "    <tr>\n",
              "      <th>75%</th>\n",
              "      <td>28.875000</td>\n",
              "      <td>29.167500</td>\n",
              "      <td>28.563125</td>\n",
              "      <td>28.901562</td>\n",
              "      <td>17.251080</td>\n",
              "      <td>1.291275e+07</td>\n",
              "    </tr>\n",
              "    <tr>\n",
              "      <th>max</th>\n",
              "      <td>59.810001</td>\n",
              "      <td>60.130001</td>\n",
              "      <td>59.619999</td>\n",
              "      <td>60.130001</td>\n",
              "      <td>58.650002</td>\n",
              "      <td>1.241690e+08</td>\n",
              "    </tr>\n",
              "  </tbody>\n",
              "</table>\n",
              "</div>\n",
              "      <button class=\"colab-df-convert\" onclick=\"convertToInteractive('df-51a7b59a-a9ad-4bdb-9214-0c81f0cec194')\"\n",
              "              title=\"Convert this dataframe to an interactive table.\"\n",
              "              style=\"display:none;\">\n",
              "        \n",
              "  <svg xmlns=\"http://www.w3.org/2000/svg\" height=\"24px\"viewBox=\"0 0 24 24\"\n",
              "       width=\"24px\">\n",
              "    <path d=\"M0 0h24v24H0V0z\" fill=\"none\"/>\n",
              "    <path d=\"M18.56 5.44l.94 2.06.94-2.06 2.06-.94-2.06-.94-.94-2.06-.94 2.06-2.06.94zm-11 1L8.5 8.5l.94-2.06 2.06-.94-2.06-.94L8.5 2.5l-.94 2.06-2.06.94zm10 10l.94 2.06.94-2.06 2.06-.94-2.06-.94-.94-2.06-.94 2.06-2.06.94z\"/><path d=\"M17.41 7.96l-1.37-1.37c-.4-.4-.92-.59-1.43-.59-.52 0-1.04.2-1.43.59L10.3 9.45l-7.72 7.72c-.78.78-.78 2.05 0 2.83L4 21.41c.39.39.9.59 1.41.59.51 0 1.02-.2 1.41-.59l7.78-7.78 2.81-2.81c.8-.78.8-2.07 0-2.86zM5.41 20L4 18.59l7.72-7.72 1.47 1.35L5.41 20z\"/>\n",
              "  </svg>\n",
              "      </button>\n",
              "      \n",
              "  <style>\n",
              "    .colab-df-container {\n",
              "      display:flex;\n",
              "      flex-wrap:wrap;\n",
              "      gap: 12px;\n",
              "    }\n",
              "\n",
              "    .colab-df-convert {\n",
              "      background-color: #E8F0FE;\n",
              "      border: none;\n",
              "      border-radius: 50%;\n",
              "      cursor: pointer;\n",
              "      display: none;\n",
              "      fill: #1967D2;\n",
              "      height: 32px;\n",
              "      padding: 0 0 0 0;\n",
              "      width: 32px;\n",
              "    }\n",
              "\n",
              "    .colab-df-convert:hover {\n",
              "      background-color: #E2EBFA;\n",
              "      box-shadow: 0px 1px 2px rgba(60, 64, 67, 0.3), 0px 1px 3px 1px rgba(60, 64, 67, 0.15);\n",
              "      fill: #174EA6;\n",
              "    }\n",
              "\n",
              "    [theme=dark] .colab-df-convert {\n",
              "      background-color: #3B4455;\n",
              "      fill: #D2E3FC;\n",
              "    }\n",
              "\n",
              "    [theme=dark] .colab-df-convert:hover {\n",
              "      background-color: #434B5C;\n",
              "      box-shadow: 0px 1px 3px 1px rgba(0, 0, 0, 0.15);\n",
              "      filter: drop-shadow(0px 1px 2px rgba(0, 0, 0, 0.3));\n",
              "      fill: #FFFFFF;\n",
              "    }\n",
              "  </style>\n",
              "\n",
              "      <script>\n",
              "        const buttonEl =\n",
              "          document.querySelector('#df-51a7b59a-a9ad-4bdb-9214-0c81f0cec194 button.colab-df-convert');\n",
              "        buttonEl.style.display =\n",
              "          google.colab.kernel.accessAllowed ? 'block' : 'none';\n",
              "\n",
              "        async function convertToInteractive(key) {\n",
              "          const element = document.querySelector('#df-51a7b59a-a9ad-4bdb-9214-0c81f0cec194');\n",
              "          const dataTable =\n",
              "            await google.colab.kernel.invokeFunction('convertToInteractive',\n",
              "                                                     [key], {});\n",
              "          if (!dataTable) return;\n",
              "\n",
              "          const docLinkHtml = 'Like what you see? Visit the ' +\n",
              "            '<a target=\"_blank\" href=https://colab.research.google.com/notebooks/data_table.ipynb>data table notebook</a>'\n",
              "            + ' to learn more about interactive tables.';\n",
              "          element.innerHTML = '';\n",
              "          dataTable['output_type'] = 'display_data';\n",
              "          await google.colab.output.renderOutput(dataTable, element);\n",
              "          const docLink = document.createElement('div');\n",
              "          docLink.innerHTML = docLinkHtml;\n",
              "          element.appendChild(docLink);\n",
              "        }\n",
              "      </script>\n",
              "    </div>\n",
              "  </div>\n",
              "  "
            ]
          },
          "metadata": {},
          "execution_count": 8
        }
      ]
    },
    {
      "cell_type": "code",
      "source": [
        "df.dtypes"
      ],
      "metadata": {
        "colab": {
          "base_uri": "https://localhost:8080/",
          "height": 0
        },
        "id": "7e2ywU23JRLe",
        "outputId": "004a98fb-2341-45a9-c3ee-dc28f344d5af"
      },
      "execution_count": 9,
      "outputs": [
        {
          "output_type": "execute_result",
          "data": {
            "text/plain": [
              "Date          object\n",
              "Open         float64\n",
              "High         float64\n",
              "Low          float64\n",
              "Close        float64\n",
              "Adj Close    float64\n",
              "Volume         int64\n",
              "dtype: object"
            ]
          },
          "metadata": {},
          "execution_count": 9
        }
      ]
    },
    {
      "cell_type": "markdown",
      "source": [
        "Выводы по данным: пропусков нет - в каждой колонке 15096 значений. 7 колонок: 6 показателей биржевой цены и 1 колонка объема торгов.\n",
        "Формат цены акций - с плавающей точкой, Объем торгов - целое (это ОК, достаточная точность), а вот формат даты Object потребуется преобразовать"
      ],
      "metadata": {
        "id": "CdOhENgb1fEN"
      }
    },
    {
      "cell_type": "code",
      "execution_count": 10,
      "metadata": {
        "outputId": "b9439962-4236-4bc1-b2fe-7342ca36e3d1",
        "colab": {
          "base_uri": "https://localhost:8080/",
          "height": 206
        },
        "id": "WIYvtUnDLiwR"
      },
      "outputs": [
        {
          "output_type": "execute_result",
          "data": {
            "text/plain": [
              "         Date      Open      High       Low     Close  Adj Close   Volume  \\\n",
              "0  1962-01-02  0.263021  0.270182  0.263021  0.263021   0.051133   806400   \n",
              "1  1962-01-03  0.259115  0.259115  0.253255  0.257161   0.049994  1574400   \n",
              "2  1962-01-04  0.257813  0.261068  0.257813  0.259115   0.050374   844800   \n",
              "3  1962-01-05  0.259115  0.262370  0.252604  0.253255   0.049234  1420800   \n",
              "4  1962-01-08  0.251302  0.251302  0.245768  0.250651   0.048728  2035200   \n",
              "\n",
              "    Date_adj  \n",
              "0 1962-01-02  \n",
              "1 1962-01-03  \n",
              "2 1962-01-04  \n",
              "3 1962-01-05  \n",
              "4 1962-01-08  "
            ],
            "text/html": [
              "\n",
              "  <div id=\"df-345d5e3d-c974-47ac-bd82-b98265fbf2df\">\n",
              "    <div class=\"colab-df-container\">\n",
              "      <div>\n",
              "<style scoped>\n",
              "    .dataframe tbody tr th:only-of-type {\n",
              "        vertical-align: middle;\n",
              "    }\n",
              "\n",
              "    .dataframe tbody tr th {\n",
              "        vertical-align: top;\n",
              "    }\n",
              "\n",
              "    .dataframe thead th {\n",
              "        text-align: right;\n",
              "    }\n",
              "</style>\n",
              "<table border=\"1\" class=\"dataframe\">\n",
              "  <thead>\n",
              "    <tr style=\"text-align: right;\">\n",
              "      <th></th>\n",
              "      <th>Date</th>\n",
              "      <th>Open</th>\n",
              "      <th>High</th>\n",
              "      <th>Low</th>\n",
              "      <th>Close</th>\n",
              "      <th>Adj Close</th>\n",
              "      <th>Volume</th>\n",
              "      <th>Date_adj</th>\n",
              "    </tr>\n",
              "  </thead>\n",
              "  <tbody>\n",
              "    <tr>\n",
              "      <th>0</th>\n",
              "      <td>1962-01-02</td>\n",
              "      <td>0.263021</td>\n",
              "      <td>0.270182</td>\n",
              "      <td>0.263021</td>\n",
              "      <td>0.263021</td>\n",
              "      <td>0.051133</td>\n",
              "      <td>806400</td>\n",
              "      <td>1962-01-02</td>\n",
              "    </tr>\n",
              "    <tr>\n",
              "      <th>1</th>\n",
              "      <td>1962-01-03</td>\n",
              "      <td>0.259115</td>\n",
              "      <td>0.259115</td>\n",
              "      <td>0.253255</td>\n",
              "      <td>0.257161</td>\n",
              "      <td>0.049994</td>\n",
              "      <td>1574400</td>\n",
              "      <td>1962-01-03</td>\n",
              "    </tr>\n",
              "    <tr>\n",
              "      <th>2</th>\n",
              "      <td>1962-01-04</td>\n",
              "      <td>0.257813</td>\n",
              "      <td>0.261068</td>\n",
              "      <td>0.257813</td>\n",
              "      <td>0.259115</td>\n",
              "      <td>0.050374</td>\n",
              "      <td>844800</td>\n",
              "      <td>1962-01-04</td>\n",
              "    </tr>\n",
              "    <tr>\n",
              "      <th>3</th>\n",
              "      <td>1962-01-05</td>\n",
              "      <td>0.259115</td>\n",
              "      <td>0.262370</td>\n",
              "      <td>0.252604</td>\n",
              "      <td>0.253255</td>\n",
              "      <td>0.049234</td>\n",
              "      <td>1420800</td>\n",
              "      <td>1962-01-05</td>\n",
              "    </tr>\n",
              "    <tr>\n",
              "      <th>4</th>\n",
              "      <td>1962-01-08</td>\n",
              "      <td>0.251302</td>\n",
              "      <td>0.251302</td>\n",
              "      <td>0.245768</td>\n",
              "      <td>0.250651</td>\n",
              "      <td>0.048728</td>\n",
              "      <td>2035200</td>\n",
              "      <td>1962-01-08</td>\n",
              "    </tr>\n",
              "  </tbody>\n",
              "</table>\n",
              "</div>\n",
              "      <button class=\"colab-df-convert\" onclick=\"convertToInteractive('df-345d5e3d-c974-47ac-bd82-b98265fbf2df')\"\n",
              "              title=\"Convert this dataframe to an interactive table.\"\n",
              "              style=\"display:none;\">\n",
              "        \n",
              "  <svg xmlns=\"http://www.w3.org/2000/svg\" height=\"24px\"viewBox=\"0 0 24 24\"\n",
              "       width=\"24px\">\n",
              "    <path d=\"M0 0h24v24H0V0z\" fill=\"none\"/>\n",
              "    <path d=\"M18.56 5.44l.94 2.06.94-2.06 2.06-.94-2.06-.94-.94-2.06-.94 2.06-2.06.94zm-11 1L8.5 8.5l.94-2.06 2.06-.94-2.06-.94L8.5 2.5l-.94 2.06-2.06.94zm10 10l.94 2.06.94-2.06 2.06-.94-2.06-.94-.94-2.06-.94 2.06-2.06.94z\"/><path d=\"M17.41 7.96l-1.37-1.37c-.4-.4-.92-.59-1.43-.59-.52 0-1.04.2-1.43.59L10.3 9.45l-7.72 7.72c-.78.78-.78 2.05 0 2.83L4 21.41c.39.39.9.59 1.41.59.51 0 1.02-.2 1.41-.59l7.78-7.78 2.81-2.81c.8-.78.8-2.07 0-2.86zM5.41 20L4 18.59l7.72-7.72 1.47 1.35L5.41 20z\"/>\n",
              "  </svg>\n",
              "      </button>\n",
              "      \n",
              "  <style>\n",
              "    .colab-df-container {\n",
              "      display:flex;\n",
              "      flex-wrap:wrap;\n",
              "      gap: 12px;\n",
              "    }\n",
              "\n",
              "    .colab-df-convert {\n",
              "      background-color: #E8F0FE;\n",
              "      border: none;\n",
              "      border-radius: 50%;\n",
              "      cursor: pointer;\n",
              "      display: none;\n",
              "      fill: #1967D2;\n",
              "      height: 32px;\n",
              "      padding: 0 0 0 0;\n",
              "      width: 32px;\n",
              "    }\n",
              "\n",
              "    .colab-df-convert:hover {\n",
              "      background-color: #E2EBFA;\n",
              "      box-shadow: 0px 1px 2px rgba(60, 64, 67, 0.3), 0px 1px 3px 1px rgba(60, 64, 67, 0.15);\n",
              "      fill: #174EA6;\n",
              "    }\n",
              "\n",
              "    [theme=dark] .colab-df-convert {\n",
              "      background-color: #3B4455;\n",
              "      fill: #D2E3FC;\n",
              "    }\n",
              "\n",
              "    [theme=dark] .colab-df-convert:hover {\n",
              "      background-color: #434B5C;\n",
              "      box-shadow: 0px 1px 3px 1px rgba(0, 0, 0, 0.15);\n",
              "      filter: drop-shadow(0px 1px 2px rgba(0, 0, 0, 0.3));\n",
              "      fill: #FFFFFF;\n",
              "    }\n",
              "  </style>\n",
              "\n",
              "      <script>\n",
              "        const buttonEl =\n",
              "          document.querySelector('#df-345d5e3d-c974-47ac-bd82-b98265fbf2df button.colab-df-convert');\n",
              "        buttonEl.style.display =\n",
              "          google.colab.kernel.accessAllowed ? 'block' : 'none';\n",
              "\n",
              "        async function convertToInteractive(key) {\n",
              "          const element = document.querySelector('#df-345d5e3d-c974-47ac-bd82-b98265fbf2df');\n",
              "          const dataTable =\n",
              "            await google.colab.kernel.invokeFunction('convertToInteractive',\n",
              "                                                     [key], {});\n",
              "          if (!dataTable) return;\n",
              "\n",
              "          const docLinkHtml = 'Like what you see? Visit the ' +\n",
              "            '<a target=\"_blank\" href=https://colab.research.google.com/notebooks/data_table.ipynb>data table notebook</a>'\n",
              "            + ' to learn more about interactive tables.';\n",
              "          element.innerHTML = '';\n",
              "          dataTable['output_type'] = 'display_data';\n",
              "          await google.colab.output.renderOutput(dataTable, element);\n",
              "          const docLink = document.createElement('div');\n",
              "          docLink.innerHTML = docLinkHtml;\n",
              "          element.appendChild(docLink);\n",
              "        }\n",
              "      </script>\n",
              "    </div>\n",
              "  </div>\n",
              "  "
            ]
          },
          "metadata": {},
          "execution_count": 10
        }
      ],
      "source": [
        "## Добавим новую колонку Date_adj в формате  datetime\n",
        "df['Date_adj'] = pd.to_datetime(df.Date)\n",
        "df.head()"
      ]
    },
    {
      "cell_type": "code",
      "source": [
        "df.dtypes\n",
        "## Проверяем формат новой колонки - все ОК"
      ],
      "metadata": {
        "colab": {
          "base_uri": "https://localhost:8080/",
          "height": 0
        },
        "id": "vtBPxlaBNGgx",
        "outputId": "c50e537d-5d28-48fe-ab18-2e3e22750d48"
      },
      "execution_count": 11,
      "outputs": [
        {
          "output_type": "execute_result",
          "data": {
            "text/plain": [
              "Date                 object\n",
              "Open                float64\n",
              "High                float64\n",
              "Low                 float64\n",
              "Close               float64\n",
              "Adj Close           float64\n",
              "Volume                int64\n",
              "Date_adj     datetime64[ns]\n",
              "dtype: object"
            ]
          },
          "metadata": {},
          "execution_count": 11
        }
      ]
    },
    {
      "cell_type": "markdown",
      "source": [
        "Теперь проблема - для создания временного ряда требуется проиндексировать dataframe по дате - а это не получилось. т.к. есть пропуски дат (выходные, когда нет торгов, праздники и прочее). Кроме того, нам не требуется чуствительность на уровне дней! мы хотим принять решение о среднесрочном инвестировании в производителя напитков. Т.е. Нам достаточно будет уровня значений в каждом месяце"
      ],
      "metadata": {
        "id": "5lGX4x2m245n"
      }
    },
    {
      "cell_type": "code",
      "source": [
        "## Преобразуем Дату Date_adj в колонки Год-Мес-день, потом создадим новую колонку только Год-Мес\n",
        "df['day'] = df['Date_adj'].dt.day\n",
        "df['month'] = df['Date_adj'].dt.month\n",
        "df['year'] = df['Date_adj'].dt.year\n",
        "df['Mth_date']=pd.to_datetime(dict(year=df['year'], month=df['month'], day=1))\n",
        "df.head()\n",
        "## Проверим"
      ],
      "metadata": {
        "colab": {
          "base_uri": "https://localhost:8080/",
          "height": 206
        },
        "id": "HsBeJVZMYe4f",
        "outputId": "f22e137c-9ff8-4703-9f1f-2dc1bb44f805"
      },
      "execution_count": 16,
      "outputs": [
        {
          "output_type": "execute_result",
          "data": {
            "text/plain": [
              "         Date      Open      High       Low     Close  Adj Close   Volume  \\\n",
              "0  1962-01-02  0.263021  0.270182  0.263021  0.263021   0.051133   806400   \n",
              "1  1962-01-03  0.259115  0.259115  0.253255  0.257161   0.049994  1574400   \n",
              "2  1962-01-04  0.257813  0.261068  0.257813  0.259115   0.050374   844800   \n",
              "3  1962-01-05  0.259115  0.262370  0.252604  0.253255   0.049234  1420800   \n",
              "4  1962-01-08  0.251302  0.251302  0.245768  0.250651   0.048728  2035200   \n",
              "\n",
              "    Date_adj  day  month  year   Mth_date  \n",
              "0 1962-01-02    2      1  1962 1962-01-01  \n",
              "1 1962-01-03    3      1  1962 1962-01-01  \n",
              "2 1962-01-04    4      1  1962 1962-01-01  \n",
              "3 1962-01-05    5      1  1962 1962-01-01  \n",
              "4 1962-01-08    8      1  1962 1962-01-01  "
            ],
            "text/html": [
              "\n",
              "  <div id=\"df-65d56fd4-074a-43b1-99db-dde764ad5bb4\">\n",
              "    <div class=\"colab-df-container\">\n",
              "      <div>\n",
              "<style scoped>\n",
              "    .dataframe tbody tr th:only-of-type {\n",
              "        vertical-align: middle;\n",
              "    }\n",
              "\n",
              "    .dataframe tbody tr th {\n",
              "        vertical-align: top;\n",
              "    }\n",
              "\n",
              "    .dataframe thead th {\n",
              "        text-align: right;\n",
              "    }\n",
              "</style>\n",
              "<table border=\"1\" class=\"dataframe\">\n",
              "  <thead>\n",
              "    <tr style=\"text-align: right;\">\n",
              "      <th></th>\n",
              "      <th>Date</th>\n",
              "      <th>Open</th>\n",
              "      <th>High</th>\n",
              "      <th>Low</th>\n",
              "      <th>Close</th>\n",
              "      <th>Adj Close</th>\n",
              "      <th>Volume</th>\n",
              "      <th>Date_adj</th>\n",
              "      <th>day</th>\n",
              "      <th>month</th>\n",
              "      <th>year</th>\n",
              "      <th>Mth_date</th>\n",
              "    </tr>\n",
              "  </thead>\n",
              "  <tbody>\n",
              "    <tr>\n",
              "      <th>0</th>\n",
              "      <td>1962-01-02</td>\n",
              "      <td>0.263021</td>\n",
              "      <td>0.270182</td>\n",
              "      <td>0.263021</td>\n",
              "      <td>0.263021</td>\n",
              "      <td>0.051133</td>\n",
              "      <td>806400</td>\n",
              "      <td>1962-01-02</td>\n",
              "      <td>2</td>\n",
              "      <td>1</td>\n",
              "      <td>1962</td>\n",
              "      <td>1962-01-01</td>\n",
              "    </tr>\n",
              "    <tr>\n",
              "      <th>1</th>\n",
              "      <td>1962-01-03</td>\n",
              "      <td>0.259115</td>\n",
              "      <td>0.259115</td>\n",
              "      <td>0.253255</td>\n",
              "      <td>0.257161</td>\n",
              "      <td>0.049994</td>\n",
              "      <td>1574400</td>\n",
              "      <td>1962-01-03</td>\n",
              "      <td>3</td>\n",
              "      <td>1</td>\n",
              "      <td>1962</td>\n",
              "      <td>1962-01-01</td>\n",
              "    </tr>\n",
              "    <tr>\n",
              "      <th>2</th>\n",
              "      <td>1962-01-04</td>\n",
              "      <td>0.257813</td>\n",
              "      <td>0.261068</td>\n",
              "      <td>0.257813</td>\n",
              "      <td>0.259115</td>\n",
              "      <td>0.050374</td>\n",
              "      <td>844800</td>\n",
              "      <td>1962-01-04</td>\n",
              "      <td>4</td>\n",
              "      <td>1</td>\n",
              "      <td>1962</td>\n",
              "      <td>1962-01-01</td>\n",
              "    </tr>\n",
              "    <tr>\n",
              "      <th>3</th>\n",
              "      <td>1962-01-05</td>\n",
              "      <td>0.259115</td>\n",
              "      <td>0.262370</td>\n",
              "      <td>0.252604</td>\n",
              "      <td>0.253255</td>\n",
              "      <td>0.049234</td>\n",
              "      <td>1420800</td>\n",
              "      <td>1962-01-05</td>\n",
              "      <td>5</td>\n",
              "      <td>1</td>\n",
              "      <td>1962</td>\n",
              "      <td>1962-01-01</td>\n",
              "    </tr>\n",
              "    <tr>\n",
              "      <th>4</th>\n",
              "      <td>1962-01-08</td>\n",
              "      <td>0.251302</td>\n",
              "      <td>0.251302</td>\n",
              "      <td>0.245768</td>\n",
              "      <td>0.250651</td>\n",
              "      <td>0.048728</td>\n",
              "      <td>2035200</td>\n",
              "      <td>1962-01-08</td>\n",
              "      <td>8</td>\n",
              "      <td>1</td>\n",
              "      <td>1962</td>\n",
              "      <td>1962-01-01</td>\n",
              "    </tr>\n",
              "  </tbody>\n",
              "</table>\n",
              "</div>\n",
              "      <button class=\"colab-df-convert\" onclick=\"convertToInteractive('df-65d56fd4-074a-43b1-99db-dde764ad5bb4')\"\n",
              "              title=\"Convert this dataframe to an interactive table.\"\n",
              "              style=\"display:none;\">\n",
              "        \n",
              "  <svg xmlns=\"http://www.w3.org/2000/svg\" height=\"24px\"viewBox=\"0 0 24 24\"\n",
              "       width=\"24px\">\n",
              "    <path d=\"M0 0h24v24H0V0z\" fill=\"none\"/>\n",
              "    <path d=\"M18.56 5.44l.94 2.06.94-2.06 2.06-.94-2.06-.94-.94-2.06-.94 2.06-2.06.94zm-11 1L8.5 8.5l.94-2.06 2.06-.94-2.06-.94L8.5 2.5l-.94 2.06-2.06.94zm10 10l.94 2.06.94-2.06 2.06-.94-2.06-.94-.94-2.06-.94 2.06-2.06.94z\"/><path d=\"M17.41 7.96l-1.37-1.37c-.4-.4-.92-.59-1.43-.59-.52 0-1.04.2-1.43.59L10.3 9.45l-7.72 7.72c-.78.78-.78 2.05 0 2.83L4 21.41c.39.39.9.59 1.41.59.51 0 1.02-.2 1.41-.59l7.78-7.78 2.81-2.81c.8-.78.8-2.07 0-2.86zM5.41 20L4 18.59l7.72-7.72 1.47 1.35L5.41 20z\"/>\n",
              "  </svg>\n",
              "      </button>\n",
              "      \n",
              "  <style>\n",
              "    .colab-df-container {\n",
              "      display:flex;\n",
              "      flex-wrap:wrap;\n",
              "      gap: 12px;\n",
              "    }\n",
              "\n",
              "    .colab-df-convert {\n",
              "      background-color: #E8F0FE;\n",
              "      border: none;\n",
              "      border-radius: 50%;\n",
              "      cursor: pointer;\n",
              "      display: none;\n",
              "      fill: #1967D2;\n",
              "      height: 32px;\n",
              "      padding: 0 0 0 0;\n",
              "      width: 32px;\n",
              "    }\n",
              "\n",
              "    .colab-df-convert:hover {\n",
              "      background-color: #E2EBFA;\n",
              "      box-shadow: 0px 1px 2px rgba(60, 64, 67, 0.3), 0px 1px 3px 1px rgba(60, 64, 67, 0.15);\n",
              "      fill: #174EA6;\n",
              "    }\n",
              "\n",
              "    [theme=dark] .colab-df-convert {\n",
              "      background-color: #3B4455;\n",
              "      fill: #D2E3FC;\n",
              "    }\n",
              "\n",
              "    [theme=dark] .colab-df-convert:hover {\n",
              "      background-color: #434B5C;\n",
              "      box-shadow: 0px 1px 3px 1px rgba(0, 0, 0, 0.15);\n",
              "      filter: drop-shadow(0px 1px 2px rgba(0, 0, 0, 0.3));\n",
              "      fill: #FFFFFF;\n",
              "    }\n",
              "  </style>\n",
              "\n",
              "      <script>\n",
              "        const buttonEl =\n",
              "          document.querySelector('#df-65d56fd4-074a-43b1-99db-dde764ad5bb4 button.colab-df-convert');\n",
              "        buttonEl.style.display =\n",
              "          google.colab.kernel.accessAllowed ? 'block' : 'none';\n",
              "\n",
              "        async function convertToInteractive(key) {\n",
              "          const element = document.querySelector('#df-65d56fd4-074a-43b1-99db-dde764ad5bb4');\n",
              "          const dataTable =\n",
              "            await google.colab.kernel.invokeFunction('convertToInteractive',\n",
              "                                                     [key], {});\n",
              "          if (!dataTable) return;\n",
              "\n",
              "          const docLinkHtml = 'Like what you see? Visit the ' +\n",
              "            '<a target=\"_blank\" href=https://colab.research.google.com/notebooks/data_table.ipynb>data table notebook</a>'\n",
              "            + ' to learn more about interactive tables.';\n",
              "          element.innerHTML = '';\n",
              "          dataTable['output_type'] = 'display_data';\n",
              "          await google.colab.output.renderOutput(dataTable, element);\n",
              "          const docLink = document.createElement('div');\n",
              "          docLink.innerHTML = docLinkHtml;\n",
              "          element.appendChild(docLink);\n",
              "        }\n",
              "      </script>\n",
              "    </div>\n",
              "  </div>\n",
              "  "
            ]
          },
          "metadata": {},
          "execution_count": 16
        }
      ]
    },
    {
      "cell_type": "markdown",
      "source": [
        "Теперь создадим промежуточный dataframe состоящий из агрегат значений по каждому месяцу. В гачестве функции выберем Max "
      ],
      "metadata": {
        "id": "yBnLR4PL3qCG"
      }
    },
    {
      "cell_type": "code",
      "execution_count": 17,
      "metadata": {
        "scrolled": true,
        "id": "1f04462b",
        "outputId": "df86f236-c76e-4cd7-ada4-d98ba604fb7c",
        "colab": {
          "base_uri": "https://localhost:8080/",
          "height": 237
        }
      },
      "outputs": [
        {
          "output_type": "execute_result",
          "data": {
            "text/plain": [
              "                  Date      Open      High       Low     Close  Adj Close  \\\n",
              "Mth_date                                                                    \n",
              "1962-01-01  1962-01-31  0.263021  0.270182  0.263021  0.263021   0.051133   \n",
              "1962-02-01  1962-02-28  0.247396  0.248698  0.245443  0.247396   0.048095   \n",
              "1962-03-01  1962-03-30  0.257813  0.259766  0.255208  0.257813   0.050446   \n",
              "1962-04-01  1962-04-30  0.251953  0.253906  0.250651  0.252604   0.049427   \n",
              "1962-05-01  1962-05-31  0.250000  0.250977  0.248047  0.250000   0.048917   \n",
              "\n",
              "              Volume   Date_adj  day  month  year  \n",
              "Mth_date                                           \n",
              "1962-01-01   2649600 1962-01-31   31      1  1962  \n",
              "1962-02-01   1420800 1962-02-28   28      2  1962  \n",
              "1962-03-01  19545600 1962-03-30   30      3  1962  \n",
              "1962-04-01   2227200 1962-04-30   30      4  1962  \n",
              "1962-05-01   7411200 1962-05-31   31      5  1962  "
            ],
            "text/html": [
              "\n",
              "  <div id=\"df-abbb904b-433c-48c7-9612-1556e8792517\">\n",
              "    <div class=\"colab-df-container\">\n",
              "      <div>\n",
              "<style scoped>\n",
              "    .dataframe tbody tr th:only-of-type {\n",
              "        vertical-align: middle;\n",
              "    }\n",
              "\n",
              "    .dataframe tbody tr th {\n",
              "        vertical-align: top;\n",
              "    }\n",
              "\n",
              "    .dataframe thead th {\n",
              "        text-align: right;\n",
              "    }\n",
              "</style>\n",
              "<table border=\"1\" class=\"dataframe\">\n",
              "  <thead>\n",
              "    <tr style=\"text-align: right;\">\n",
              "      <th></th>\n",
              "      <th>Date</th>\n",
              "      <th>Open</th>\n",
              "      <th>High</th>\n",
              "      <th>Low</th>\n",
              "      <th>Close</th>\n",
              "      <th>Adj Close</th>\n",
              "      <th>Volume</th>\n",
              "      <th>Date_adj</th>\n",
              "      <th>day</th>\n",
              "      <th>month</th>\n",
              "      <th>year</th>\n",
              "    </tr>\n",
              "    <tr>\n",
              "      <th>Mth_date</th>\n",
              "      <th></th>\n",
              "      <th></th>\n",
              "      <th></th>\n",
              "      <th></th>\n",
              "      <th></th>\n",
              "      <th></th>\n",
              "      <th></th>\n",
              "      <th></th>\n",
              "      <th></th>\n",
              "      <th></th>\n",
              "      <th></th>\n",
              "    </tr>\n",
              "  </thead>\n",
              "  <tbody>\n",
              "    <tr>\n",
              "      <th>1962-01-01</th>\n",
              "      <td>1962-01-31</td>\n",
              "      <td>0.263021</td>\n",
              "      <td>0.270182</td>\n",
              "      <td>0.263021</td>\n",
              "      <td>0.263021</td>\n",
              "      <td>0.051133</td>\n",
              "      <td>2649600</td>\n",
              "      <td>1962-01-31</td>\n",
              "      <td>31</td>\n",
              "      <td>1</td>\n",
              "      <td>1962</td>\n",
              "    </tr>\n",
              "    <tr>\n",
              "      <th>1962-02-01</th>\n",
              "      <td>1962-02-28</td>\n",
              "      <td>0.247396</td>\n",
              "      <td>0.248698</td>\n",
              "      <td>0.245443</td>\n",
              "      <td>0.247396</td>\n",
              "      <td>0.048095</td>\n",
              "      <td>1420800</td>\n",
              "      <td>1962-02-28</td>\n",
              "      <td>28</td>\n",
              "      <td>2</td>\n",
              "      <td>1962</td>\n",
              "    </tr>\n",
              "    <tr>\n",
              "      <th>1962-03-01</th>\n",
              "      <td>1962-03-30</td>\n",
              "      <td>0.257813</td>\n",
              "      <td>0.259766</td>\n",
              "      <td>0.255208</td>\n",
              "      <td>0.257813</td>\n",
              "      <td>0.050446</td>\n",
              "      <td>19545600</td>\n",
              "      <td>1962-03-30</td>\n",
              "      <td>30</td>\n",
              "      <td>3</td>\n",
              "      <td>1962</td>\n",
              "    </tr>\n",
              "    <tr>\n",
              "      <th>1962-04-01</th>\n",
              "      <td>1962-04-30</td>\n",
              "      <td>0.251953</td>\n",
              "      <td>0.253906</td>\n",
              "      <td>0.250651</td>\n",
              "      <td>0.252604</td>\n",
              "      <td>0.049427</td>\n",
              "      <td>2227200</td>\n",
              "      <td>1962-04-30</td>\n",
              "      <td>30</td>\n",
              "      <td>4</td>\n",
              "      <td>1962</td>\n",
              "    </tr>\n",
              "    <tr>\n",
              "      <th>1962-05-01</th>\n",
              "      <td>1962-05-31</td>\n",
              "      <td>0.250000</td>\n",
              "      <td>0.250977</td>\n",
              "      <td>0.248047</td>\n",
              "      <td>0.250000</td>\n",
              "      <td>0.048917</td>\n",
              "      <td>7411200</td>\n",
              "      <td>1962-05-31</td>\n",
              "      <td>31</td>\n",
              "      <td>5</td>\n",
              "      <td>1962</td>\n",
              "    </tr>\n",
              "  </tbody>\n",
              "</table>\n",
              "</div>\n",
              "      <button class=\"colab-df-convert\" onclick=\"convertToInteractive('df-abbb904b-433c-48c7-9612-1556e8792517')\"\n",
              "              title=\"Convert this dataframe to an interactive table.\"\n",
              "              style=\"display:none;\">\n",
              "        \n",
              "  <svg xmlns=\"http://www.w3.org/2000/svg\" height=\"24px\"viewBox=\"0 0 24 24\"\n",
              "       width=\"24px\">\n",
              "    <path d=\"M0 0h24v24H0V0z\" fill=\"none\"/>\n",
              "    <path d=\"M18.56 5.44l.94 2.06.94-2.06 2.06-.94-2.06-.94-.94-2.06-.94 2.06-2.06.94zm-11 1L8.5 8.5l.94-2.06 2.06-.94-2.06-.94L8.5 2.5l-.94 2.06-2.06.94zm10 10l.94 2.06.94-2.06 2.06-.94-2.06-.94-.94-2.06-.94 2.06-2.06.94z\"/><path d=\"M17.41 7.96l-1.37-1.37c-.4-.4-.92-.59-1.43-.59-.52 0-1.04.2-1.43.59L10.3 9.45l-7.72 7.72c-.78.78-.78 2.05 0 2.83L4 21.41c.39.39.9.59 1.41.59.51 0 1.02-.2 1.41-.59l7.78-7.78 2.81-2.81c.8-.78.8-2.07 0-2.86zM5.41 20L4 18.59l7.72-7.72 1.47 1.35L5.41 20z\"/>\n",
              "  </svg>\n",
              "      </button>\n",
              "      \n",
              "  <style>\n",
              "    .colab-df-container {\n",
              "      display:flex;\n",
              "      flex-wrap:wrap;\n",
              "      gap: 12px;\n",
              "    }\n",
              "\n",
              "    .colab-df-convert {\n",
              "      background-color: #E8F0FE;\n",
              "      border: none;\n",
              "      border-radius: 50%;\n",
              "      cursor: pointer;\n",
              "      display: none;\n",
              "      fill: #1967D2;\n",
              "      height: 32px;\n",
              "      padding: 0 0 0 0;\n",
              "      width: 32px;\n",
              "    }\n",
              "\n",
              "    .colab-df-convert:hover {\n",
              "      background-color: #E2EBFA;\n",
              "      box-shadow: 0px 1px 2px rgba(60, 64, 67, 0.3), 0px 1px 3px 1px rgba(60, 64, 67, 0.15);\n",
              "      fill: #174EA6;\n",
              "    }\n",
              "\n",
              "    [theme=dark] .colab-df-convert {\n",
              "      background-color: #3B4455;\n",
              "      fill: #D2E3FC;\n",
              "    }\n",
              "\n",
              "    [theme=dark] .colab-df-convert:hover {\n",
              "      background-color: #434B5C;\n",
              "      box-shadow: 0px 1px 3px 1px rgba(0, 0, 0, 0.15);\n",
              "      filter: drop-shadow(0px 1px 2px rgba(0, 0, 0, 0.3));\n",
              "      fill: #FFFFFF;\n",
              "    }\n",
              "  </style>\n",
              "\n",
              "      <script>\n",
              "        const buttonEl =\n",
              "          document.querySelector('#df-abbb904b-433c-48c7-9612-1556e8792517 button.colab-df-convert');\n",
              "        buttonEl.style.display =\n",
              "          google.colab.kernel.accessAllowed ? 'block' : 'none';\n",
              "\n",
              "        async function convertToInteractive(key) {\n",
              "          const element = document.querySelector('#df-abbb904b-433c-48c7-9612-1556e8792517');\n",
              "          const dataTable =\n",
              "            await google.colab.kernel.invokeFunction('convertToInteractive',\n",
              "                                                     [key], {});\n",
              "          if (!dataTable) return;\n",
              "\n",
              "          const docLinkHtml = 'Like what you see? Visit the ' +\n",
              "            '<a target=\"_blank\" href=https://colab.research.google.com/notebooks/data_table.ipynb>data table notebook</a>'\n",
              "            + ' to learn more about interactive tables.';\n",
              "          element.innerHTML = '';\n",
              "          dataTable['output_type'] = 'display_data';\n",
              "          await google.colab.output.renderOutput(dataTable, element);\n",
              "          const docLink = document.createElement('div');\n",
              "          docLink.innerHTML = docLinkHtml;\n",
              "          element.appendChild(docLink);\n",
              "        }\n",
              "      </script>\n",
              "    </div>\n",
              "  </div>\n",
              "  "
            ]
          },
          "metadata": {},
          "execution_count": 17
        }
      ],
      "source": [
        "df2=df.groupby(by=['Mth_date']).max()\n",
        "df2.head()\n",
        "## Месяцы по которым агрегировали значения в формате datetime в новом dataframe df2 \n",
        "##стали индексной колонкой. Есть уверенность что пропусков месяцев нет, но проверим"
      ]
    },
    {
      "cell_type": "markdown",
      "source": [
        "Уберем лишнюю информацию - оставим только показатели стоимости акций - это будет еще одним промежуточным dataframe df3"
      ],
      "metadata": {
        "id": "RYVLAEQa4j2v"
      }
    },
    {
      "cell_type": "code",
      "source": [
        "df3 = df2.drop(['Date','Adj Close','Date_adj','day','month','year'],1)\n",
        "df3.head()"
      ],
      "metadata": {
        "colab": {
          "base_uri": "https://localhost:8080/",
          "height": 237
        },
        "id": "kIxMsNYFc-TP",
        "outputId": "a75bd1a2-4ed5-4a4b-b6be-b4df84ec70b1"
      },
      "execution_count": 20,
      "outputs": [
        {
          "output_type": "execute_result",
          "data": {
            "text/plain": [
              "                Open      High       Low     Close    Volume\n",
              "Mth_date                                                    \n",
              "1962-01-01  0.263021  0.270182  0.263021  0.263021   2649600\n",
              "1962-02-01  0.247396  0.248698  0.245443  0.247396   1420800\n",
              "1962-03-01  0.257813  0.259766  0.255208  0.257813  19545600\n",
              "1962-04-01  0.251953  0.253906  0.250651  0.252604   2227200\n",
              "1962-05-01  0.250000  0.250977  0.248047  0.250000   7411200"
            ],
            "text/html": [
              "\n",
              "  <div id=\"df-d0f0a8fe-5f69-4ece-9658-f21af9fcb90b\">\n",
              "    <div class=\"colab-df-container\">\n",
              "      <div>\n",
              "<style scoped>\n",
              "    .dataframe tbody tr th:only-of-type {\n",
              "        vertical-align: middle;\n",
              "    }\n",
              "\n",
              "    .dataframe tbody tr th {\n",
              "        vertical-align: top;\n",
              "    }\n",
              "\n",
              "    .dataframe thead th {\n",
              "        text-align: right;\n",
              "    }\n",
              "</style>\n",
              "<table border=\"1\" class=\"dataframe\">\n",
              "  <thead>\n",
              "    <tr style=\"text-align: right;\">\n",
              "      <th></th>\n",
              "      <th>Open</th>\n",
              "      <th>High</th>\n",
              "      <th>Low</th>\n",
              "      <th>Close</th>\n",
              "      <th>Volume</th>\n",
              "    </tr>\n",
              "    <tr>\n",
              "      <th>Mth_date</th>\n",
              "      <th></th>\n",
              "      <th></th>\n",
              "      <th></th>\n",
              "      <th></th>\n",
              "      <th></th>\n",
              "    </tr>\n",
              "  </thead>\n",
              "  <tbody>\n",
              "    <tr>\n",
              "      <th>1962-01-01</th>\n",
              "      <td>0.263021</td>\n",
              "      <td>0.270182</td>\n",
              "      <td>0.263021</td>\n",
              "      <td>0.263021</td>\n",
              "      <td>2649600</td>\n",
              "    </tr>\n",
              "    <tr>\n",
              "      <th>1962-02-01</th>\n",
              "      <td>0.247396</td>\n",
              "      <td>0.248698</td>\n",
              "      <td>0.245443</td>\n",
              "      <td>0.247396</td>\n",
              "      <td>1420800</td>\n",
              "    </tr>\n",
              "    <tr>\n",
              "      <th>1962-03-01</th>\n",
              "      <td>0.257813</td>\n",
              "      <td>0.259766</td>\n",
              "      <td>0.255208</td>\n",
              "      <td>0.257813</td>\n",
              "      <td>19545600</td>\n",
              "    </tr>\n",
              "    <tr>\n",
              "      <th>1962-04-01</th>\n",
              "      <td>0.251953</td>\n",
              "      <td>0.253906</td>\n",
              "      <td>0.250651</td>\n",
              "      <td>0.252604</td>\n",
              "      <td>2227200</td>\n",
              "    </tr>\n",
              "    <tr>\n",
              "      <th>1962-05-01</th>\n",
              "      <td>0.250000</td>\n",
              "      <td>0.250977</td>\n",
              "      <td>0.248047</td>\n",
              "      <td>0.250000</td>\n",
              "      <td>7411200</td>\n",
              "    </tr>\n",
              "  </tbody>\n",
              "</table>\n",
              "</div>\n",
              "      <button class=\"colab-df-convert\" onclick=\"convertToInteractive('df-d0f0a8fe-5f69-4ece-9658-f21af9fcb90b')\"\n",
              "              title=\"Convert this dataframe to an interactive table.\"\n",
              "              style=\"display:none;\">\n",
              "        \n",
              "  <svg xmlns=\"http://www.w3.org/2000/svg\" height=\"24px\"viewBox=\"0 0 24 24\"\n",
              "       width=\"24px\">\n",
              "    <path d=\"M0 0h24v24H0V0z\" fill=\"none\"/>\n",
              "    <path d=\"M18.56 5.44l.94 2.06.94-2.06 2.06-.94-2.06-.94-.94-2.06-.94 2.06-2.06.94zm-11 1L8.5 8.5l.94-2.06 2.06-.94-2.06-.94L8.5 2.5l-.94 2.06-2.06.94zm10 10l.94 2.06.94-2.06 2.06-.94-2.06-.94-.94-2.06-.94 2.06-2.06.94z\"/><path d=\"M17.41 7.96l-1.37-1.37c-.4-.4-.92-.59-1.43-.59-.52 0-1.04.2-1.43.59L10.3 9.45l-7.72 7.72c-.78.78-.78 2.05 0 2.83L4 21.41c.39.39.9.59 1.41.59.51 0 1.02-.2 1.41-.59l7.78-7.78 2.81-2.81c.8-.78.8-2.07 0-2.86zM5.41 20L4 18.59l7.72-7.72 1.47 1.35L5.41 20z\"/>\n",
              "  </svg>\n",
              "      </button>\n",
              "      \n",
              "  <style>\n",
              "    .colab-df-container {\n",
              "      display:flex;\n",
              "      flex-wrap:wrap;\n",
              "      gap: 12px;\n",
              "    }\n",
              "\n",
              "    .colab-df-convert {\n",
              "      background-color: #E8F0FE;\n",
              "      border: none;\n",
              "      border-radius: 50%;\n",
              "      cursor: pointer;\n",
              "      display: none;\n",
              "      fill: #1967D2;\n",
              "      height: 32px;\n",
              "      padding: 0 0 0 0;\n",
              "      width: 32px;\n",
              "    }\n",
              "\n",
              "    .colab-df-convert:hover {\n",
              "      background-color: #E2EBFA;\n",
              "      box-shadow: 0px 1px 2px rgba(60, 64, 67, 0.3), 0px 1px 3px 1px rgba(60, 64, 67, 0.15);\n",
              "      fill: #174EA6;\n",
              "    }\n",
              "\n",
              "    [theme=dark] .colab-df-convert {\n",
              "      background-color: #3B4455;\n",
              "      fill: #D2E3FC;\n",
              "    }\n",
              "\n",
              "    [theme=dark] .colab-df-convert:hover {\n",
              "      background-color: #434B5C;\n",
              "      box-shadow: 0px 1px 3px 1px rgba(0, 0, 0, 0.15);\n",
              "      filter: drop-shadow(0px 1px 2px rgba(0, 0, 0, 0.3));\n",
              "      fill: #FFFFFF;\n",
              "    }\n",
              "  </style>\n",
              "\n",
              "      <script>\n",
              "        const buttonEl =\n",
              "          document.querySelector('#df-d0f0a8fe-5f69-4ece-9658-f21af9fcb90b button.colab-df-convert');\n",
              "        buttonEl.style.display =\n",
              "          google.colab.kernel.accessAllowed ? 'block' : 'none';\n",
              "\n",
              "        async function convertToInteractive(key) {\n",
              "          const element = document.querySelector('#df-d0f0a8fe-5f69-4ece-9658-f21af9fcb90b');\n",
              "          const dataTable =\n",
              "            await google.colab.kernel.invokeFunction('convertToInteractive',\n",
              "                                                     [key], {});\n",
              "          if (!dataTable) return;\n",
              "\n",
              "          const docLinkHtml = 'Like what you see? Visit the ' +\n",
              "            '<a target=\"_blank\" href=https://colab.research.google.com/notebooks/data_table.ipynb>data table notebook</a>'\n",
              "            + ' to learn more about interactive tables.';\n",
              "          element.innerHTML = '';\n",
              "          dataTable['output_type'] = 'display_data';\n",
              "          await google.colab.output.renderOutput(dataTable, element);\n",
              "          const docLink = document.createElement('div');\n",
              "          docLink.innerHTML = docLinkHtml;\n",
              "          element.appendChild(docLink);\n",
              "        }\n",
              "      </script>\n",
              "    </div>\n",
              "  </div>\n",
              "  "
            ]
          },
          "metadata": {},
          "execution_count": 20
        }
      ]
    },
    {
      "cell_type": "code",
      "source": [
        "df3.info()"
      ],
      "metadata": {
        "colab": {
          "base_uri": "https://localhost:8080/",
          "height": 0
        },
        "id": "5DhnYByAfCXm",
        "outputId": "933a9710-92bc-49cc-bcd1-37084b116a12"
      },
      "execution_count": 22,
      "outputs": [
        {
          "output_type": "stream",
          "name": "stdout",
          "text": [
            "<class 'pandas.core.frame.DataFrame'>\n",
            "DatetimeIndex: 720 entries, 1962-01-01 to 2021-12-01\n",
            "Data columns (total 5 columns):\n",
            " #   Column  Non-Null Count  Dtype  \n",
            "---  ------  --------------  -----  \n",
            " 0   Open    720 non-null    float64\n",
            " 1   High    720 non-null    float64\n",
            " 2   Low     720 non-null    float64\n",
            " 3   Close   720 non-null    float64\n",
            " 4   Volume  720 non-null    int64  \n",
            "dtypes: float64(4), int64(1)\n",
            "memory usage: 33.8 KB\n"
          ]
        }
      ]
    },
    {
      "cell_type": "markdown",
      "source": [
        "### Построим график dataframe df3"
      ],
      "metadata": {
        "id": "KoZDZDqWi6Bv"
      }
    },
    {
      "cell_type": "code",
      "source": [
        "title = 'Month_Max_Close '\n",
        "ylabel='USD'\n",
        "xlabel='date' \n",
        "\n",
        "ax = df3['Close'].plot(figsize=(12,6),title=title)\n",
        "ax.autoscale(axis='x',tight=True)\n",
        "ax.set(xlabel=xlabel, ylabel=ylabel);"
      ],
      "metadata": {
        "colab": {
          "base_uri": "https://localhost:8080/",
          "height": 404
        },
        "id": "aJ1DstdQhd5W",
        "outputId": "e383beff-1b19-4a5f-e2e4-218c5c9279eb"
      },
      "execution_count": 26,
      "outputs": [
        {
          "output_type": "display_data",
          "data": {
            "text/plain": [
              "<Figure size 864x432 with 1 Axes>"
            ],
            "image/png": "[encoded data removed]"
          },
          "metadata": {
            "needs_background": "light"
          }
        }
      ]
    },
    {
      "cell_type": "markdown",
      "source": [
        "Очевидно, что этот набор данных \"от царя гороха\" не требуется в таком объеме. для анализа тренда оставим только данные за последние 10 лет. Это и будет финальный dataframe для последующего прогнозирования"
      ],
      "metadata": {
        "id": "NCocL2L85arc"
      }
    },
    {
      "cell_type": "code",
      "source": [
        "df_final=df3.tail(120)\n",
        "df_final.head()"
      ],
      "metadata": {
        "colab": {
          "base_uri": "https://localhost:8080/",
          "height": 237
        },
        "id": "wRVxO3PKlzNl",
        "outputId": "c097fb12-d469-452d-f58a-64941f49f371"
      },
      "execution_count": 38,
      "outputs": [
        {
          "output_type": "execute_result",
          "data": {
            "text/plain": [
              "                 Open       High        Low      Close    Volume\n",
              "Mth_date                                                        \n",
              "2012-01-01  35.075001  35.355000  35.049999  35.070000  23428800\n",
              "2012-02-01  34.674999  34.990002  34.459999  34.930000  24269600\n",
              "2012-03-01  36.810001  37.195000  36.654999  37.005001  41063600\n",
              "2012-04-01  38.209999  38.910000  37.965000  38.314999  26517600\n",
              "2012-05-01  38.680000  38.869999  38.599998  38.735001  31913000"
            ],
            "text/html": [
              "\n",
              "  <div id=\"df-13c026d8-4a91-4b35-a3dd-23b2ba95da8b\">\n",
              "    <div class=\"colab-df-container\">\n",
              "      <div>\n",
              "<style scoped>\n",
              "    .dataframe tbody tr th:only-of-type {\n",
              "        vertical-align: middle;\n",
              "    }\n",
              "\n",
              "    .dataframe tbody tr th {\n",
              "        vertical-align: top;\n",
              "    }\n",
              "\n",
              "    .dataframe thead th {\n",
              "        text-align: right;\n",
              "    }\n",
              "</style>\n",
              "<table border=\"1\" class=\"dataframe\">\n",
              "  <thead>\n",
              "    <tr style=\"text-align: right;\">\n",
              "      <th></th>\n",
              "      <th>Open</th>\n",
              "      <th>High</th>\n",
              "      <th>Low</th>\n",
              "      <th>Close</th>\n",
              "      <th>Volume</th>\n",
              "    </tr>\n",
              "    <tr>\n",
              "      <th>Mth_date</th>\n",
              "      <th></th>\n",
              "      <th></th>\n",
              "      <th></th>\n",
              "      <th></th>\n",
              "      <th></th>\n",
              "    </tr>\n",
              "  </thead>\n",
              "  <tbody>\n",
              "    <tr>\n",
              "      <th>2012-01-01</th>\n",
              "      <td>35.075001</td>\n",
              "      <td>35.355000</td>\n",
              "      <td>35.049999</td>\n",
              "      <td>35.070000</td>\n",
              "      <td>23428800</td>\n",
              "    </tr>\n",
              "    <tr>\n",
              "      <th>2012-02-01</th>\n",
              "      <td>34.674999</td>\n",
              "      <td>34.990002</td>\n",
              "      <td>34.459999</td>\n",
              "      <td>34.930000</td>\n",
              "      <td>24269600</td>\n",
              "    </tr>\n",
              "    <tr>\n",
              "      <th>2012-03-01</th>\n",
              "      <td>36.810001</td>\n",
              "      <td>37.195000</td>\n",
              "      <td>36.654999</td>\n",
              "      <td>37.005001</td>\n",
              "      <td>41063600</td>\n",
              "    </tr>\n",
              "    <tr>\n",
              "      <th>2012-04-01</th>\n",
              "      <td>38.209999</td>\n",
              "      <td>38.910000</td>\n",
              "      <td>37.965000</td>\n",
              "      <td>38.314999</td>\n",
              "      <td>26517600</td>\n",
              "    </tr>\n",
              "    <tr>\n",
              "      <th>2012-05-01</th>\n",
              "      <td>38.680000</td>\n",
              "      <td>38.869999</td>\n",
              "      <td>38.599998</td>\n",
              "      <td>38.735001</td>\n",
              "      <td>31913000</td>\n",
              "    </tr>\n",
              "  </tbody>\n",
              "</table>\n",
              "</div>\n",
              "      <button class=\"colab-df-convert\" onclick=\"convertToInteractive('df-13c026d8-4a91-4b35-a3dd-23b2ba95da8b')\"\n",
              "              title=\"Convert this dataframe to an interactive table.\"\n",
              "              style=\"display:none;\">\n",
              "        \n",
              "  <svg xmlns=\"http://www.w3.org/2000/svg\" height=\"24px\"viewBox=\"0 0 24 24\"\n",
              "       width=\"24px\">\n",
              "    <path d=\"M0 0h24v24H0V0z\" fill=\"none\"/>\n",
              "    <path d=\"M18.56 5.44l.94 2.06.94-2.06 2.06-.94-2.06-.94-.94-2.06-.94 2.06-2.06.94zm-11 1L8.5 8.5l.94-2.06 2.06-.94-2.06-.94L8.5 2.5l-.94 2.06-2.06.94zm10 10l.94 2.06.94-2.06 2.06-.94-2.06-.94-.94-2.06-.94 2.06-2.06.94z\"/><path d=\"M17.41 7.96l-1.37-1.37c-.4-.4-.92-.59-1.43-.59-.52 0-1.04.2-1.43.59L10.3 9.45l-7.72 7.72c-.78.78-.78 2.05 0 2.83L4 21.41c.39.39.9.59 1.41.59.51 0 1.02-.2 1.41-.59l7.78-7.78 2.81-2.81c.8-.78.8-2.07 0-2.86zM5.41 20L4 18.59l7.72-7.72 1.47 1.35L5.41 20z\"/>\n",
              "  </svg>\n",
              "      </button>\n",
              "      \n",
              "  <style>\n",
              "    .colab-df-container {\n",
              "      display:flex;\n",
              "      flex-wrap:wrap;\n",
              "      gap: 12px;\n",
              "    }\n",
              "\n",
              "    .colab-df-convert {\n",
              "      background-color: #E8F0FE;\n",
              "      border: none;\n",
              "      border-radius: 50%;\n",
              "      cursor: pointer;\n",
              "      display: none;\n",
              "      fill: #1967D2;\n",
              "      height: 32px;\n",
              "      padding: 0 0 0 0;\n",
              "      width: 32px;\n",
              "    }\n",
              "\n",
              "    .colab-df-convert:hover {\n",
              "      background-color: #E2EBFA;\n",
              "      box-shadow: 0px 1px 2px rgba(60, 64, 67, 0.3), 0px 1px 3px 1px rgba(60, 64, 67, 0.15);\n",
              "      fill: #174EA6;\n",
              "    }\n",
              "\n",
              "    [theme=dark] .colab-df-convert {\n",
              "      background-color: #3B4455;\n",
              "      fill: #D2E3FC;\n",
              "    }\n",
              "\n",
              "    [theme=dark] .colab-df-convert:hover {\n",
              "      background-color: #434B5C;\n",
              "      box-shadow: 0px 1px 3px 1px rgba(0, 0, 0, 0.15);\n",
              "      filter: drop-shadow(0px 1px 2px rgba(0, 0, 0, 0.3));\n",
              "      fill: #FFFFFF;\n",
              "    }\n",
              "  </style>\n",
              "\n",
              "      <script>\n",
              "        const buttonEl =\n",
              "          document.querySelector('#df-13c026d8-4a91-4b35-a3dd-23b2ba95da8b button.colab-df-convert');\n",
              "        buttonEl.style.display =\n",
              "          google.colab.kernel.accessAllowed ? 'block' : 'none';\n",
              "\n",
              "        async function convertToInteractive(key) {\n",
              "          const element = document.querySelector('#df-13c026d8-4a91-4b35-a3dd-23b2ba95da8b');\n",
              "          const dataTable =\n",
              "            await google.colab.kernel.invokeFunction('convertToInteractive',\n",
              "                                                     [key], {});\n",
              "          if (!dataTable) return;\n",
              "\n",
              "          const docLinkHtml = 'Like what you see? Visit the ' +\n",
              "            '<a target=\"_blank\" href=https://colab.research.google.com/notebooks/data_table.ipynb>data table notebook</a>'\n",
              "            + ' to learn more about interactive tables.';\n",
              "          element.innerHTML = '';\n",
              "          dataTable['output_type'] = 'display_data';\n",
              "          await google.colab.output.renderOutput(dataTable, element);\n",
              "          const docLink = document.createElement('div');\n",
              "          docLink.innerHTML = docLinkHtml;\n",
              "          element.appendChild(docLink);\n",
              "        }\n",
              "      </script>\n",
              "    </div>\n",
              "  </div>\n",
              "  "
            ]
          },
          "metadata": {},
          "execution_count": 38
        }
      ]
    },
    {
      "cell_type": "markdown",
      "source": [
        "### Построим график dataframe df_final"
      ],
      "metadata": {
        "id": "eWrg8BVt5w7R"
      }
    },
    {
      "cell_type": "code",
      "source": [
        "title = 'Month_Max_Close_last 10 years '\n",
        "ylabel='USD'\n",
        "xlabel='date' \n",
        "\n",
        "ax = df_final['Close'].plot(figsize=(12,6),title=title)\n",
        "ax.autoscale(axis='x',tight=True)\n",
        "ax.set(xlabel=xlabel, ylabel=ylabel);"
      ],
      "metadata": {
        "colab": {
          "base_uri": "https://localhost:8080/",
          "height": 404
        },
        "id": "LP9RQO_5lzUl",
        "outputId": "b65696a5-0b0a-40bb-f102-7da1c410ab4c"
      },
      "execution_count": 41,
      "outputs": [
        {
          "output_type": "display_data",
          "data": {
            "text/plain": [
              "<Figure size 864x432 with 1 Axes>"
            ],
            "image/png": "[encoded data removed]"
          },
          "metadata": {
            "needs_background": "light"
          }
        }
      ]
    },
    {
      "cell_type": "markdown",
      "source": [
        "### ETS декомпозиция"
      ],
      "metadata": {
        "id": "GjQ8FSNJjCtl"
      }
    },
    {
      "cell_type": "code",
      "source": [
        "result = seasonal_decompose(df_final['Close'], model='add')\n",
        "result.plot();"
      ],
      "metadata": {
        "colab": {
          "base_uri": "https://localhost:8080/",
          "height": 297
        },
        "id": "g7B1xyQlYfEF",
        "outputId": "e531fc77-6728-49b2-a143-4ae1014d5a53"
      },
      "execution_count": 39,
      "outputs": [
        {
          "output_type": "display_data",
          "data": {
            "text/plain": [
              "<Figure size 432x288 with 4 Axes>"
            ],
            "image/png": "[encoded data removed]"
          },
          "metadata": {
            "needs_background": "light"
          }
        }
      ]
    },
    {
      "cell_type": "markdown",
      "metadata": {
        "id": "MGtB5JCsF6SO"
      },
      "source": [
        "Несмотря на небольшой масштаб по сравнению с общими значениями, существует крошечная годовая сезонность."
      ]
    },
    {
      "cell_type": "markdown",
      "metadata": {
        "id": "bo9yHOwXF6SO"
      },
      "source": [
        "### Запускаем <tt>pmdarima.auto_arima</tt>"
      ]
    },
    {
      "cell_type": "code",
      "execution_count": 40,
      "metadata": {
        "id": "H28ED9FDF6SO",
        "outputId": "c8c467ac-f4d4-4806-aae2-178ce5d2702c",
        "colab": {
          "base_uri": "https://localhost:8080/",
          "height": 537
        }
      },
      "outputs": [
        {
          "output_type": "execute_result",
          "data": {
            "text/plain": [
              "<class 'statsmodels.iolib.summary.Summary'>\n",
              "\"\"\"\n",
              "                                      SARIMAX Results                                       \n",
              "============================================================================================\n",
              "Dep. Variable:                                    y   No. Observations:                  120\n",
              "Model:             SARIMAX(2, 1, 2)x(1, 0, [1], 12)   Log Likelihood                -214.961\n",
              "Date:                              Tue, 22 Mar 2022   AIC                            445.921\n",
              "Time:                                      17:12:20   BIC                            468.154\n",
              "Sample:                                           0   HQIC                           454.949\n",
              "                                              - 120                                         \n",
              "Covariance Type:                                opg                                         \n",
              "==============================================================================\n",
              "                 coef    std err          z      P>|z|      [0.025      0.975]\n",
              "------------------------------------------------------------------------------\n",
              "intercept      0.0130      0.023      0.553      0.580      -0.033       0.059\n",
              "ar.L1          0.7843      0.349      2.250      0.024       0.101       1.468\n",
              "ar.L2         -0.0781      0.296     -0.264      0.792      -0.658       0.502\n",
              "ma.L1         -0.7127      0.329     -2.168      0.030      -1.357      -0.068\n",
              "ma.L2         -0.2546      0.340     -0.749      0.454      -0.921       0.412\n",
              "ar.S.L12       0.7288      0.456      1.599      0.110      -0.164       1.622\n",
              "ma.S.L12      -0.8716      0.475     -1.834      0.067      -1.803       0.060\n",
              "sigma2         2.1546      0.418      5.152      0.000       1.335       2.974\n",
              "===================================================================================\n",
              "Ljung-Box (L1) (Q):                   0.08   Jarque-Bera (JB):               211.30\n",
              "Prob(Q):                              0.78   Prob(JB):                         0.00\n",
              "Heteroskedasticity (H):               4.75   Skew:                            -1.18\n",
              "Prob(H) (two-sided):                  0.00   Kurtosis:                         9.09\n",
              "===================================================================================\n",
              "\n",
              "Warnings:\n",
              "[1] Covariance matrix calculated using the outer product of gradients (complex-step).\n",
              "\"\"\""
            ],
            "text/html": [
              "<table class=\"simpletable\">\n",
              "<caption>SARIMAX Results</caption>\n",
              "<tr>\n",
              "  <th>Dep. Variable:</th>                   <td>y</td>                <th>  No. Observations:  </th>    <td>120</td>  \n",
              "</tr>\n",
              "<tr>\n",
              "  <th>Model:</th>           <td>SARIMAX(2, 1, 2)x(1, 0, [1], 12)</td> <th>  Log Likelihood     </th> <td>-214.961</td>\n",
              "</tr>\n",
              "<tr>\n",
              "  <th>Date:</th>                    <td>Tue, 22 Mar 2022</td>         <th>  AIC                </th>  <td>445.921</td>\n",
              "</tr>\n",
              "<tr>\n",
              "  <th>Time:</th>                        <td>17:12:20</td>             <th>  BIC                </th>  <td>468.154</td>\n",
              "</tr>\n",
              "<tr>\n",
              "  <th>Sample:</th>                          <td>0</td>                <th>  HQIC               </th>  <td>454.949</td>\n",
              "</tr>\n",
              "<tr>\n",
              "  <th></th>                              <td> - 120</td>              <th>                     </th>     <td> </td>   \n",
              "</tr>\n",
              "<tr>\n",
              "  <th>Covariance Type:</th>                <td>opg</td>               <th>                     </th>     <td> </td>   \n",
              "</tr>\n",
              "</table>\n",
              "<table class=\"simpletable\">\n",
              "<tr>\n",
              "      <td></td>         <th>coef</th>     <th>std err</th>      <th>z</th>      <th>P>|z|</th>  <th>[0.025</th>    <th>0.975]</th>  \n",
              "</tr>\n",
              "<tr>\n",
              "  <th>intercept</th> <td>    0.0130</td> <td>    0.023</td> <td>    0.553</td> <td> 0.580</td> <td>   -0.033</td> <td>    0.059</td>\n",
              "</tr>\n",
              "<tr>\n",
              "  <th>ar.L1</th>     <td>    0.7843</td> <td>    0.349</td> <td>    2.250</td> <td> 0.024</td> <td>    0.101</td> <td>    1.468</td>\n",
              "</tr>\n",
              "<tr>\n",
              "  <th>ar.L2</th>     <td>   -0.0781</td> <td>    0.296</td> <td>   -0.264</td> <td> 0.792</td> <td>   -0.658</td> <td>    0.502</td>\n",
              "</tr>\n",
              "<tr>\n",
              "  <th>ma.L1</th>     <td>   -0.7127</td> <td>    0.329</td> <td>   -2.168</td> <td> 0.030</td> <td>   -1.357</td> <td>   -0.068</td>\n",
              "</tr>\n",
              "<tr>\n",
              "  <th>ma.L2</th>     <td>   -0.2546</td> <td>    0.340</td> <td>   -0.749</td> <td> 0.454</td> <td>   -0.921</td> <td>    0.412</td>\n",
              "</tr>\n",
              "<tr>\n",
              "  <th>ar.S.L12</th>  <td>    0.7288</td> <td>    0.456</td> <td>    1.599</td> <td> 0.110</td> <td>   -0.164</td> <td>    1.622</td>\n",
              "</tr>\n",
              "<tr>\n",
              "  <th>ma.S.L12</th>  <td>   -0.8716</td> <td>    0.475</td> <td>   -1.834</td> <td> 0.067</td> <td>   -1.803</td> <td>    0.060</td>\n",
              "</tr>\n",
              "<tr>\n",
              "  <th>sigma2</th>    <td>    2.1546</td> <td>    0.418</td> <td>    5.152</td> <td> 0.000</td> <td>    1.335</td> <td>    2.974</td>\n",
              "</tr>\n",
              "</table>\n",
              "<table class=\"simpletable\">\n",
              "<tr>\n",
              "  <th>Ljung-Box (L1) (Q):</th>     <td>0.08</td> <th>  Jarque-Bera (JB):  </th> <td>211.30</td>\n",
              "</tr>\n",
              "<tr>\n",
              "  <th>Prob(Q):</th>                <td>0.78</td> <th>  Prob(JB):          </th>  <td>0.00</td> \n",
              "</tr>\n",
              "<tr>\n",
              "  <th>Heteroskedasticity (H):</th> <td>4.75</td> <th>  Skew:              </th>  <td>-1.18</td>\n",
              "</tr>\n",
              "<tr>\n",
              "  <th>Prob(H) (two-sided):</th>    <td>0.00</td> <th>  Kurtosis:          </th>  <td>9.09</td> \n",
              "</tr>\n",
              "</table><br/><br/>Warnings:<br/>[1] Covariance matrix calculated using the outer product of gradients (complex-step)."
            ]
          },
          "metadata": {},
          "execution_count": 40
        }
      ],
      "source": [
        "# m=12\n",
        "auto_arima(df_final['Close'], seasonal=True, m=12).summary()"
      ]
    },
    {
      "cell_type": "markdown",
      "metadata": {
        "id": "LxsFBmI5F6SP"
      },
      "source": [
        "\n",
        "### делим на train/test "
      ]
    },
    {
      "cell_type": "code",
      "execution_count": 42,
      "metadata": {
        "id": "5Su28eH-F6SP",
        "outputId": "06f9cfa7-3ee7-49e2-fb19-b360100d8ab1",
        "colab": {
          "base_uri": "https://localhost:8080/",
          "height": 0
        }
      },
      "outputs": [
        {
          "output_type": "execute_result",
          "data": {
            "text/plain": [
              "120"
            ]
          },
          "metadata": {},
          "execution_count": 42
        }
      ],
      "source": [
        "len(df_final)"
      ]
    },
    {
      "cell_type": "code",
      "execution_count": 72,
      "metadata": {
        "id": "TE6gDE62F6SP"
      },
      "outputs": [],
      "source": [
        "# \n",
        "train = df_final.iloc[100:110]\n",
        "test = df_final.iloc[110:]\n"
      ]
    },
    {
      "cell_type": "code",
      "source": [
        "train.info()"
      ],
      "metadata": {
        "colab": {
          "base_uri": "https://localhost:8080/",
          "height": 0
        },
        "id": "kVpdBcTlk2jm",
        "outputId": "92ceb65b-f5cd-4f38-e129-a862e1a58204"
      },
      "execution_count": 73,
      "outputs": [
        {
          "output_type": "stream",
          "name": "stdout",
          "text": [
            "<class 'pandas.core.frame.DataFrame'>\n",
            "DatetimeIndex: 10 entries, 2020-05-01 to 2021-02-01\n",
            "Data columns (total 5 columns):\n",
            " #   Column  Non-Null Count  Dtype  \n",
            "---  ------  --------------  -----  \n",
            " 0   Open    10 non-null     float64\n",
            " 1   High    10 non-null     float64\n",
            " 2   Low     10 non-null     float64\n",
            " 3   Close   10 non-null     float64\n",
            " 4   Volume  10 non-null     int64  \n",
            "dtypes: float64(4), int64(1)\n",
            "memory usage: 480.0 bytes\n"
          ]
        }
      ]
    },
    {
      "cell_type": "code",
      "source": [
        "test.info()"
      ],
      "metadata": {
        "colab": {
          "base_uri": "https://localhost:8080/",
          "height": 0
        },
        "id": "aiqe2SOqk20N",
        "outputId": "6b4ddb11-22d8-47ba-99d9-cc8204c7cb1d"
      },
      "execution_count": 74,
      "outputs": [
        {
          "output_type": "stream",
          "name": "stdout",
          "text": [
            "<class 'pandas.core.frame.DataFrame'>\n",
            "DatetimeIndex: 10 entries, 2021-03-01 to 2021-12-01\n",
            "Data columns (total 5 columns):\n",
            " #   Column  Non-Null Count  Dtype  \n",
            "---  ------  --------------  -----  \n",
            " 0   Open    10 non-null     float64\n",
            " 1   High    10 non-null     float64\n",
            " 2   Low     10 non-null     float64\n",
            " 3   Close   10 non-null     float64\n",
            " 4   Volume  10 non-null     int64  \n",
            "dtypes: float64(4), int64(1)\n",
            "memory usage: 480.0 bytes\n"
          ]
        }
      ]
    },
    {
      "cell_type": "markdown",
      "metadata": {
        "id": "crIK63OnF6SP"
      },
      "source": [
        "### Обучаем SARIMA (1, 1, 2)x(2, 0, 2, 12)"
      ]
    },
    {
      "cell_type": "code",
      "execution_count": 75,
      "metadata": {
        "id": "SvGP_30qF6SQ",
        "outputId": "ecad158f-70dc-4502-a470-228490b12562",
        "colab": {
          "base_uri": "https://localhost:8080/",
          "height": 554
        }
      },
      "outputs": [
        {
          "output_type": "execute_result",
          "data": {
            "text/plain": [
              "<class 'statsmodels.iolib.summary.Summary'>\n",
              "\"\"\"\n",
              "                                     SARIMAX Results                                      \n",
              "==========================================================================================\n",
              "Dep. Variable:                              Close   No. Observations:                   10\n",
              "Model:             SARIMAX(1, 1, 2)x(2, 0, 2, 12)   Log Likelihood                 -17.619\n",
              "Date:                            Tue, 22 Mar 2022   AIC                             51.238\n",
              "Time:                                    18:37:37   BIC                             52.816\n",
              "Sample:                                05-01-2020   HQIC                            47.833\n",
              "                                     - 02-01-2021                                         \n",
              "Covariance Type:                              opg                                         \n",
              "==============================================================================\n",
              "                 coef    std err          z      P>|z|      [0.025      0.975]\n",
              "------------------------------------------------------------------------------\n",
              "ar.L1         -0.4679      6.347     -0.074      0.941     -12.908      11.973\n",
              "ma.L1          0.7808     53.659      0.015      0.988    -104.389     105.951\n",
              "ma.L2         -0.2112     10.771     -0.020      0.984     -21.322      20.900\n",
              "ar.S.L12       0.2774   9.71e+04   2.86e-06      1.000    -1.9e+05     1.9e+05\n",
              "ar.S.L24       0.6726   9.08e+04    7.4e-06      1.000   -1.78e+05    1.78e+05\n",
              "ma.S.L12       0.8902   2.56e+05   3.48e-06      1.000   -5.02e+05    5.02e+05\n",
              "ma.S.L24       0.7395   7.15e+04   1.03e-05      1.000    -1.4e+05     1.4e+05\n",
              "sigma2         0.0630   4091.345   1.54e-05      1.000   -8018.826    8018.952\n",
              "===================================================================================\n",
              "Ljung-Box (L1) (Q):                   0.19   Jarque-Bera (JB):                 0.81\n",
              "Prob(Q):                              0.66   Prob(JB):                         0.67\n",
              "Heteroskedasticity (H):               0.44   Skew:                            -0.11\n",
              "Prob(H) (two-sided):                  0.51   Kurtosis:                         1.54\n",
              "===================================================================================\n",
              "\n",
              "Warnings:\n",
              "[1] Covariance matrix calculated using the outer product of gradients (complex-step).\n",
              "[2] Covariance matrix is singular or near-singular, with condition number 8.1e+17. Standard errors may be unstable.\n",
              "\"\"\""
            ],
            "text/html": [
              "<table class=\"simpletable\">\n",
              "<caption>SARIMAX Results</caption>\n",
              "<tr>\n",
              "  <th>Dep. Variable:</th>                <td>Close</td>             <th>  No. Observations:  </th>   <td>10</td>   \n",
              "</tr>\n",
              "<tr>\n",
              "  <th>Model:</th>           <td>SARIMAX(1, 1, 2)x(2, 0, 2, 12)</td> <th>  Log Likelihood     </th> <td>-17.619</td>\n",
              "</tr>\n",
              "<tr>\n",
              "  <th>Date:</th>                   <td>Tue, 22 Mar 2022</td>        <th>  AIC                </th> <td>51.238</td> \n",
              "</tr>\n",
              "<tr>\n",
              "  <th>Time:</th>                       <td>18:37:37</td>            <th>  BIC                </th> <td>52.816</td> \n",
              "</tr>\n",
              "<tr>\n",
              "  <th>Sample:</th>                    <td>05-01-2020</td>           <th>  HQIC               </th> <td>47.833</td> \n",
              "</tr>\n",
              "<tr>\n",
              "  <th></th>                          <td>- 02-01-2021</td>          <th>                     </th>    <td> </td>   \n",
              "</tr>\n",
              "<tr>\n",
              "  <th>Covariance Type:</th>               <td>opg</td>              <th>                     </th>    <td> </td>   \n",
              "</tr>\n",
              "</table>\n",
              "<table class=\"simpletable\">\n",
              "<tr>\n",
              "      <td></td>        <th>coef</th>     <th>std err</th>      <th>z</th>      <th>P>|z|</th>  <th>[0.025</th>    <th>0.975]</th>  \n",
              "</tr>\n",
              "<tr>\n",
              "  <th>ar.L1</th>    <td>   -0.4679</td> <td>    6.347</td> <td>   -0.074</td> <td> 0.941</td> <td>  -12.908</td> <td>   11.973</td>\n",
              "</tr>\n",
              "<tr>\n",
              "  <th>ma.L1</th>    <td>    0.7808</td> <td>   53.659</td> <td>    0.015</td> <td> 0.988</td> <td> -104.389</td> <td>  105.951</td>\n",
              "</tr>\n",
              "<tr>\n",
              "  <th>ma.L2</th>    <td>   -0.2112</td> <td>   10.771</td> <td>   -0.020</td> <td> 0.984</td> <td>  -21.322</td> <td>   20.900</td>\n",
              "</tr>\n",
              "<tr>\n",
              "  <th>ar.S.L12</th> <td>    0.2774</td> <td> 9.71e+04</td> <td> 2.86e-06</td> <td> 1.000</td> <td> -1.9e+05</td> <td>  1.9e+05</td>\n",
              "</tr>\n",
              "<tr>\n",
              "  <th>ar.S.L24</th> <td>    0.6726</td> <td> 9.08e+04</td> <td>  7.4e-06</td> <td> 1.000</td> <td>-1.78e+05</td> <td> 1.78e+05</td>\n",
              "</tr>\n",
              "<tr>\n",
              "  <th>ma.S.L12</th> <td>    0.8902</td> <td> 2.56e+05</td> <td> 3.48e-06</td> <td> 1.000</td> <td>-5.02e+05</td> <td> 5.02e+05</td>\n",
              "</tr>\n",
              "<tr>\n",
              "  <th>ma.S.L24</th> <td>    0.7395</td> <td> 7.15e+04</td> <td> 1.03e-05</td> <td> 1.000</td> <td> -1.4e+05</td> <td>  1.4e+05</td>\n",
              "</tr>\n",
              "<tr>\n",
              "  <th>sigma2</th>   <td>    0.0630</td> <td> 4091.345</td> <td> 1.54e-05</td> <td> 1.000</td> <td>-8018.826</td> <td> 8018.952</td>\n",
              "</tr>\n",
              "</table>\n",
              "<table class=\"simpletable\">\n",
              "<tr>\n",
              "  <th>Ljung-Box (L1) (Q):</th>     <td>0.19</td> <th>  Jarque-Bera (JB):  </th> <td>0.81</td> \n",
              "</tr>\n",
              "<tr>\n",
              "  <th>Prob(Q):</th>                <td>0.66</td> <th>  Prob(JB):          </th> <td>0.67</td> \n",
              "</tr>\n",
              "<tr>\n",
              "  <th>Heteroskedasticity (H):</th> <td>0.44</td> <th>  Skew:              </th> <td>-0.11</td>\n",
              "</tr>\n",
              "<tr>\n",
              "  <th>Prob(H) (two-sided):</th>    <td>0.51</td> <th>  Kurtosis:          </th> <td>1.54</td> \n",
              "</tr>\n",
              "</table><br/><br/>Warnings:<br/>[1] Covariance matrix calculated using the outer product of gradients (complex-step).<br/>[2] Covariance matrix is singular or near-singular, with condition number 8.1e+17. Standard errors may be unstable."
            ]
          },
          "metadata": {},
          "execution_count": 75
        }
      ],
      "source": [
        "# (1, 1, 2)x(2, 0, 2, 12)\n",
        "model = SARIMAX(train['Close'], order=(1, 1, 2), seasonal_order=(2, 0, 2, 12) )\n",
        "results = model.fit()\n",
        "results.summary()"
      ]
    },
    {
      "cell_type": "code",
      "execution_count": 76,
      "metadata": {
        "id": "e-HQnKLxF6SQ"
      },
      "outputs": [],
      "source": [
        "# предсказанные значения\n",
        "start=len(train)\n",
        "end=len(train)+len(test)-1\n",
        "predictions = results.predict(start=start, end=end, dynamic=False, typ='levels').rename('SARIMA(1, 1, 2)x(2, 0, 2, 12) ')"
      ]
    },
    {
      "cell_type": "code",
      "execution_count": 77,
      "metadata": {
        "id": "v0AnzPzrF6SQ",
        "outputId": "16df3e00-d4ec-4240-c372-2de356911381",
        "colab": {
          "base_uri": "https://localhost:8080/",
          "height": 0
        }
      },
      "outputs": [
        {
          "output_type": "stream",
          "name": "stdout",
          "text": [
            "predicted=51.36      , expected=53.85      \n",
            "predicted=50.66      , expected=54.61      \n",
            "predicted=51.37      , expected=55.49      \n",
            "predicted=54.07      , expected=56.24      \n",
            "predicted=52.74      , expected=57.26      \n",
            "predicted=54.05      , expected=57.48      \n",
            "predicted=55.38      , expected=56.77      \n",
            "predicted=55.29      , expected=56.37      \n",
            "predicted=58.11      , expected=56.84      \n",
            "predicted=58.96      , expected=58.65      \n"
          ]
        }
      ],
      "source": [
        "# Сравниваем результаты\n",
        "for i in range(len(predictions)):\n",
        "    print(f\"predicted={predictions[i]:<11.4}, expected={test['Close'][i]:<11.4}\")"
      ]
    },
    {
      "cell_type": "markdown",
      "source": [
        "Строим графики"
      ],
      "metadata": {
        "id": "-6LoOK2t6ObY"
      }
    },
    {
      "cell_type": "code",
      "execution_count": 78,
      "metadata": {
        "id": "dTG_vmtDF6SR",
        "outputId": "cd2dd075-b296-4e6a-aa54-301a1087e3bb",
        "colab": {
          "base_uri": "https://localhost:8080/",
          "height": 400
        }
      },
      "outputs": [
        {
          "output_type": "display_data",
          "data": {
            "text/plain": [
              "<Figure size 864x432 with 1 Axes>"
            ],
            "image/png": "[encoded data removed]"
          },
          "metadata": {
            "needs_background": "light"
          }
        }
      ],
      "source": [
        "# графики\n",
        "title = 'Close_Stock Price Coca-Cola '\n",
        "ylabel='USD'\n",
        "xlabel=''\n",
        "\n",
        "ax = test['Close'].plot(legend=True,figsize=(12,6),title=title)\n",
        "predictions.plot(legend=True)\n",
        "ax.autoscale(axis='x',tight=True)\n",
        "ax.set(xlabel=xlabel, ylabel=ylabel);"
      ]
    },
    {
      "cell_type": "markdown",
      "metadata": {
        "id": "txDF3Y55F6SR"
      },
      "source": [
        "### Оценка модели"
      ]
    },
    {
      "cell_type": "code",
      "execution_count": 79,
      "metadata": {
        "id": "AfN2CHCWF6SR",
        "outputId": "c6d3db58-23f5-4d40-b40e-bfaede7e7967",
        "colab": {
          "base_uri": "https://localhost:8080/",
          "height": 0
        }
      },
      "outputs": [
        {
          "output_type": "stream",
          "name": "stdout",
          "text": [
            "SARIMA(1, 1, 2)x(2, 0, 2, 12) MSE Error:      8.0443\n"
          ]
        }
      ],
      "source": [
        "from sklearn.metrics import mean_squared_error\n",
        "\n",
        "error = mean_squared_error(test['Close'], predictions)\n",
        "print(f'SARIMA(1, 1, 2)x(2, 0, 2, 12) MSE Error: {error:11.5}')"
      ]
    },
    {
      "cell_type": "code",
      "execution_count": 80,
      "metadata": {
        "id": "Tw3HKd-gF6SS",
        "outputId": "0bcc093b-50a1-4c8d-f935-467d387444ab",
        "colab": {
          "base_uri": "https://localhost:8080/",
          "height": 0
        }
      },
      "outputs": [
        {
          "output_type": "stream",
          "name": "stdout",
          "text": [
            "SARIMA(1, 1, 2)x(2, 0, 2, 12) RMSE Error: 2.836241292\n"
          ]
        }
      ],
      "source": [
        "from statsmodels.tools.eval_measures import rmse\n",
        "# rmse = root mse\n",
        "error = rmse(test['Close'], predictions)\n",
        "print(f'SARIMA(1, 1, 2)x(2, 0, 2, 12) RMSE Error: {error:11.10}')"
      ]
    },
    {
      "cell_type": "markdown",
      "source": [
        "RMSE около 3 USD, это много для принятия решения, но посмотрим каким будет прогноз. Если положительным (рост акций) - вернемся к вопросу RMSE"
      ],
      "metadata": {
        "id": "RJ5NEIAt7BS3"
      }
    },
    {
      "cell_type": "markdown",
      "metadata": {
        "id": "A2BAKxNKF6SS"
      },
      "source": [
        "\n",
        "### Обучаем модель на полных данных и прогнозируем будущее :)"
      ]
    },
    {
      "cell_type": "code",
      "execution_count": 81,
      "metadata": {
        "id": "RwRs_k8BF6SS"
      },
      "outputs": [],
      "source": [
        "# (1, 1, 2)x(2, 0, 2, 12)\n",
        "model = SARIMAX(df_final['Close'],order=(1, 1, 2),seasonal_order=(2, 0, 2, 12))\n",
        "results = model.fit()\n",
        "\n",
        "fcast = results.predict(len(df_final),len(df_final)+12,typ='levels').rename('SARIMA(1, 1, 2)x(2, 0, 2, 12) Forecast')\n"
      ]
    },
    {
      "cell_type": "code",
      "execution_count": 82,
      "metadata": {
        "id": "wI8PLcj3F6SS",
        "outputId": "79bc3614-f175-4075-edeb-e8420a6e4269",
        "colab": {
          "base_uri": "https://localhost:8080/",
          "height": 390
        }
      },
      "outputs": [
        {
          "output_type": "display_data",
          "data": {
            "text/plain": [
              "<Figure size 864x432 with 1 Axes>"
            ],
            "image/png": "[encoded data removed]"
          },
          "metadata": {
            "needs_background": "light"
          }
        }
      ],
      "source": [
        "# график\n",
        "title = 'Stock Price Coca-Cola '\n",
        "ylabel='USD'\n",
        "xlabel=''\n",
        "\n",
        "ax = df_final['Close'].plot(legend=True,figsize=(12,6),title=title)\n",
        "fcast.plot(legend=True)\n",
        "ax.autoscale(axis='x',tight=True)\n",
        "ax.set(xlabel=xlabel, ylabel=ylabel);"
      ]
    },
    {
      "cell_type": "markdown",
      "source": [
        "Вывод: в результате исследования построена модель прогнозирования стоимости акций. Результат прогноза - падение стоимости, т.е. среднесрочное инвестирование нецелесообразно"
      ],
      "metadata": {
        "id": "3U8mlEY17kpH"
      }
    }
  ],
  "metadata": {
    "kernelspec": {
      "display_name": "Python 3 (ipykernel)",
      "language": "python",
      "name": "python3"
    },
    "language_info": {
      "codemirror_mode": {
        "name": "ipython",
        "version": 3
      },
      "file_extension": ".py",
      "mimetype": "text/x-python",
      "name": "python",
      "nbconvert_exporter": "python",
      "pygments_lexer": "ipython3",
      "version": "3.9.7"
    },
    "colab": {
      "name": "Итоговая аттестация Бутин SARIMA.ipynb",
      "provenance": [],
      "collapsed_sections": [],
      "include_colab_link": true
    }
  },
  "nbformat": 4,
  "nbformat_minor": 0
}